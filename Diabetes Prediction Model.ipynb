{
 "cells": [
  {
   "cell_type": "code",
   "execution_count": 132,
   "id": "d2d0b0a9",
   "metadata": {},
   "outputs": [],
   "source": [
    "import pandas as pd\n",
    "import numpy as np\n",
    "import matplotlib.pyplot as plt\n",
    "import seaborn as sns\n",
    "import time"
   ]
  },
  {
   "cell_type": "code",
   "execution_count": 63,
   "id": "6d39ea14",
   "metadata": {},
   "outputs": [
    {
     "data": {
      "text/plain": [
       "['.ipynb_checkpoints',\n",
       " 'Diabeted Prediction.ipynb',\n",
       " 'diabetes_prediction_dataset.csv',\n",
       " 'Untitled.ipynb']"
      ]
     },
     "execution_count": 63,
     "metadata": {},
     "output_type": "execute_result"
    }
   ],
   "source": [
    "import os\n",
    "os.listdir()"
   ]
  },
  {
   "cell_type": "markdown",
   "id": "63287910",
   "metadata": {},
   "source": [
    "# Loading the Data\n"
   ]
  },
  {
   "cell_type": "code",
   "execution_count": 64,
   "id": "72690c42",
   "metadata": {},
   "outputs": [
    {
     "data": {
      "text/html": [
       "<div>\n",
       "<style scoped>\n",
       "    .dataframe tbody tr th:only-of-type {\n",
       "        vertical-align: middle;\n",
       "    }\n",
       "\n",
       "    .dataframe tbody tr th {\n",
       "        vertical-align: top;\n",
       "    }\n",
       "\n",
       "    .dataframe thead th {\n",
       "        text-align: right;\n",
       "    }\n",
       "</style>\n",
       "<table border=\"1\" class=\"dataframe\">\n",
       "  <thead>\n",
       "    <tr style=\"text-align: right;\">\n",
       "      <th></th>\n",
       "      <th>gender</th>\n",
       "      <th>age</th>\n",
       "      <th>hypertension</th>\n",
       "      <th>heart_disease</th>\n",
       "      <th>smoking_history</th>\n",
       "      <th>bmi</th>\n",
       "      <th>HbA1c_level</th>\n",
       "      <th>blood_glucose_level</th>\n",
       "      <th>diabetes</th>\n",
       "    </tr>\n",
       "  </thead>\n",
       "  <tbody>\n",
       "    <tr>\n",
       "      <th>0</th>\n",
       "      <td>Female</td>\n",
       "      <td>80.0</td>\n",
       "      <td>0</td>\n",
       "      <td>1</td>\n",
       "      <td>never</td>\n",
       "      <td>25.19</td>\n",
       "      <td>6.6</td>\n",
       "      <td>140</td>\n",
       "      <td>0</td>\n",
       "    </tr>\n",
       "    <tr>\n",
       "      <th>1</th>\n",
       "      <td>Female</td>\n",
       "      <td>54.0</td>\n",
       "      <td>0</td>\n",
       "      <td>0</td>\n",
       "      <td>No Info</td>\n",
       "      <td>27.32</td>\n",
       "      <td>6.6</td>\n",
       "      <td>80</td>\n",
       "      <td>0</td>\n",
       "    </tr>\n",
       "    <tr>\n",
       "      <th>2</th>\n",
       "      <td>Male</td>\n",
       "      <td>28.0</td>\n",
       "      <td>0</td>\n",
       "      <td>0</td>\n",
       "      <td>never</td>\n",
       "      <td>27.32</td>\n",
       "      <td>5.7</td>\n",
       "      <td>158</td>\n",
       "      <td>0</td>\n",
       "    </tr>\n",
       "    <tr>\n",
       "      <th>3</th>\n",
       "      <td>Female</td>\n",
       "      <td>36.0</td>\n",
       "      <td>0</td>\n",
       "      <td>0</td>\n",
       "      <td>current</td>\n",
       "      <td>23.45</td>\n",
       "      <td>5.0</td>\n",
       "      <td>155</td>\n",
       "      <td>0</td>\n",
       "    </tr>\n",
       "    <tr>\n",
       "      <th>4</th>\n",
       "      <td>Male</td>\n",
       "      <td>76.0</td>\n",
       "      <td>1</td>\n",
       "      <td>1</td>\n",
       "      <td>current</td>\n",
       "      <td>20.14</td>\n",
       "      <td>4.8</td>\n",
       "      <td>155</td>\n",
       "      <td>0</td>\n",
       "    </tr>\n",
       "    <tr>\n",
       "      <th>...</th>\n",
       "      <td>...</td>\n",
       "      <td>...</td>\n",
       "      <td>...</td>\n",
       "      <td>...</td>\n",
       "      <td>...</td>\n",
       "      <td>...</td>\n",
       "      <td>...</td>\n",
       "      <td>...</td>\n",
       "      <td>...</td>\n",
       "    </tr>\n",
       "    <tr>\n",
       "      <th>99995</th>\n",
       "      <td>Female</td>\n",
       "      <td>80.0</td>\n",
       "      <td>0</td>\n",
       "      <td>0</td>\n",
       "      <td>No Info</td>\n",
       "      <td>27.32</td>\n",
       "      <td>6.2</td>\n",
       "      <td>90</td>\n",
       "      <td>0</td>\n",
       "    </tr>\n",
       "    <tr>\n",
       "      <th>99996</th>\n",
       "      <td>Female</td>\n",
       "      <td>2.0</td>\n",
       "      <td>0</td>\n",
       "      <td>0</td>\n",
       "      <td>No Info</td>\n",
       "      <td>17.37</td>\n",
       "      <td>6.5</td>\n",
       "      <td>100</td>\n",
       "      <td>0</td>\n",
       "    </tr>\n",
       "    <tr>\n",
       "      <th>99997</th>\n",
       "      <td>Male</td>\n",
       "      <td>66.0</td>\n",
       "      <td>0</td>\n",
       "      <td>0</td>\n",
       "      <td>former</td>\n",
       "      <td>27.83</td>\n",
       "      <td>5.7</td>\n",
       "      <td>155</td>\n",
       "      <td>0</td>\n",
       "    </tr>\n",
       "    <tr>\n",
       "      <th>99998</th>\n",
       "      <td>Female</td>\n",
       "      <td>24.0</td>\n",
       "      <td>0</td>\n",
       "      <td>0</td>\n",
       "      <td>never</td>\n",
       "      <td>35.42</td>\n",
       "      <td>4.0</td>\n",
       "      <td>100</td>\n",
       "      <td>0</td>\n",
       "    </tr>\n",
       "    <tr>\n",
       "      <th>99999</th>\n",
       "      <td>Female</td>\n",
       "      <td>57.0</td>\n",
       "      <td>0</td>\n",
       "      <td>0</td>\n",
       "      <td>current</td>\n",
       "      <td>22.43</td>\n",
       "      <td>6.6</td>\n",
       "      <td>90</td>\n",
       "      <td>0</td>\n",
       "    </tr>\n",
       "  </tbody>\n",
       "</table>\n",
       "<p>100000 rows × 9 columns</p>\n",
       "</div>"
      ],
      "text/plain": [
       "       gender   age  hypertension  heart_disease smoking_history    bmi  \\\n",
       "0      Female  80.0             0              1           never  25.19   \n",
       "1      Female  54.0             0              0         No Info  27.32   \n",
       "2        Male  28.0             0              0           never  27.32   \n",
       "3      Female  36.0             0              0         current  23.45   \n",
       "4        Male  76.0             1              1         current  20.14   \n",
       "...       ...   ...           ...            ...             ...    ...   \n",
       "99995  Female  80.0             0              0         No Info  27.32   \n",
       "99996  Female   2.0             0              0         No Info  17.37   \n",
       "99997    Male  66.0             0              0          former  27.83   \n",
       "99998  Female  24.0             0              0           never  35.42   \n",
       "99999  Female  57.0             0              0         current  22.43   \n",
       "\n",
       "       HbA1c_level  blood_glucose_level  diabetes  \n",
       "0              6.6                  140         0  \n",
       "1              6.6                   80         0  \n",
       "2              5.7                  158         0  \n",
       "3              5.0                  155         0  \n",
       "4              4.8                  155         0  \n",
       "...            ...                  ...       ...  \n",
       "99995          6.2                   90         0  \n",
       "99996          6.5                  100         0  \n",
       "99997          5.7                  155         0  \n",
       "99998          4.0                  100         0  \n",
       "99999          6.6                   90         0  \n",
       "\n",
       "[100000 rows x 9 columns]"
      ]
     },
     "execution_count": 64,
     "metadata": {},
     "output_type": "execute_result"
    }
   ],
   "source": [
    "df=pd.read_csv('diabetes_prediction_dataset.csv')\n",
    "df"
   ]
  },
  {
   "cell_type": "markdown",
   "id": "0d44e710",
   "metadata": {},
   "source": [
    "# Data Understanding"
   ]
  },
  {
   "cell_type": "code",
   "execution_count": 65,
   "id": "c49d3417",
   "metadata": {},
   "outputs": [
    {
     "data": {
      "text/plain": [
       "(100000, 9)"
      ]
     },
     "execution_count": 65,
     "metadata": {},
     "output_type": "execute_result"
    }
   ],
   "source": [
    " ##the number of rows and columns present in the dataframe\n",
    "\n",
    "df.shape   "
   ]
  },
  {
   "cell_type": "code",
   "execution_count": 66,
   "id": "3a7851f8",
   "metadata": {},
   "outputs": [
    {
     "data": {
      "text/plain": [
       "Index(['gender', 'age', 'hypertension', 'heart_disease', 'smoking_history',\n",
       "       'bmi', 'HbA1c_level', 'blood_glucose_level', 'diabetes'],\n",
       "      dtype='object')"
      ]
     },
     "execution_count": 66,
     "metadata": {},
     "output_type": "execute_result"
    }
   ],
   "source": [
    " ##the number of columns present in the dataframe\n",
    "\n",
    "df.columns         "
   ]
  },
  {
   "cell_type": "code",
   "execution_count": 67,
   "id": "80361f32",
   "metadata": {},
   "outputs": [
    {
     "name": "stdout",
     "output_type": "stream",
     "text": [
      "<class 'pandas.core.frame.DataFrame'>\n",
      "RangeIndex: 100000 entries, 0 to 99999\n",
      "Data columns (total 9 columns):\n",
      " #   Column               Non-Null Count   Dtype  \n",
      "---  ------               --------------   -----  \n",
      " 0   gender               100000 non-null  object \n",
      " 1   age                  100000 non-null  float64\n",
      " 2   hypertension         100000 non-null  int64  \n",
      " 3   heart_disease        100000 non-null  int64  \n",
      " 4   smoking_history      100000 non-null  object \n",
      " 5   bmi                  100000 non-null  float64\n",
      " 6   HbA1c_level          100000 non-null  float64\n",
      " 7   blood_glucose_level  100000 non-null  int64  \n",
      " 8   diabetes             100000 non-null  int64  \n",
      "dtypes: float64(3), int64(4), object(2)\n",
      "memory usage: 6.9+ MB\n"
     ]
    }
   ],
   "source": [
    "##checking the datatype of each column\n",
    "\n",
    "df.info()         "
   ]
  },
  {
   "cell_type": "code",
   "execution_count": 68,
   "id": "5dde7c97",
   "metadata": {},
   "outputs": [
    {
     "data": {
      "text/html": [
       "<div>\n",
       "<style scoped>\n",
       "    .dataframe tbody tr th:only-of-type {\n",
       "        vertical-align: middle;\n",
       "    }\n",
       "\n",
       "    .dataframe tbody tr th {\n",
       "        vertical-align: top;\n",
       "    }\n",
       "\n",
       "    .dataframe thead th {\n",
       "        text-align: right;\n",
       "    }\n",
       "</style>\n",
       "<table border=\"1\" class=\"dataframe\">\n",
       "  <thead>\n",
       "    <tr style=\"text-align: right;\">\n",
       "      <th></th>\n",
       "      <th>age</th>\n",
       "      <th>hypertension</th>\n",
       "      <th>heart_disease</th>\n",
       "      <th>bmi</th>\n",
       "      <th>HbA1c_level</th>\n",
       "      <th>blood_glucose_level</th>\n",
       "      <th>diabetes</th>\n",
       "    </tr>\n",
       "  </thead>\n",
       "  <tbody>\n",
       "    <tr>\n",
       "      <th>count</th>\n",
       "      <td>100000.000000</td>\n",
       "      <td>100000.00000</td>\n",
       "      <td>100000.000000</td>\n",
       "      <td>100000.000000</td>\n",
       "      <td>100000.000000</td>\n",
       "      <td>100000.000000</td>\n",
       "      <td>100000.000000</td>\n",
       "    </tr>\n",
       "    <tr>\n",
       "      <th>mean</th>\n",
       "      <td>41.885856</td>\n",
       "      <td>0.07485</td>\n",
       "      <td>0.039420</td>\n",
       "      <td>27.320767</td>\n",
       "      <td>5.527507</td>\n",
       "      <td>138.058060</td>\n",
       "      <td>0.085000</td>\n",
       "    </tr>\n",
       "    <tr>\n",
       "      <th>std</th>\n",
       "      <td>22.516840</td>\n",
       "      <td>0.26315</td>\n",
       "      <td>0.194593</td>\n",
       "      <td>6.636783</td>\n",
       "      <td>1.070672</td>\n",
       "      <td>40.708136</td>\n",
       "      <td>0.278883</td>\n",
       "    </tr>\n",
       "    <tr>\n",
       "      <th>min</th>\n",
       "      <td>0.080000</td>\n",
       "      <td>0.00000</td>\n",
       "      <td>0.000000</td>\n",
       "      <td>10.010000</td>\n",
       "      <td>3.500000</td>\n",
       "      <td>80.000000</td>\n",
       "      <td>0.000000</td>\n",
       "    </tr>\n",
       "    <tr>\n",
       "      <th>25%</th>\n",
       "      <td>24.000000</td>\n",
       "      <td>0.00000</td>\n",
       "      <td>0.000000</td>\n",
       "      <td>23.630000</td>\n",
       "      <td>4.800000</td>\n",
       "      <td>100.000000</td>\n",
       "      <td>0.000000</td>\n",
       "    </tr>\n",
       "    <tr>\n",
       "      <th>50%</th>\n",
       "      <td>43.000000</td>\n",
       "      <td>0.00000</td>\n",
       "      <td>0.000000</td>\n",
       "      <td>27.320000</td>\n",
       "      <td>5.800000</td>\n",
       "      <td>140.000000</td>\n",
       "      <td>0.000000</td>\n",
       "    </tr>\n",
       "    <tr>\n",
       "      <th>75%</th>\n",
       "      <td>60.000000</td>\n",
       "      <td>0.00000</td>\n",
       "      <td>0.000000</td>\n",
       "      <td>29.580000</td>\n",
       "      <td>6.200000</td>\n",
       "      <td>159.000000</td>\n",
       "      <td>0.000000</td>\n",
       "    </tr>\n",
       "    <tr>\n",
       "      <th>max</th>\n",
       "      <td>80.000000</td>\n",
       "      <td>1.00000</td>\n",
       "      <td>1.000000</td>\n",
       "      <td>95.690000</td>\n",
       "      <td>9.000000</td>\n",
       "      <td>300.000000</td>\n",
       "      <td>1.000000</td>\n",
       "    </tr>\n",
       "  </tbody>\n",
       "</table>\n",
       "</div>"
      ],
      "text/plain": [
       "                 age  hypertension  heart_disease            bmi  \\\n",
       "count  100000.000000  100000.00000  100000.000000  100000.000000   \n",
       "mean       41.885856       0.07485       0.039420      27.320767   \n",
       "std        22.516840       0.26315       0.194593       6.636783   \n",
       "min         0.080000       0.00000       0.000000      10.010000   \n",
       "25%        24.000000       0.00000       0.000000      23.630000   \n",
       "50%        43.000000       0.00000       0.000000      27.320000   \n",
       "75%        60.000000       0.00000       0.000000      29.580000   \n",
       "max        80.000000       1.00000       1.000000      95.690000   \n",
       "\n",
       "         HbA1c_level  blood_glucose_level       diabetes  \n",
       "count  100000.000000        100000.000000  100000.000000  \n",
       "mean        5.527507           138.058060       0.085000  \n",
       "std         1.070672            40.708136       0.278883  \n",
       "min         3.500000            80.000000       0.000000  \n",
       "25%         4.800000           100.000000       0.000000  \n",
       "50%         5.800000           140.000000       0.000000  \n",
       "75%         6.200000           159.000000       0.000000  \n",
       "max         9.000000           300.000000       1.000000  "
      ]
     },
     "execution_count": 68,
     "metadata": {},
     "output_type": "execute_result"
    }
   ],
   "source": [
    "##finding the mean,max,standard deviation and other statistical measurements of each numerical columns\n",
    "\n",
    "df.describe()      "
   ]
  },
  {
   "cell_type": "code",
   "execution_count": 69,
   "id": "a848f939",
   "metadata": {},
   "outputs": [
    {
     "data": {
      "text/plain": [
       "gender                 0\n",
       "age                    0\n",
       "hypertension           0\n",
       "heart_disease          0\n",
       "smoking_history        0\n",
       "bmi                    0\n",
       "HbA1c_level            0\n",
       "blood_glucose_level    0\n",
       "diabetes               0\n",
       "dtype: int64"
      ]
     },
     "execution_count": 69,
     "metadata": {},
     "output_type": "execute_result"
    }
   ],
   "source": [
    "##checking number of null values present in each columns\n",
    "\n",
    "df.isnull().sum()"
   ]
  },
  {
   "cell_type": "markdown",
   "id": "8dcc4e60",
   "metadata": {},
   "source": [
    "# Feature Engineering"
   ]
  },
  {
   "cell_type": "code",
   "execution_count": 70,
   "id": "bdddba74",
   "metadata": {},
   "outputs": [
    {
     "data": {
      "text/html": [
       "<div>\n",
       "<style scoped>\n",
       "    .dataframe tbody tr th:only-of-type {\n",
       "        vertical-align: middle;\n",
       "    }\n",
       "\n",
       "    .dataframe tbody tr th {\n",
       "        vertical-align: top;\n",
       "    }\n",
       "\n",
       "    .dataframe thead th {\n",
       "        text-align: right;\n",
       "    }\n",
       "</style>\n",
       "<table border=\"1\" class=\"dataframe\">\n",
       "  <thead>\n",
       "    <tr style=\"text-align: right;\">\n",
       "      <th></th>\n",
       "      <th>gender</th>\n",
       "      <th>age</th>\n",
       "      <th>hypertension</th>\n",
       "      <th>heart_disease</th>\n",
       "      <th>bmi</th>\n",
       "      <th>HbA1c_level</th>\n",
       "      <th>blood_glucose_level</th>\n",
       "      <th>diabetes</th>\n",
       "    </tr>\n",
       "  </thead>\n",
       "  <tbody>\n",
       "    <tr>\n",
       "      <th>0</th>\n",
       "      <td>Female</td>\n",
       "      <td>80.0</td>\n",
       "      <td>0</td>\n",
       "      <td>1</td>\n",
       "      <td>25.19</td>\n",
       "      <td>6.6</td>\n",
       "      <td>140</td>\n",
       "      <td>0</td>\n",
       "    </tr>\n",
       "    <tr>\n",
       "      <th>1</th>\n",
       "      <td>Female</td>\n",
       "      <td>54.0</td>\n",
       "      <td>0</td>\n",
       "      <td>0</td>\n",
       "      <td>27.32</td>\n",
       "      <td>6.6</td>\n",
       "      <td>80</td>\n",
       "      <td>0</td>\n",
       "    </tr>\n",
       "    <tr>\n",
       "      <th>2</th>\n",
       "      <td>Male</td>\n",
       "      <td>28.0</td>\n",
       "      <td>0</td>\n",
       "      <td>0</td>\n",
       "      <td>27.32</td>\n",
       "      <td>5.7</td>\n",
       "      <td>158</td>\n",
       "      <td>0</td>\n",
       "    </tr>\n",
       "    <tr>\n",
       "      <th>3</th>\n",
       "      <td>Female</td>\n",
       "      <td>36.0</td>\n",
       "      <td>0</td>\n",
       "      <td>0</td>\n",
       "      <td>23.45</td>\n",
       "      <td>5.0</td>\n",
       "      <td>155</td>\n",
       "      <td>0</td>\n",
       "    </tr>\n",
       "    <tr>\n",
       "      <th>4</th>\n",
       "      <td>Male</td>\n",
       "      <td>76.0</td>\n",
       "      <td>1</td>\n",
       "      <td>1</td>\n",
       "      <td>20.14</td>\n",
       "      <td>4.8</td>\n",
       "      <td>155</td>\n",
       "      <td>0</td>\n",
       "    </tr>\n",
       "    <tr>\n",
       "      <th>...</th>\n",
       "      <td>...</td>\n",
       "      <td>...</td>\n",
       "      <td>...</td>\n",
       "      <td>...</td>\n",
       "      <td>...</td>\n",
       "      <td>...</td>\n",
       "      <td>...</td>\n",
       "      <td>...</td>\n",
       "    </tr>\n",
       "    <tr>\n",
       "      <th>99995</th>\n",
       "      <td>Female</td>\n",
       "      <td>80.0</td>\n",
       "      <td>0</td>\n",
       "      <td>0</td>\n",
       "      <td>27.32</td>\n",
       "      <td>6.2</td>\n",
       "      <td>90</td>\n",
       "      <td>0</td>\n",
       "    </tr>\n",
       "    <tr>\n",
       "      <th>99996</th>\n",
       "      <td>Female</td>\n",
       "      <td>2.0</td>\n",
       "      <td>0</td>\n",
       "      <td>0</td>\n",
       "      <td>17.37</td>\n",
       "      <td>6.5</td>\n",
       "      <td>100</td>\n",
       "      <td>0</td>\n",
       "    </tr>\n",
       "    <tr>\n",
       "      <th>99997</th>\n",
       "      <td>Male</td>\n",
       "      <td>66.0</td>\n",
       "      <td>0</td>\n",
       "      <td>0</td>\n",
       "      <td>27.83</td>\n",
       "      <td>5.7</td>\n",
       "      <td>155</td>\n",
       "      <td>0</td>\n",
       "    </tr>\n",
       "    <tr>\n",
       "      <th>99998</th>\n",
       "      <td>Female</td>\n",
       "      <td>24.0</td>\n",
       "      <td>0</td>\n",
       "      <td>0</td>\n",
       "      <td>35.42</td>\n",
       "      <td>4.0</td>\n",
       "      <td>100</td>\n",
       "      <td>0</td>\n",
       "    </tr>\n",
       "    <tr>\n",
       "      <th>99999</th>\n",
       "      <td>Female</td>\n",
       "      <td>57.0</td>\n",
       "      <td>0</td>\n",
       "      <td>0</td>\n",
       "      <td>22.43</td>\n",
       "      <td>6.6</td>\n",
       "      <td>90</td>\n",
       "      <td>0</td>\n",
       "    </tr>\n",
       "  </tbody>\n",
       "</table>\n",
       "<p>100000 rows × 8 columns</p>\n",
       "</div>"
      ],
      "text/plain": [
       "       gender   age  hypertension  heart_disease    bmi  HbA1c_level  \\\n",
       "0      Female  80.0             0              1  25.19          6.6   \n",
       "1      Female  54.0             0              0  27.32          6.6   \n",
       "2        Male  28.0             0              0  27.32          5.7   \n",
       "3      Female  36.0             0              0  23.45          5.0   \n",
       "4        Male  76.0             1              1  20.14          4.8   \n",
       "...       ...   ...           ...            ...    ...          ...   \n",
       "99995  Female  80.0             0              0  27.32          6.2   \n",
       "99996  Female   2.0             0              0  17.37          6.5   \n",
       "99997    Male  66.0             0              0  27.83          5.7   \n",
       "99998  Female  24.0             0              0  35.42          4.0   \n",
       "99999  Female  57.0             0              0  22.43          6.6   \n",
       "\n",
       "       blood_glucose_level  diabetes  \n",
       "0                      140         0  \n",
       "1                       80         0  \n",
       "2                      158         0  \n",
       "3                      155         0  \n",
       "4                      155         0  \n",
       "...                    ...       ...  \n",
       "99995                   90         0  \n",
       "99996                  100         0  \n",
       "99997                  155         0  \n",
       "99998                  100         0  \n",
       "99999                   90         0  \n",
       "\n",
       "[100000 rows x 8 columns]"
      ]
     },
     "execution_count": 70,
     "metadata": {},
     "output_type": "execute_result"
    }
   ],
   "source": [
    "df=df.drop(columns='smoking_history')\n",
    "df"
   ]
  },
  {
   "cell_type": "code",
   "execution_count": 71,
   "id": "53b52ebb",
   "metadata": {},
   "outputs": [
    {
     "data": {
      "text/plain": [
       "Female    58552\n",
       "Male      41430\n",
       "Other        18\n",
       "Name: gender, dtype: int64"
      ]
     },
     "execution_count": 71,
     "metadata": {},
     "output_type": "execute_result"
    }
   ],
   "source": [
    "df['gender'].value_counts()"
   ]
  },
  {
   "cell_type": "code",
   "execution_count": 72,
   "id": "4a07ba1a",
   "metadata": {},
   "outputs": [],
   "source": [
    "##replacing male by 0,female by 1,and others by 2\n",
    "\n",
    "df['gender'].replace(['Female','Male','Other'],[0,1,2],inplace=True)\n"
   ]
  },
  {
   "cell_type": "code",
   "execution_count": 73,
   "id": "2f6f4d1a",
   "metadata": {},
   "outputs": [
    {
     "data": {
      "text/html": [
       "<div>\n",
       "<style scoped>\n",
       "    .dataframe tbody tr th:only-of-type {\n",
       "        vertical-align: middle;\n",
       "    }\n",
       "\n",
       "    .dataframe tbody tr th {\n",
       "        vertical-align: top;\n",
       "    }\n",
       "\n",
       "    .dataframe thead th {\n",
       "        text-align: right;\n",
       "    }\n",
       "</style>\n",
       "<table border=\"1\" class=\"dataframe\">\n",
       "  <thead>\n",
       "    <tr style=\"text-align: right;\">\n",
       "      <th></th>\n",
       "      <th>gender</th>\n",
       "      <th>age</th>\n",
       "      <th>hypertension</th>\n",
       "      <th>heart_disease</th>\n",
       "      <th>bmi</th>\n",
       "      <th>HbA1c_level</th>\n",
       "      <th>blood_glucose_level</th>\n",
       "      <th>diabetes</th>\n",
       "    </tr>\n",
       "  </thead>\n",
       "  <tbody>\n",
       "    <tr>\n",
       "      <th>0</th>\n",
       "      <td>0</td>\n",
       "      <td>80.0</td>\n",
       "      <td>0</td>\n",
       "      <td>1</td>\n",
       "      <td>25.19</td>\n",
       "      <td>6.6</td>\n",
       "      <td>140</td>\n",
       "      <td>0</td>\n",
       "    </tr>\n",
       "    <tr>\n",
       "      <th>1</th>\n",
       "      <td>0</td>\n",
       "      <td>54.0</td>\n",
       "      <td>0</td>\n",
       "      <td>0</td>\n",
       "      <td>27.32</td>\n",
       "      <td>6.6</td>\n",
       "      <td>80</td>\n",
       "      <td>0</td>\n",
       "    </tr>\n",
       "    <tr>\n",
       "      <th>2</th>\n",
       "      <td>1</td>\n",
       "      <td>28.0</td>\n",
       "      <td>0</td>\n",
       "      <td>0</td>\n",
       "      <td>27.32</td>\n",
       "      <td>5.7</td>\n",
       "      <td>158</td>\n",
       "      <td>0</td>\n",
       "    </tr>\n",
       "    <tr>\n",
       "      <th>3</th>\n",
       "      <td>0</td>\n",
       "      <td>36.0</td>\n",
       "      <td>0</td>\n",
       "      <td>0</td>\n",
       "      <td>23.45</td>\n",
       "      <td>5.0</td>\n",
       "      <td>155</td>\n",
       "      <td>0</td>\n",
       "    </tr>\n",
       "    <tr>\n",
       "      <th>4</th>\n",
       "      <td>1</td>\n",
       "      <td>76.0</td>\n",
       "      <td>1</td>\n",
       "      <td>1</td>\n",
       "      <td>20.14</td>\n",
       "      <td>4.8</td>\n",
       "      <td>155</td>\n",
       "      <td>0</td>\n",
       "    </tr>\n",
       "    <tr>\n",
       "      <th>...</th>\n",
       "      <td>...</td>\n",
       "      <td>...</td>\n",
       "      <td>...</td>\n",
       "      <td>...</td>\n",
       "      <td>...</td>\n",
       "      <td>...</td>\n",
       "      <td>...</td>\n",
       "      <td>...</td>\n",
       "    </tr>\n",
       "    <tr>\n",
       "      <th>99995</th>\n",
       "      <td>0</td>\n",
       "      <td>80.0</td>\n",
       "      <td>0</td>\n",
       "      <td>0</td>\n",
       "      <td>27.32</td>\n",
       "      <td>6.2</td>\n",
       "      <td>90</td>\n",
       "      <td>0</td>\n",
       "    </tr>\n",
       "    <tr>\n",
       "      <th>99996</th>\n",
       "      <td>0</td>\n",
       "      <td>2.0</td>\n",
       "      <td>0</td>\n",
       "      <td>0</td>\n",
       "      <td>17.37</td>\n",
       "      <td>6.5</td>\n",
       "      <td>100</td>\n",
       "      <td>0</td>\n",
       "    </tr>\n",
       "    <tr>\n",
       "      <th>99997</th>\n",
       "      <td>1</td>\n",
       "      <td>66.0</td>\n",
       "      <td>0</td>\n",
       "      <td>0</td>\n",
       "      <td>27.83</td>\n",
       "      <td>5.7</td>\n",
       "      <td>155</td>\n",
       "      <td>0</td>\n",
       "    </tr>\n",
       "    <tr>\n",
       "      <th>99998</th>\n",
       "      <td>0</td>\n",
       "      <td>24.0</td>\n",
       "      <td>0</td>\n",
       "      <td>0</td>\n",
       "      <td>35.42</td>\n",
       "      <td>4.0</td>\n",
       "      <td>100</td>\n",
       "      <td>0</td>\n",
       "    </tr>\n",
       "    <tr>\n",
       "      <th>99999</th>\n",
       "      <td>0</td>\n",
       "      <td>57.0</td>\n",
       "      <td>0</td>\n",
       "      <td>0</td>\n",
       "      <td>22.43</td>\n",
       "      <td>6.6</td>\n",
       "      <td>90</td>\n",
       "      <td>0</td>\n",
       "    </tr>\n",
       "  </tbody>\n",
       "</table>\n",
       "<p>100000 rows × 8 columns</p>\n",
       "</div>"
      ],
      "text/plain": [
       "       gender   age  hypertension  heart_disease    bmi  HbA1c_level  \\\n",
       "0           0  80.0             0              1  25.19          6.6   \n",
       "1           0  54.0             0              0  27.32          6.6   \n",
       "2           1  28.0             0              0  27.32          5.7   \n",
       "3           0  36.0             0              0  23.45          5.0   \n",
       "4           1  76.0             1              1  20.14          4.8   \n",
       "...       ...   ...           ...            ...    ...          ...   \n",
       "99995       0  80.0             0              0  27.32          6.2   \n",
       "99996       0   2.0             0              0  17.37          6.5   \n",
       "99997       1  66.0             0              0  27.83          5.7   \n",
       "99998       0  24.0             0              0  35.42          4.0   \n",
       "99999       0  57.0             0              0  22.43          6.6   \n",
       "\n",
       "       blood_glucose_level  diabetes  \n",
       "0                      140         0  \n",
       "1                       80         0  \n",
       "2                      158         0  \n",
       "3                      155         0  \n",
       "4                      155         0  \n",
       "...                    ...       ...  \n",
       "99995                   90         0  \n",
       "99996                  100         0  \n",
       "99997                  155         0  \n",
       "99998                  100         0  \n",
       "99999                   90         0  \n",
       "\n",
       "[100000 rows x 8 columns]"
      ]
     },
     "execution_count": 73,
     "metadata": {},
     "output_type": "execute_result"
    }
   ],
   "source": [
    "df"
   ]
  },
  {
   "cell_type": "markdown",
   "id": "5f068923",
   "metadata": {},
   "source": [
    "# Segregate x and y"
   ]
  },
  {
   "cell_type": "code",
   "execution_count": 74,
   "id": "9e022b94",
   "metadata": {},
   "outputs": [],
   "source": [
    "x=df.drop(columns='diabetes')"
   ]
  },
  {
   "cell_type": "code",
   "execution_count": 75,
   "id": "b5780b85",
   "metadata": {},
   "outputs": [],
   "source": [
    "y=df['diabetes']"
   ]
  },
  {
   "cell_type": "code",
   "execution_count": 76,
   "id": "ea0ec3b3",
   "metadata": {},
   "outputs": [
    {
     "data": {
      "text/html": [
       "<div>\n",
       "<style scoped>\n",
       "    .dataframe tbody tr th:only-of-type {\n",
       "        vertical-align: middle;\n",
       "    }\n",
       "\n",
       "    .dataframe tbody tr th {\n",
       "        vertical-align: top;\n",
       "    }\n",
       "\n",
       "    .dataframe thead th {\n",
       "        text-align: right;\n",
       "    }\n",
       "</style>\n",
       "<table border=\"1\" class=\"dataframe\">\n",
       "  <thead>\n",
       "    <tr style=\"text-align: right;\">\n",
       "      <th></th>\n",
       "      <th>gender</th>\n",
       "      <th>age</th>\n",
       "      <th>hypertension</th>\n",
       "      <th>heart_disease</th>\n",
       "      <th>bmi</th>\n",
       "      <th>HbA1c_level</th>\n",
       "      <th>blood_glucose_level</th>\n",
       "    </tr>\n",
       "  </thead>\n",
       "  <tbody>\n",
       "    <tr>\n",
       "      <th>0</th>\n",
       "      <td>0</td>\n",
       "      <td>80.0</td>\n",
       "      <td>0</td>\n",
       "      <td>1</td>\n",
       "      <td>25.19</td>\n",
       "      <td>6.6</td>\n",
       "      <td>140</td>\n",
       "    </tr>\n",
       "    <tr>\n",
       "      <th>1</th>\n",
       "      <td>0</td>\n",
       "      <td>54.0</td>\n",
       "      <td>0</td>\n",
       "      <td>0</td>\n",
       "      <td>27.32</td>\n",
       "      <td>6.6</td>\n",
       "      <td>80</td>\n",
       "    </tr>\n",
       "    <tr>\n",
       "      <th>2</th>\n",
       "      <td>1</td>\n",
       "      <td>28.0</td>\n",
       "      <td>0</td>\n",
       "      <td>0</td>\n",
       "      <td>27.32</td>\n",
       "      <td>5.7</td>\n",
       "      <td>158</td>\n",
       "    </tr>\n",
       "    <tr>\n",
       "      <th>3</th>\n",
       "      <td>0</td>\n",
       "      <td>36.0</td>\n",
       "      <td>0</td>\n",
       "      <td>0</td>\n",
       "      <td>23.45</td>\n",
       "      <td>5.0</td>\n",
       "      <td>155</td>\n",
       "    </tr>\n",
       "    <tr>\n",
       "      <th>4</th>\n",
       "      <td>1</td>\n",
       "      <td>76.0</td>\n",
       "      <td>1</td>\n",
       "      <td>1</td>\n",
       "      <td>20.14</td>\n",
       "      <td>4.8</td>\n",
       "      <td>155</td>\n",
       "    </tr>\n",
       "    <tr>\n",
       "      <th>...</th>\n",
       "      <td>...</td>\n",
       "      <td>...</td>\n",
       "      <td>...</td>\n",
       "      <td>...</td>\n",
       "      <td>...</td>\n",
       "      <td>...</td>\n",
       "      <td>...</td>\n",
       "    </tr>\n",
       "    <tr>\n",
       "      <th>99995</th>\n",
       "      <td>0</td>\n",
       "      <td>80.0</td>\n",
       "      <td>0</td>\n",
       "      <td>0</td>\n",
       "      <td>27.32</td>\n",
       "      <td>6.2</td>\n",
       "      <td>90</td>\n",
       "    </tr>\n",
       "    <tr>\n",
       "      <th>99996</th>\n",
       "      <td>0</td>\n",
       "      <td>2.0</td>\n",
       "      <td>0</td>\n",
       "      <td>0</td>\n",
       "      <td>17.37</td>\n",
       "      <td>6.5</td>\n",
       "      <td>100</td>\n",
       "    </tr>\n",
       "    <tr>\n",
       "      <th>99997</th>\n",
       "      <td>1</td>\n",
       "      <td>66.0</td>\n",
       "      <td>0</td>\n",
       "      <td>0</td>\n",
       "      <td>27.83</td>\n",
       "      <td>5.7</td>\n",
       "      <td>155</td>\n",
       "    </tr>\n",
       "    <tr>\n",
       "      <th>99998</th>\n",
       "      <td>0</td>\n",
       "      <td>24.0</td>\n",
       "      <td>0</td>\n",
       "      <td>0</td>\n",
       "      <td>35.42</td>\n",
       "      <td>4.0</td>\n",
       "      <td>100</td>\n",
       "    </tr>\n",
       "    <tr>\n",
       "      <th>99999</th>\n",
       "      <td>0</td>\n",
       "      <td>57.0</td>\n",
       "      <td>0</td>\n",
       "      <td>0</td>\n",
       "      <td>22.43</td>\n",
       "      <td>6.6</td>\n",
       "      <td>90</td>\n",
       "    </tr>\n",
       "  </tbody>\n",
       "</table>\n",
       "<p>100000 rows × 7 columns</p>\n",
       "</div>"
      ],
      "text/plain": [
       "       gender   age  hypertension  heart_disease    bmi  HbA1c_level  \\\n",
       "0           0  80.0             0              1  25.19          6.6   \n",
       "1           0  54.0             0              0  27.32          6.6   \n",
       "2           1  28.0             0              0  27.32          5.7   \n",
       "3           0  36.0             0              0  23.45          5.0   \n",
       "4           1  76.0             1              1  20.14          4.8   \n",
       "...       ...   ...           ...            ...    ...          ...   \n",
       "99995       0  80.0             0              0  27.32          6.2   \n",
       "99996       0   2.0             0              0  17.37          6.5   \n",
       "99997       1  66.0             0              0  27.83          5.7   \n",
       "99998       0  24.0             0              0  35.42          4.0   \n",
       "99999       0  57.0             0              0  22.43          6.6   \n",
       "\n",
       "       blood_glucose_level  \n",
       "0                      140  \n",
       "1                       80  \n",
       "2                      158  \n",
       "3                      155  \n",
       "4                      155  \n",
       "...                    ...  \n",
       "99995                   90  \n",
       "99996                  100  \n",
       "99997                  155  \n",
       "99998                  100  \n",
       "99999                   90  \n",
       "\n",
       "[100000 rows x 7 columns]"
      ]
     },
     "execution_count": 76,
     "metadata": {},
     "output_type": "execute_result"
    }
   ],
   "source": [
    "x"
   ]
  },
  {
   "cell_type": "code",
   "execution_count": 77,
   "id": "ca69975e",
   "metadata": {},
   "outputs": [
    {
     "data": {
      "text/plain": [
       "0        0\n",
       "1        0\n",
       "2        0\n",
       "3        0\n",
       "4        0\n",
       "        ..\n",
       "99995    0\n",
       "99996    0\n",
       "99997    0\n",
       "99998    0\n",
       "99999    0\n",
       "Name: diabetes, Length: 100000, dtype: int64"
      ]
     },
     "execution_count": 77,
     "metadata": {},
     "output_type": "execute_result"
    }
   ],
   "source": [
    "y"
   ]
  },
  {
   "cell_type": "markdown",
   "id": "17a195f7",
   "metadata": {},
   "source": [
    "# Split the data"
   ]
  },
  {
   "cell_type": "code",
   "execution_count": 78,
   "id": "b8dc0740",
   "metadata": {},
   "outputs": [],
   "source": [
    "from sklearn.model_selection import train_test_split"
   ]
  },
  {
   "cell_type": "code",
   "execution_count": 79,
   "id": "be39f912",
   "metadata": {},
   "outputs": [],
   "source": [
    "X_train,X_test,y_train,y_test=train_test_split(x,y,test_size=0.2)"
   ]
  },
  {
   "cell_type": "markdown",
   "id": "987c3885",
   "metadata": {},
   "source": [
    "# Model Building"
   ]
  },
  {
   "cell_type": "code",
   "execution_count": 187,
   "id": "590dd7aa",
   "metadata": {},
   "outputs": [],
   "source": [
    "##GaussianNB model\n",
    "\n",
    "from sklearn.naive_bayes import GaussianNB"
   ]
  },
  {
   "cell_type": "code",
   "execution_count": 188,
   "id": "a72c4aac",
   "metadata": {},
   "outputs": [],
   "source": [
    "gb=GaussianNB()"
   ]
  },
  {
   "cell_type": "code",
   "execution_count": 189,
   "id": "84edb9d6",
   "metadata": {},
   "outputs": [
    {
     "data": {
      "text/html": [
       "<style>#sk-container-id-21 {color: black;background-color: white;}#sk-container-id-21 pre{padding: 0;}#sk-container-id-21 div.sk-toggleable {background-color: white;}#sk-container-id-21 label.sk-toggleable__label {cursor: pointer;display: block;width: 100%;margin-bottom: 0;padding: 0.3em;box-sizing: border-box;text-align: center;}#sk-container-id-21 label.sk-toggleable__label-arrow:before {content: \"▸\";float: left;margin-right: 0.25em;color: #696969;}#sk-container-id-21 label.sk-toggleable__label-arrow:hover:before {color: black;}#sk-container-id-21 div.sk-estimator:hover label.sk-toggleable__label-arrow:before {color: black;}#sk-container-id-21 div.sk-toggleable__content {max-height: 0;max-width: 0;overflow: hidden;text-align: left;background-color: #f0f8ff;}#sk-container-id-21 div.sk-toggleable__content pre {margin: 0.2em;color: black;border-radius: 0.25em;background-color: #f0f8ff;}#sk-container-id-21 input.sk-toggleable__control:checked~div.sk-toggleable__content {max-height: 200px;max-width: 100%;overflow: auto;}#sk-container-id-21 input.sk-toggleable__control:checked~label.sk-toggleable__label-arrow:before {content: \"▾\";}#sk-container-id-21 div.sk-estimator input.sk-toggleable__control:checked~label.sk-toggleable__label {background-color: #d4ebff;}#sk-container-id-21 div.sk-label input.sk-toggleable__control:checked~label.sk-toggleable__label {background-color: #d4ebff;}#sk-container-id-21 input.sk-hidden--visually {border: 0;clip: rect(1px 1px 1px 1px);clip: rect(1px, 1px, 1px, 1px);height: 1px;margin: -1px;overflow: hidden;padding: 0;position: absolute;width: 1px;}#sk-container-id-21 div.sk-estimator {font-family: monospace;background-color: #f0f8ff;border: 1px dotted black;border-radius: 0.25em;box-sizing: border-box;margin-bottom: 0.5em;}#sk-container-id-21 div.sk-estimator:hover {background-color: #d4ebff;}#sk-container-id-21 div.sk-parallel-item::after {content: \"\";width: 100%;border-bottom: 1px solid gray;flex-grow: 1;}#sk-container-id-21 div.sk-label:hover label.sk-toggleable__label {background-color: #d4ebff;}#sk-container-id-21 div.sk-serial::before {content: \"\";position: absolute;border-left: 1px solid gray;box-sizing: border-box;top: 0;bottom: 0;left: 50%;z-index: 0;}#sk-container-id-21 div.sk-serial {display: flex;flex-direction: column;align-items: center;background-color: white;padding-right: 0.2em;padding-left: 0.2em;position: relative;}#sk-container-id-21 div.sk-item {position: relative;z-index: 1;}#sk-container-id-21 div.sk-parallel {display: flex;align-items: stretch;justify-content: center;background-color: white;position: relative;}#sk-container-id-21 div.sk-item::before, #sk-container-id-21 div.sk-parallel-item::before {content: \"\";position: absolute;border-left: 1px solid gray;box-sizing: border-box;top: 0;bottom: 0;left: 50%;z-index: -1;}#sk-container-id-21 div.sk-parallel-item {display: flex;flex-direction: column;z-index: 1;position: relative;background-color: white;}#sk-container-id-21 div.sk-parallel-item:first-child::after {align-self: flex-end;width: 50%;}#sk-container-id-21 div.sk-parallel-item:last-child::after {align-self: flex-start;width: 50%;}#sk-container-id-21 div.sk-parallel-item:only-child::after {width: 0;}#sk-container-id-21 div.sk-dashed-wrapped {border: 1px dashed gray;margin: 0 0.4em 0.5em 0.4em;box-sizing: border-box;padding-bottom: 0.4em;background-color: white;}#sk-container-id-21 div.sk-label label {font-family: monospace;font-weight: bold;display: inline-block;line-height: 1.2em;}#sk-container-id-21 div.sk-label-container {text-align: center;}#sk-container-id-21 div.sk-container {/* jupyter's `normalize.less` sets `[hidden] { display: none; }` but bootstrap.min.css set `[hidden] { display: none !important; }` so we also need the `!important` here to be able to override the default hidden behavior on the sphinx rendered scikit-learn.org. See: https://github.com/scikit-learn/scikit-learn/issues/21755 */display: inline-block !important;position: relative;}#sk-container-id-21 div.sk-text-repr-fallback {display: none;}</style><div id=\"sk-container-id-21\" class=\"sk-top-container\"><div class=\"sk-text-repr-fallback\"><pre>GaussianNB()</pre><b>In a Jupyter environment, please rerun this cell to show the HTML representation or trust the notebook. <br />On GitHub, the HTML representation is unable to render, please try loading this page with nbviewer.org.</b></div><div class=\"sk-container\" hidden><div class=\"sk-item\"><div class=\"sk-estimator sk-toggleable\"><input class=\"sk-toggleable__control sk-hidden--visually\" id=\"sk-estimator-id-21\" type=\"checkbox\" checked><label for=\"sk-estimator-id-21\" class=\"sk-toggleable__label sk-toggleable__label-arrow\">GaussianNB</label><div class=\"sk-toggleable__content\"><pre>GaussianNB()</pre></div></div></div></div></div>"
      ],
      "text/plain": [
       "GaussianNB()"
      ]
     },
     "execution_count": 189,
     "metadata": {},
     "output_type": "execute_result"
    }
   ],
   "source": [
    "gb.fit(X_train,y_train)"
   ]
  },
  {
   "cell_type": "code",
   "execution_count": 190,
   "id": "5a69b399",
   "metadata": {},
   "outputs": [],
   "source": [
    "y_pred=gb.predict(X_test)"
   ]
  },
  {
   "cell_type": "code",
   "execution_count": 84,
   "id": "d3873bf9",
   "metadata": {},
   "outputs": [],
   "source": [
    "##checking the accuracy\n",
    "\n",
    "from sklearn.metrics import accuracy_score"
   ]
  },
  {
   "cell_type": "code",
   "execution_count": 85,
   "id": "d5f26e0d",
   "metadata": {},
   "outputs": [],
   "source": [
    "ac=accuracy_score(y_test,y_pred)"
   ]
  },
  {
   "cell_type": "code",
   "execution_count": 86,
   "id": "e4ee216b",
   "metadata": {},
   "outputs": [
    {
     "data": {
      "text/plain": [
       "0.90545"
      ]
     },
     "execution_count": 86,
     "metadata": {},
     "output_type": "execute_result"
    }
   ],
   "source": [
    "ac"
   ]
  },
  {
   "cell_type": "code",
   "execution_count": 87,
   "id": "96c2c25a",
   "metadata": {},
   "outputs": [],
   "source": [
    "from sklearn import metrics"
   ]
  },
  {
   "cell_type": "code",
   "execution_count": 191,
   "id": "0c72ff5b",
   "metadata": {},
   "outputs": [
    {
     "data": {
      "text/plain": [
       "array([[16992,   560],\n",
       "       [ 1331,  1117]], dtype=int64)"
      ]
     },
     "execution_count": 191,
     "metadata": {},
     "output_type": "execute_result"
    }
   ],
   "source": [
    "##confusion matrix\n",
    "\n",
    "from sklearn.metrics import confusion_matrix\n",
    "matrix=metrics.confusion_matrix(y_pred,y_test)\n",
    "matrix"
   ]
  },
  {
   "cell_type": "code",
   "execution_count": 88,
   "id": "e367c9f1",
   "metadata": {},
   "outputs": [
    {
     "data": {
      "image/png": "[encoded data removed]",
      "text/plain": [
       "<Figure size 640x480 with 2 Axes>"
      ]
     },
     "metadata": {},
     "output_type": "display_data"
    }
   ],
   "source": [
    "matrix=metrics.confusion_matrix(y_pred,y_test)\n",
    "sns.heatmap(matrix,annot=True,cmap='Reds',fmt='0.1f')\n",
    "plt.xlabel(\"Predicted Values\")\n",
    "plt.ylabel(\"Test Values\")\n",
    "plt.title(\"Confusion Matrix for SVC model\")\n",
    "plt.show()"
   ]
  },
  {
   "cell_type": "code",
   "execution_count": 180,
   "id": "830045d5",
   "metadata": {},
   "outputs": [],
   "source": [
    "##Logistic Regression\n",
    "\n",
    "from sklearn.linear_model import LogisticRegression"
   ]
  },
  {
   "cell_type": "code",
   "execution_count": 181,
   "id": "cbd414bb",
   "metadata": {},
   "outputs": [],
   "source": [
    "lr=LogisticRegression()"
   ]
  },
  {
   "cell_type": "code",
   "execution_count": 182,
   "id": "67480ed9",
   "metadata": {},
   "outputs": [
    {
     "name": "stderr",
     "output_type": "stream",
     "text": [
      "C:\\ProgramData\\anaconda3\\lib\\site-packages\\sklearn\\linear_model\\_logistic.py:458: ConvergenceWarning: lbfgs failed to converge (status=1):\n",
      "STOP: TOTAL NO. of ITERATIONS REACHED LIMIT.\n",
      "\n",
      "Increase the number of iterations (max_iter) or scale the data as shown in:\n",
      "    https://scikit-learn.org/stable/modules/preprocessing.html\n",
      "Please also refer to the documentation for alternative solver options:\n",
      "    https://scikit-learn.org/stable/modules/linear_model.html#logistic-regression\n",
      "  n_iter_i = _check_optimize_result(\n"
     ]
    },
    {
     "data": {
      "text/html": [
       "<style>#sk-container-id-20 {color: black;background-color: white;}#sk-container-id-20 pre{padding: 0;}#sk-container-id-20 div.sk-toggleable {background-color: white;}#sk-container-id-20 label.sk-toggleable__label {cursor: pointer;display: block;width: 100%;margin-bottom: 0;padding: 0.3em;box-sizing: border-box;text-align: center;}#sk-container-id-20 label.sk-toggleable__label-arrow:before {content: \"▸\";float: left;margin-right: 0.25em;color: #696969;}#sk-container-id-20 label.sk-toggleable__label-arrow:hover:before {color: black;}#sk-container-id-20 div.sk-estimator:hover label.sk-toggleable__label-arrow:before {color: black;}#sk-container-id-20 div.sk-toggleable__content {max-height: 0;max-width: 0;overflow: hidden;text-align: left;background-color: #f0f8ff;}#sk-container-id-20 div.sk-toggleable__content pre {margin: 0.2em;color: black;border-radius: 0.25em;background-color: #f0f8ff;}#sk-container-id-20 input.sk-toggleable__control:checked~div.sk-toggleable__content {max-height: 200px;max-width: 100%;overflow: auto;}#sk-container-id-20 input.sk-toggleable__control:checked~label.sk-toggleable__label-arrow:before {content: \"▾\";}#sk-container-id-20 div.sk-estimator input.sk-toggleable__control:checked~label.sk-toggleable__label {background-color: #d4ebff;}#sk-container-id-20 div.sk-label input.sk-toggleable__control:checked~label.sk-toggleable__label {background-color: #d4ebff;}#sk-container-id-20 input.sk-hidden--visually {border: 0;clip: rect(1px 1px 1px 1px);clip: rect(1px, 1px, 1px, 1px);height: 1px;margin: -1px;overflow: hidden;padding: 0;position: absolute;width: 1px;}#sk-container-id-20 div.sk-estimator {font-family: monospace;background-color: #f0f8ff;border: 1px dotted black;border-radius: 0.25em;box-sizing: border-box;margin-bottom: 0.5em;}#sk-container-id-20 div.sk-estimator:hover {background-color: #d4ebff;}#sk-container-id-20 div.sk-parallel-item::after {content: \"\";width: 100%;border-bottom: 1px solid gray;flex-grow: 1;}#sk-container-id-20 div.sk-label:hover label.sk-toggleable__label {background-color: #d4ebff;}#sk-container-id-20 div.sk-serial::before {content: \"\";position: absolute;border-left: 1px solid gray;box-sizing: border-box;top: 0;bottom: 0;left: 50%;z-index: 0;}#sk-container-id-20 div.sk-serial {display: flex;flex-direction: column;align-items: center;background-color: white;padding-right: 0.2em;padding-left: 0.2em;position: relative;}#sk-container-id-20 div.sk-item {position: relative;z-index: 1;}#sk-container-id-20 div.sk-parallel {display: flex;align-items: stretch;justify-content: center;background-color: white;position: relative;}#sk-container-id-20 div.sk-item::before, #sk-container-id-20 div.sk-parallel-item::before {content: \"\";position: absolute;border-left: 1px solid gray;box-sizing: border-box;top: 0;bottom: 0;left: 50%;z-index: -1;}#sk-container-id-20 div.sk-parallel-item {display: flex;flex-direction: column;z-index: 1;position: relative;background-color: white;}#sk-container-id-20 div.sk-parallel-item:first-child::after {align-self: flex-end;width: 50%;}#sk-container-id-20 div.sk-parallel-item:last-child::after {align-self: flex-start;width: 50%;}#sk-container-id-20 div.sk-parallel-item:only-child::after {width: 0;}#sk-container-id-20 div.sk-dashed-wrapped {border: 1px dashed gray;margin: 0 0.4em 0.5em 0.4em;box-sizing: border-box;padding-bottom: 0.4em;background-color: white;}#sk-container-id-20 div.sk-label label {font-family: monospace;font-weight: bold;display: inline-block;line-height: 1.2em;}#sk-container-id-20 div.sk-label-container {text-align: center;}#sk-container-id-20 div.sk-container {/* jupyter's `normalize.less` sets `[hidden] { display: none; }` but bootstrap.min.css set `[hidden] { display: none !important; }` so we also need the `!important` here to be able to override the default hidden behavior on the sphinx rendered scikit-learn.org. See: https://github.com/scikit-learn/scikit-learn/issues/21755 */display: inline-block !important;position: relative;}#sk-container-id-20 div.sk-text-repr-fallback {display: none;}</style><div id=\"sk-container-id-20\" class=\"sk-top-container\"><div class=\"sk-text-repr-fallback\"><pre>LogisticRegression()</pre><b>In a Jupyter environment, please rerun this cell to show the HTML representation or trust the notebook. <br />On GitHub, the HTML representation is unable to render, please try loading this page with nbviewer.org.</b></div><div class=\"sk-container\" hidden><div class=\"sk-item\"><div class=\"sk-estimator sk-toggleable\"><input class=\"sk-toggleable__control sk-hidden--visually\" id=\"sk-estimator-id-20\" type=\"checkbox\" checked><label for=\"sk-estimator-id-20\" class=\"sk-toggleable__label sk-toggleable__label-arrow\">LogisticRegression</label><div class=\"sk-toggleable__content\"><pre>LogisticRegression()</pre></div></div></div></div></div>"
      ],
      "text/plain": [
       "LogisticRegression()"
      ]
     },
     "execution_count": 182,
     "metadata": {},
     "output_type": "execute_result"
    }
   ],
   "source": [
    "lr.fit(X_train,y_train)"
   ]
  },
  {
   "cell_type": "code",
   "execution_count": 183,
   "id": "bdf835ac",
   "metadata": {},
   "outputs": [],
   "source": [
    "y_pred=lr.predict(X_test)"
   ]
  },
  {
   "cell_type": "code",
   "execution_count": 93,
   "id": "4afe8137",
   "metadata": {},
   "outputs": [],
   "source": [
    "##checking the accuracy\n",
    "\n",
    "from sklearn.metrics import accuracy_score\n",
    "ac=accuracy_score(y_test,y_pred)"
   ]
  },
  {
   "cell_type": "code",
   "execution_count": 94,
   "id": "a681ccf9",
   "metadata": {},
   "outputs": [
    {
     "data": {
      "text/plain": [
       "0.95935"
      ]
     },
     "execution_count": 94,
     "metadata": {},
     "output_type": "execute_result"
    }
   ],
   "source": [
    "ac"
   ]
  },
  {
   "cell_type": "code",
   "execution_count": 184,
   "id": "143fc96b",
   "metadata": {},
   "outputs": [
    {
     "data": {
      "text/plain": [
       "array([[18150,   640],\n",
       "       [  173,  1037]], dtype=int64)"
      ]
     },
     "execution_count": 184,
     "metadata": {},
     "output_type": "execute_result"
    }
   ],
   "source": [
    "##confusion matrix\n",
    "\n",
    "from sklearn.metrics import confusion_matrix\n",
    "matrix=metrics.confusion_matrix(y_pred,y_test)\n",
    "matrix"
   ]
  },
  {
   "cell_type": "code",
   "execution_count": 95,
   "id": "7e217ef3",
   "metadata": {},
   "outputs": [
    {
     "data": {
      "image/png": "[encoded data removed]",
      "text/plain": [
       "<Figure size 640x480 with 2 Axes>"
      ]
     },
     "metadata": {},
     "output_type": "display_data"
    }
   ],
   "source": [
    "matrix=metrics.confusion_matrix(y_pred,y_test)\n",
    "sns.heatmap(matrix,annot=True,cmap='Blues',fmt='0.1f')\n",
    "plt.xlabel(\"Predicted Values\")\n",
    "plt.ylabel(\"Test Values\")\n",
    "plt.title(\"Confusion Matrix for Logistic Regression model\")\n",
    "plt.show()"
   ]
  },
  {
   "cell_type": "code",
   "execution_count": 174,
   "id": "ca538759",
   "metadata": {},
   "outputs": [],
   "source": [
    "##SVC \n",
    "\n",
    "from sklearn.svm import SVC"
   ]
  },
  {
   "cell_type": "code",
   "execution_count": 175,
   "id": "ec332fb8",
   "metadata": {},
   "outputs": [],
   "source": [
    "sv=SVC()"
   ]
  },
  {
   "cell_type": "code",
   "execution_count": 176,
   "id": "704e2236",
   "metadata": {},
   "outputs": [
    {
     "data": {
      "text/html": [
       "<style>#sk-container-id-19 {color: black;background-color: white;}#sk-container-id-19 pre{padding: 0;}#sk-container-id-19 div.sk-toggleable {background-color: white;}#sk-container-id-19 label.sk-toggleable__label {cursor: pointer;display: block;width: 100%;margin-bottom: 0;padding: 0.3em;box-sizing: border-box;text-align: center;}#sk-container-id-19 label.sk-toggleable__label-arrow:before {content: \"▸\";float: left;margin-right: 0.25em;color: #696969;}#sk-container-id-19 label.sk-toggleable__label-arrow:hover:before {color: black;}#sk-container-id-19 div.sk-estimator:hover label.sk-toggleable__label-arrow:before {color: black;}#sk-container-id-19 div.sk-toggleable__content {max-height: 0;max-width: 0;overflow: hidden;text-align: left;background-color: #f0f8ff;}#sk-container-id-19 div.sk-toggleable__content pre {margin: 0.2em;color: black;border-radius: 0.25em;background-color: #f0f8ff;}#sk-container-id-19 input.sk-toggleable__control:checked~div.sk-toggleable__content {max-height: 200px;max-width: 100%;overflow: auto;}#sk-container-id-19 input.sk-toggleable__control:checked~label.sk-toggleable__label-arrow:before {content: \"▾\";}#sk-container-id-19 div.sk-estimator input.sk-toggleable__control:checked~label.sk-toggleable__label {background-color: #d4ebff;}#sk-container-id-19 div.sk-label input.sk-toggleable__control:checked~label.sk-toggleable__label {background-color: #d4ebff;}#sk-container-id-19 input.sk-hidden--visually {border: 0;clip: rect(1px 1px 1px 1px);clip: rect(1px, 1px, 1px, 1px);height: 1px;margin: -1px;overflow: hidden;padding: 0;position: absolute;width: 1px;}#sk-container-id-19 div.sk-estimator {font-family: monospace;background-color: #f0f8ff;border: 1px dotted black;border-radius: 0.25em;box-sizing: border-box;margin-bottom: 0.5em;}#sk-container-id-19 div.sk-estimator:hover {background-color: #d4ebff;}#sk-container-id-19 div.sk-parallel-item::after {content: \"\";width: 100%;border-bottom: 1px solid gray;flex-grow: 1;}#sk-container-id-19 div.sk-label:hover label.sk-toggleable__label {background-color: #d4ebff;}#sk-container-id-19 div.sk-serial::before {content: \"\";position: absolute;border-left: 1px solid gray;box-sizing: border-box;top: 0;bottom: 0;left: 50%;z-index: 0;}#sk-container-id-19 div.sk-serial {display: flex;flex-direction: column;align-items: center;background-color: white;padding-right: 0.2em;padding-left: 0.2em;position: relative;}#sk-container-id-19 div.sk-item {position: relative;z-index: 1;}#sk-container-id-19 div.sk-parallel {display: flex;align-items: stretch;justify-content: center;background-color: white;position: relative;}#sk-container-id-19 div.sk-item::before, #sk-container-id-19 div.sk-parallel-item::before {content: \"\";position: absolute;border-left: 1px solid gray;box-sizing: border-box;top: 0;bottom: 0;left: 50%;z-index: -1;}#sk-container-id-19 div.sk-parallel-item {display: flex;flex-direction: column;z-index: 1;position: relative;background-color: white;}#sk-container-id-19 div.sk-parallel-item:first-child::after {align-self: flex-end;width: 50%;}#sk-container-id-19 div.sk-parallel-item:last-child::after {align-self: flex-start;width: 50%;}#sk-container-id-19 div.sk-parallel-item:only-child::after {width: 0;}#sk-container-id-19 div.sk-dashed-wrapped {border: 1px dashed gray;margin: 0 0.4em 0.5em 0.4em;box-sizing: border-box;padding-bottom: 0.4em;background-color: white;}#sk-container-id-19 div.sk-label label {font-family: monospace;font-weight: bold;display: inline-block;line-height: 1.2em;}#sk-container-id-19 div.sk-label-container {text-align: center;}#sk-container-id-19 div.sk-container {/* jupyter's `normalize.less` sets `[hidden] { display: none; }` but bootstrap.min.css set `[hidden] { display: none !important; }` so we also need the `!important` here to be able to override the default hidden behavior on the sphinx rendered scikit-learn.org. See: https://github.com/scikit-learn/scikit-learn/issues/21755 */display: inline-block !important;position: relative;}#sk-container-id-19 div.sk-text-repr-fallback {display: none;}</style><div id=\"sk-container-id-19\" class=\"sk-top-container\"><div class=\"sk-text-repr-fallback\"><pre>SVC()</pre><b>In a Jupyter environment, please rerun this cell to show the HTML representation or trust the notebook. <br />On GitHub, the HTML representation is unable to render, please try loading this page with nbviewer.org.</b></div><div class=\"sk-container\" hidden><div class=\"sk-item\"><div class=\"sk-estimator sk-toggleable\"><input class=\"sk-toggleable__control sk-hidden--visually\" id=\"sk-estimator-id-19\" type=\"checkbox\" checked><label for=\"sk-estimator-id-19\" class=\"sk-toggleable__label sk-toggleable__label-arrow\">SVC</label><div class=\"sk-toggleable__content\"><pre>SVC()</pre></div></div></div></div></div>"
      ],
      "text/plain": [
       "SVC()"
      ]
     },
     "execution_count": 176,
     "metadata": {},
     "output_type": "execute_result"
    }
   ],
   "source": [
    "sv.fit(X_train,y_train)"
   ]
  },
  {
   "cell_type": "code",
   "execution_count": 177,
   "id": "6a60450c",
   "metadata": {},
   "outputs": [],
   "source": [
    "y_pred=sv.predict(X_test)"
   ]
  },
  {
   "cell_type": "code",
   "execution_count": 100,
   "id": "cc1aacf4",
   "metadata": {},
   "outputs": [
    {
     "data": {
      "text/plain": [
       "0.9484"
      ]
     },
     "execution_count": 100,
     "metadata": {},
     "output_type": "execute_result"
    }
   ],
   "source": [
    "##checking the accuracy\n",
    "\n",
    "from sklearn.metrics import accuracy_score\n",
    "ac=accuracy_score(y_test,y_pred)\n",
    "ac"
   ]
  },
  {
   "cell_type": "code",
   "execution_count": 179,
   "id": "82e9bd46",
   "metadata": {},
   "outputs": [
    {
     "data": {
      "text/plain": [
       "array([[18323,  1032],\n",
       "       [    0,   645]], dtype=int64)"
      ]
     },
     "execution_count": 179,
     "metadata": {},
     "output_type": "execute_result"
    }
   ],
   "source": [
    "##confusion matrix\n",
    "\n",
    "from sklearn.metrics import confusion_matrix\n",
    "matrix=metrics.confusion_matrix(y_pred,y_test)\n",
    "matrix"
   ]
  },
  {
   "cell_type": "code",
   "execution_count": 124,
   "id": "324cfcb9",
   "metadata": {},
   "outputs": [
    {
     "data": {
      "image/png": "[encoded data removed]",
      "text/plain": [
       "<Figure size 640x480 with 2 Axes>"
      ]
     },
     "metadata": {},
     "output_type": "display_data"
    }
   ],
   "source": [
    "matrix=metrics.confusion_matrix(y_pred,y_test)\n",
    "sns.heatmap(matrix,annot=True,cmap='Greens',fmt='0.1f')\n",
    "plt.xlabel(\"Predicted Values\")\n",
    "plt.ylabel(\"Test Values\")\n",
    "plt.title(\"Confusion Matrix for  SVC model\")\n",
    "plt.show()"
   ]
  },
  {
   "cell_type": "code",
   "execution_count": 169,
   "id": "67fd059c",
   "metadata": {},
   "outputs": [],
   "source": [
    "from sklearn.neighbors import KNeighborsClassifier"
   ]
  },
  {
   "cell_type": "code",
   "execution_count": 170,
   "id": "86e49efb",
   "metadata": {},
   "outputs": [],
   "source": [
    "knn=KNeighborsClassifier()"
   ]
  },
  {
   "cell_type": "code",
   "execution_count": 171,
   "id": "6c02fa44",
   "metadata": {},
   "outputs": [
    {
     "data": {
      "text/html": [
       "<style>#sk-container-id-18 {color: black;background-color: white;}#sk-container-id-18 pre{padding: 0;}#sk-container-id-18 div.sk-toggleable {background-color: white;}#sk-container-id-18 label.sk-toggleable__label {cursor: pointer;display: block;width: 100%;margin-bottom: 0;padding: 0.3em;box-sizing: border-box;text-align: center;}#sk-container-id-18 label.sk-toggleable__label-arrow:before {content: \"▸\";float: left;margin-right: 0.25em;color: #696969;}#sk-container-id-18 label.sk-toggleable__label-arrow:hover:before {color: black;}#sk-container-id-18 div.sk-estimator:hover label.sk-toggleable__label-arrow:before {color: black;}#sk-container-id-18 div.sk-toggleable__content {max-height: 0;max-width: 0;overflow: hidden;text-align: left;background-color: #f0f8ff;}#sk-container-id-18 div.sk-toggleable__content pre {margin: 0.2em;color: black;border-radius: 0.25em;background-color: #f0f8ff;}#sk-container-id-18 input.sk-toggleable__control:checked~div.sk-toggleable__content {max-height: 200px;max-width: 100%;overflow: auto;}#sk-container-id-18 input.sk-toggleable__control:checked~label.sk-toggleable__label-arrow:before {content: \"▾\";}#sk-container-id-18 div.sk-estimator input.sk-toggleable__control:checked~label.sk-toggleable__label {background-color: #d4ebff;}#sk-container-id-18 div.sk-label input.sk-toggleable__control:checked~label.sk-toggleable__label {background-color: #d4ebff;}#sk-container-id-18 input.sk-hidden--visually {border: 0;clip: rect(1px 1px 1px 1px);clip: rect(1px, 1px, 1px, 1px);height: 1px;margin: -1px;overflow: hidden;padding: 0;position: absolute;width: 1px;}#sk-container-id-18 div.sk-estimator {font-family: monospace;background-color: #f0f8ff;border: 1px dotted black;border-radius: 0.25em;box-sizing: border-box;margin-bottom: 0.5em;}#sk-container-id-18 div.sk-estimator:hover {background-color: #d4ebff;}#sk-container-id-18 div.sk-parallel-item::after {content: \"\";width: 100%;border-bottom: 1px solid gray;flex-grow: 1;}#sk-container-id-18 div.sk-label:hover label.sk-toggleable__label {background-color: #d4ebff;}#sk-container-id-18 div.sk-serial::before {content: \"\";position: absolute;border-left: 1px solid gray;box-sizing: border-box;top: 0;bottom: 0;left: 50%;z-index: 0;}#sk-container-id-18 div.sk-serial {display: flex;flex-direction: column;align-items: center;background-color: white;padding-right: 0.2em;padding-left: 0.2em;position: relative;}#sk-container-id-18 div.sk-item {position: relative;z-index: 1;}#sk-container-id-18 div.sk-parallel {display: flex;align-items: stretch;justify-content: center;background-color: white;position: relative;}#sk-container-id-18 div.sk-item::before, #sk-container-id-18 div.sk-parallel-item::before {content: \"\";position: absolute;border-left: 1px solid gray;box-sizing: border-box;top: 0;bottom: 0;left: 50%;z-index: -1;}#sk-container-id-18 div.sk-parallel-item {display: flex;flex-direction: column;z-index: 1;position: relative;background-color: white;}#sk-container-id-18 div.sk-parallel-item:first-child::after {align-self: flex-end;width: 50%;}#sk-container-id-18 div.sk-parallel-item:last-child::after {align-self: flex-start;width: 50%;}#sk-container-id-18 div.sk-parallel-item:only-child::after {width: 0;}#sk-container-id-18 div.sk-dashed-wrapped {border: 1px dashed gray;margin: 0 0.4em 0.5em 0.4em;box-sizing: border-box;padding-bottom: 0.4em;background-color: white;}#sk-container-id-18 div.sk-label label {font-family: monospace;font-weight: bold;display: inline-block;line-height: 1.2em;}#sk-container-id-18 div.sk-label-container {text-align: center;}#sk-container-id-18 div.sk-container {/* jupyter's `normalize.less` sets `[hidden] { display: none; }` but bootstrap.min.css set `[hidden] { display: none !important; }` so we also need the `!important` here to be able to override the default hidden behavior on the sphinx rendered scikit-learn.org. See: https://github.com/scikit-learn/scikit-learn/issues/21755 */display: inline-block !important;position: relative;}#sk-container-id-18 div.sk-text-repr-fallback {display: none;}</style><div id=\"sk-container-id-18\" class=\"sk-top-container\"><div class=\"sk-text-repr-fallback\"><pre>KNeighborsClassifier()</pre><b>In a Jupyter environment, please rerun this cell to show the HTML representation or trust the notebook. <br />On GitHub, the HTML representation is unable to render, please try loading this page with nbviewer.org.</b></div><div class=\"sk-container\" hidden><div class=\"sk-item\"><div class=\"sk-estimator sk-toggleable\"><input class=\"sk-toggleable__control sk-hidden--visually\" id=\"sk-estimator-id-18\" type=\"checkbox\" checked><label for=\"sk-estimator-id-18\" class=\"sk-toggleable__label sk-toggleable__label-arrow\">KNeighborsClassifier</label><div class=\"sk-toggleable__content\"><pre>KNeighborsClassifier()</pre></div></div></div></div></div>"
      ],
      "text/plain": [
       "KNeighborsClassifier()"
      ]
     },
     "execution_count": 171,
     "metadata": {},
     "output_type": "execute_result"
    }
   ],
   "source": [
    "knn.fit(X_train,y_train)"
   ]
  },
  {
   "cell_type": "code",
   "execution_count": 172,
   "id": "01a29ecf",
   "metadata": {},
   "outputs": [],
   "source": [
    "y_pred=knn.predict(X_test)"
   ]
  },
  {
   "cell_type": "code",
   "execution_count": 118,
   "id": "9f7df5cf",
   "metadata": {},
   "outputs": [
    {
     "data": {
      "text/plain": [
       "0.95485"
      ]
     },
     "execution_count": 118,
     "metadata": {},
     "output_type": "execute_result"
    }
   ],
   "source": [
    "##checking the accuracy\n",
    "\n",
    "from sklearn.metrics import accuracy_score\n",
    "ac=accuracy_score(y_test,y_pred)\n",
    "ac"
   ]
  },
  {
   "cell_type": "code",
   "execution_count": 173,
   "id": "21ca5bd8",
   "metadata": {},
   "outputs": [
    {
     "data": {
      "text/plain": [
       "array([[18173,   753],\n",
       "       [  150,   924]], dtype=int64)"
      ]
     },
     "execution_count": 173,
     "metadata": {},
     "output_type": "execute_result"
    }
   ],
   "source": [
    "##confusion matrix\n",
    "\n",
    "from sklearn.metrics import confusion_matrix\n",
    "matrix=metrics.confusion_matrix(y_pred,y_test)\n",
    "matrix"
   ]
  },
  {
   "cell_type": "code",
   "execution_count": 123,
   "id": "58d85720",
   "metadata": {},
   "outputs": [
    {
     "data": {
      "image/png": "[encoded data removed]",
      "text/plain": [
       "<Figure size 640x480 with 2 Axes>"
      ]
     },
     "metadata": {},
     "output_type": "display_data"
    }
   ],
   "source": [
    "matrix=metrics.confusion_matrix(y_pred,y_test)\n",
    "sns.heatmap(matrix,annot=True,cmap='Blues',fmt='0.1f')\n",
    "plt.xlabel(\"Predicted Values\")\n",
    "plt.ylabel(\"Test Values\")\n",
    "plt.title(\"Confusion Matrix for  KNeighborsClassifier model\")\n",
    "plt.show()"
   ]
  },
  {
   "cell_type": "code",
   "execution_count": 164,
   "id": "ecb4940f",
   "metadata": {},
   "outputs": [],
   "source": [
    "from sklearn.tree import DecisionTreeClassifier"
   ]
  },
  {
   "cell_type": "code",
   "execution_count": 165,
   "id": "abd29c4f",
   "metadata": {},
   "outputs": [],
   "source": [
    "dtc= DecisionTreeClassifier()"
   ]
  },
  {
   "cell_type": "code",
   "execution_count": 166,
   "id": "d0e11a83",
   "metadata": {},
   "outputs": [
    {
     "data": {
      "text/html": [
       "<style>#sk-container-id-17 {color: black;background-color: white;}#sk-container-id-17 pre{padding: 0;}#sk-container-id-17 div.sk-toggleable {background-color: white;}#sk-container-id-17 label.sk-toggleable__label {cursor: pointer;display: block;width: 100%;margin-bottom: 0;padding: 0.3em;box-sizing: border-box;text-align: center;}#sk-container-id-17 label.sk-toggleable__label-arrow:before {content: \"▸\";float: left;margin-right: 0.25em;color: #696969;}#sk-container-id-17 label.sk-toggleable__label-arrow:hover:before {color: black;}#sk-container-id-17 div.sk-estimator:hover label.sk-toggleable__label-arrow:before {color: black;}#sk-container-id-17 div.sk-toggleable__content {max-height: 0;max-width: 0;overflow: hidden;text-align: left;background-color: #f0f8ff;}#sk-container-id-17 div.sk-toggleable__content pre {margin: 0.2em;color: black;border-radius: 0.25em;background-color: #f0f8ff;}#sk-container-id-17 input.sk-toggleable__control:checked~div.sk-toggleable__content {max-height: 200px;max-width: 100%;overflow: auto;}#sk-container-id-17 input.sk-toggleable__control:checked~label.sk-toggleable__label-arrow:before {content: \"▾\";}#sk-container-id-17 div.sk-estimator input.sk-toggleable__control:checked~label.sk-toggleable__label {background-color: #d4ebff;}#sk-container-id-17 div.sk-label input.sk-toggleable__control:checked~label.sk-toggleable__label {background-color: #d4ebff;}#sk-container-id-17 input.sk-hidden--visually {border: 0;clip: rect(1px 1px 1px 1px);clip: rect(1px, 1px, 1px, 1px);height: 1px;margin: -1px;overflow: hidden;padding: 0;position: absolute;width: 1px;}#sk-container-id-17 div.sk-estimator {font-family: monospace;background-color: #f0f8ff;border: 1px dotted black;border-radius: 0.25em;box-sizing: border-box;margin-bottom: 0.5em;}#sk-container-id-17 div.sk-estimator:hover {background-color: #d4ebff;}#sk-container-id-17 div.sk-parallel-item::after {content: \"\";width: 100%;border-bottom: 1px solid gray;flex-grow: 1;}#sk-container-id-17 div.sk-label:hover label.sk-toggleable__label {background-color: #d4ebff;}#sk-container-id-17 div.sk-serial::before {content: \"\";position: absolute;border-left: 1px solid gray;box-sizing: border-box;top: 0;bottom: 0;left: 50%;z-index: 0;}#sk-container-id-17 div.sk-serial {display: flex;flex-direction: column;align-items: center;background-color: white;padding-right: 0.2em;padding-left: 0.2em;position: relative;}#sk-container-id-17 div.sk-item {position: relative;z-index: 1;}#sk-container-id-17 div.sk-parallel {display: flex;align-items: stretch;justify-content: center;background-color: white;position: relative;}#sk-container-id-17 div.sk-item::before, #sk-container-id-17 div.sk-parallel-item::before {content: \"\";position: absolute;border-left: 1px solid gray;box-sizing: border-box;top: 0;bottom: 0;left: 50%;z-index: -1;}#sk-container-id-17 div.sk-parallel-item {display: flex;flex-direction: column;z-index: 1;position: relative;background-color: white;}#sk-container-id-17 div.sk-parallel-item:first-child::after {align-self: flex-end;width: 50%;}#sk-container-id-17 div.sk-parallel-item:last-child::after {align-self: flex-start;width: 50%;}#sk-container-id-17 div.sk-parallel-item:only-child::after {width: 0;}#sk-container-id-17 div.sk-dashed-wrapped {border: 1px dashed gray;margin: 0 0.4em 0.5em 0.4em;box-sizing: border-box;padding-bottom: 0.4em;background-color: white;}#sk-container-id-17 div.sk-label label {font-family: monospace;font-weight: bold;display: inline-block;line-height: 1.2em;}#sk-container-id-17 div.sk-label-container {text-align: center;}#sk-container-id-17 div.sk-container {/* jupyter's `normalize.less` sets `[hidden] { display: none; }` but bootstrap.min.css set `[hidden] { display: none !important; }` so we also need the `!important` here to be able to override the default hidden behavior on the sphinx rendered scikit-learn.org. See: https://github.com/scikit-learn/scikit-learn/issues/21755 */display: inline-block !important;position: relative;}#sk-container-id-17 div.sk-text-repr-fallback {display: none;}</style><div id=\"sk-container-id-17\" class=\"sk-top-container\"><div class=\"sk-text-repr-fallback\"><pre>DecisionTreeClassifier()</pre><b>In a Jupyter environment, please rerun this cell to show the HTML representation or trust the notebook. <br />On GitHub, the HTML representation is unable to render, please try loading this page with nbviewer.org.</b></div><div class=\"sk-container\" hidden><div class=\"sk-item\"><div class=\"sk-estimator sk-toggleable\"><input class=\"sk-toggleable__control sk-hidden--visually\" id=\"sk-estimator-id-17\" type=\"checkbox\" checked><label for=\"sk-estimator-id-17\" class=\"sk-toggleable__label sk-toggleable__label-arrow\">DecisionTreeClassifier</label><div class=\"sk-toggleable__content\"><pre>DecisionTreeClassifier()</pre></div></div></div></div></div>"
      ],
      "text/plain": [
       "DecisionTreeClassifier()"
      ]
     },
     "execution_count": 166,
     "metadata": {},
     "output_type": "execute_result"
    }
   ],
   "source": [
    "dtc.fit(X_train,y_train)"
   ]
  },
  {
   "cell_type": "code",
   "execution_count": 167,
   "id": "f8e0ebd0",
   "metadata": {},
   "outputs": [],
   "source": [
    "y_pred=dtc.predict(X_test)"
   ]
  },
  {
   "cell_type": "code",
   "execution_count": 129,
   "id": "292fec4c",
   "metadata": {},
   "outputs": [
    {
     "data": {
      "text/plain": [
       "0.9536"
      ]
     },
     "execution_count": 129,
     "metadata": {},
     "output_type": "execute_result"
    }
   ],
   "source": [
    "##checking the accuracy\n",
    "\n",
    "from sklearn.metrics import accuracy_score\n",
    "ac=accuracy_score(y_test,y_pred)\n",
    "ac"
   ]
  },
  {
   "cell_type": "code",
   "execution_count": 168,
   "id": "56c17f1a",
   "metadata": {},
   "outputs": [
    {
     "data": {
      "text/plain": [
       "array([[17835,   439],\n",
       "       [  488,  1238]], dtype=int64)"
      ]
     },
     "execution_count": 168,
     "metadata": {},
     "output_type": "execute_result"
    }
   ],
   "source": [
    "##confusion matrix\n",
    "\n",
    "from sklearn.metrics import confusion_matrix\n",
    "matrix=metrics.confusion_matrix(y_pred,y_test)\n",
    "matrix"
   ]
  },
  {
   "cell_type": "code",
   "execution_count": 130,
   "id": "5c472131",
   "metadata": {},
   "outputs": [
    {
     "data": {
      "image/png": "[encoded data removed]",
      "text/plain": [
       "<Figure size 640x480 with 2 Axes>"
      ]
     },
     "metadata": {},
     "output_type": "display_data"
    }
   ],
   "source": [
    "matrix=metrics.confusion_matrix(y_pred,y_test)\n",
    "sns.heatmap(matrix,annot=True,cmap='Reds',fmt='0.1f')\n",
    "plt.xlabel(\"Predicted Values\")\n",
    "plt.ylabel(\"Test Values\")\n",
    "plt.title(\"Confusion Matrix for DecisionTreeClassifier model\")\n",
    "plt.show()"
   ]
  },
  {
   "cell_type": "code",
   "execution_count": 101,
   "id": "3e956026",
   "metadata": {},
   "outputs": [
    {
     "name": "stdout",
     "output_type": "stream",
     "text": [
      "Defaulting to user installation because normal site-packages is not writeable\n",
      "Requirement already satisfied: xgboost in c:\\users\\kiit\\appdata\\roaming\\python\\python310\\site-packages (2.0.3)\n",
      "Requirement already satisfied: numpy in c:\\programdata\\anaconda3\\lib\\site-packages (from xgboost) (1.23.5)\n",
      "Requirement already satisfied: scipy in c:\\programdata\\anaconda3\\lib\\site-packages (from xgboost) (1.10.0)\n",
      "Note: you may need to restart the kernel to use updated packages.\n"
     ]
    }
   ],
   "source": [
    "pip install xgboost"
   ]
  },
  {
   "cell_type": "code",
   "execution_count": 158,
   "id": "25d56734",
   "metadata": {},
   "outputs": [],
   "source": [
    "##XGBoost Classifier\n",
    "\n",
    "from xgboost import XGBClassifier"
   ]
  },
  {
   "cell_type": "code",
   "execution_count": 159,
   "id": "bac04522",
   "metadata": {},
   "outputs": [],
   "source": [
    "xgb=XGBClassifier()"
   ]
  },
  {
   "cell_type": "code",
   "execution_count": 160,
   "id": "a78a87d6",
   "metadata": {},
   "outputs": [
    {
     "data": {
      "text/html": [
       "<style>#sk-container-id-16 {color: black;background-color: white;}#sk-container-id-16 pre{padding: 0;}#sk-container-id-16 div.sk-toggleable {background-color: white;}#sk-container-id-16 label.sk-toggleable__label {cursor: pointer;display: block;width: 100%;margin-bottom: 0;padding: 0.3em;box-sizing: border-box;text-align: center;}#sk-container-id-16 label.sk-toggleable__label-arrow:before {content: \"▸\";float: left;margin-right: 0.25em;color: #696969;}#sk-container-id-16 label.sk-toggleable__label-arrow:hover:before {color: black;}#sk-container-id-16 div.sk-estimator:hover label.sk-toggleable__label-arrow:before {color: black;}#sk-container-id-16 div.sk-toggleable__content {max-height: 0;max-width: 0;overflow: hidden;text-align: left;background-color: #f0f8ff;}#sk-container-id-16 div.sk-toggleable__content pre {margin: 0.2em;color: black;border-radius: 0.25em;background-color: #f0f8ff;}#sk-container-id-16 input.sk-toggleable__control:checked~div.sk-toggleable__content {max-height: 200px;max-width: 100%;overflow: auto;}#sk-container-id-16 input.sk-toggleable__control:checked~label.sk-toggleable__label-arrow:before {content: \"▾\";}#sk-container-id-16 div.sk-estimator input.sk-toggleable__control:checked~label.sk-toggleable__label {background-color: #d4ebff;}#sk-container-id-16 div.sk-label input.sk-toggleable__control:checked~label.sk-toggleable__label {background-color: #d4ebff;}#sk-container-id-16 input.sk-hidden--visually {border: 0;clip: rect(1px 1px 1px 1px);clip: rect(1px, 1px, 1px, 1px);height: 1px;margin: -1px;overflow: hidden;padding: 0;position: absolute;width: 1px;}#sk-container-id-16 div.sk-estimator {font-family: monospace;background-color: #f0f8ff;border: 1px dotted black;border-radius: 0.25em;box-sizing: border-box;margin-bottom: 0.5em;}#sk-container-id-16 div.sk-estimator:hover {background-color: #d4ebff;}#sk-container-id-16 div.sk-parallel-item::after {content: \"\";width: 100%;border-bottom: 1px solid gray;flex-grow: 1;}#sk-container-id-16 div.sk-label:hover label.sk-toggleable__label {background-color: #d4ebff;}#sk-container-id-16 div.sk-serial::before {content: \"\";position: absolute;border-left: 1px solid gray;box-sizing: border-box;top: 0;bottom: 0;left: 50%;z-index: 0;}#sk-container-id-16 div.sk-serial {display: flex;flex-direction: column;align-items: center;background-color: white;padding-right: 0.2em;padding-left: 0.2em;position: relative;}#sk-container-id-16 div.sk-item {position: relative;z-index: 1;}#sk-container-id-16 div.sk-parallel {display: flex;align-items: stretch;justify-content: center;background-color: white;position: relative;}#sk-container-id-16 div.sk-item::before, #sk-container-id-16 div.sk-parallel-item::before {content: \"\";position: absolute;border-left: 1px solid gray;box-sizing: border-box;top: 0;bottom: 0;left: 50%;z-index: -1;}#sk-container-id-16 div.sk-parallel-item {display: flex;flex-direction: column;z-index: 1;position: relative;background-color: white;}#sk-container-id-16 div.sk-parallel-item:first-child::after {align-self: flex-end;width: 50%;}#sk-container-id-16 div.sk-parallel-item:last-child::after {align-self: flex-start;width: 50%;}#sk-container-id-16 div.sk-parallel-item:only-child::after {width: 0;}#sk-container-id-16 div.sk-dashed-wrapped {border: 1px dashed gray;margin: 0 0.4em 0.5em 0.4em;box-sizing: border-box;padding-bottom: 0.4em;background-color: white;}#sk-container-id-16 div.sk-label label {font-family: monospace;font-weight: bold;display: inline-block;line-height: 1.2em;}#sk-container-id-16 div.sk-label-container {text-align: center;}#sk-container-id-16 div.sk-container {/* jupyter's `normalize.less` sets `[hidden] { display: none; }` but bootstrap.min.css set `[hidden] { display: none !important; }` so we also need the `!important` here to be able to override the default hidden behavior on the sphinx rendered scikit-learn.org. See: https://github.com/scikit-learn/scikit-learn/issues/21755 */display: inline-block !important;position: relative;}#sk-container-id-16 div.sk-text-repr-fallback {display: none;}</style><div id=\"sk-container-id-16\" class=\"sk-top-container\"><div class=\"sk-text-repr-fallback\"><pre>XGBClassifier(base_score=None, booster=None, callbacks=None,\n",
       "              colsample_bylevel=None, colsample_bynode=None,\n",
       "              colsample_bytree=None, device=None, early_stopping_rounds=None,\n",
       "              enable_categorical=False, eval_metric=None, feature_types=None,\n",
       "              gamma=None, grow_policy=None, importance_type=None,\n",
       "              interaction_constraints=None, learning_rate=None, max_bin=None,\n",
       "              max_cat_threshold=None, max_cat_to_onehot=None,\n",
       "              max_delta_step=None, max_depth=None, max_leaves=None,\n",
       "              min_child_weight=None, missing=nan, monotone_constraints=None,\n",
       "              multi_strategy=None, n_estimators=None, n_jobs=None,\n",
       "              num_parallel_tree=None, random_state=None, ...)</pre><b>In a Jupyter environment, please rerun this cell to show the HTML representation or trust the notebook. <br />On GitHub, the HTML representation is unable to render, please try loading this page with nbviewer.org.</b></div><div class=\"sk-container\" hidden><div class=\"sk-item\"><div class=\"sk-estimator sk-toggleable\"><input class=\"sk-toggleable__control sk-hidden--visually\" id=\"sk-estimator-id-16\" type=\"checkbox\" checked><label for=\"sk-estimator-id-16\" class=\"sk-toggleable__label sk-toggleable__label-arrow\">XGBClassifier</label><div class=\"sk-toggleable__content\"><pre>XGBClassifier(base_score=None, booster=None, callbacks=None,\n",
       "              colsample_bylevel=None, colsample_bynode=None,\n",
       "              colsample_bytree=None, device=None, early_stopping_rounds=None,\n",
       "              enable_categorical=False, eval_metric=None, feature_types=None,\n",
       "              gamma=None, grow_policy=None, importance_type=None,\n",
       "              interaction_constraints=None, learning_rate=None, max_bin=None,\n",
       "              max_cat_threshold=None, max_cat_to_onehot=None,\n",
       "              max_delta_step=None, max_depth=None, max_leaves=None,\n",
       "              min_child_weight=None, missing=nan, monotone_constraints=None,\n",
       "              multi_strategy=None, n_estimators=None, n_jobs=None,\n",
       "              num_parallel_tree=None, random_state=None, ...)</pre></div></div></div></div></div>"
      ],
      "text/plain": [
       "XGBClassifier(base_score=None, booster=None, callbacks=None,\n",
       "              colsample_bylevel=None, colsample_bynode=None,\n",
       "              colsample_bytree=None, device=None, early_stopping_rounds=None,\n",
       "              enable_categorical=False, eval_metric=None, feature_types=None,\n",
       "              gamma=None, grow_policy=None, importance_type=None,\n",
       "              interaction_constraints=None, learning_rate=None, max_bin=None,\n",
       "              max_cat_threshold=None, max_cat_to_onehot=None,\n",
       "              max_delta_step=None, max_depth=None, max_leaves=None,\n",
       "              min_child_weight=None, missing=nan, monotone_constraints=None,\n",
       "              multi_strategy=None, n_estimators=None, n_jobs=None,\n",
       "              num_parallel_tree=None, random_state=None, ...)"
      ]
     },
     "execution_count": 160,
     "metadata": {},
     "output_type": "execute_result"
    }
   ],
   "source": [
    "xgb.fit(X_train,y_train)"
   ]
  },
  {
   "cell_type": "code",
   "execution_count": 161,
   "id": "bb8f9eb0",
   "metadata": {},
   "outputs": [],
   "source": [
    "y_pred=xgb.predict(X_test)"
   ]
  },
  {
   "cell_type": "code",
   "execution_count": 162,
   "id": "fef9472f",
   "metadata": {},
   "outputs": [
    {
     "data": {
      "text/plain": [
       "0.9705"
      ]
     },
     "execution_count": 162,
     "metadata": {},
     "output_type": "execute_result"
    }
   ],
   "source": [
    "##checking the accuracy\n",
    "\n",
    "from sklearn.metrics import accuracy_score\n",
    "ac=accuracy_score(y_test,y_pred)\n",
    "ac"
   ]
  },
  {
   "cell_type": "code",
   "execution_count": 107,
   "id": "4f5bbf7f",
   "metadata": {},
   "outputs": [],
   "source": [
    "from sklearn import metrics"
   ]
  },
  {
   "cell_type": "code",
   "execution_count": 163,
   "id": "fd4227fc",
   "metadata": {},
   "outputs": [
    {
     "data": {
      "text/plain": [
       "array([[18259,   526],\n",
       "       [   64,  1151]], dtype=int64)"
      ]
     },
     "execution_count": 163,
     "metadata": {},
     "output_type": "execute_result"
    }
   ],
   "source": [
    "##confusion matrix\n",
    "\n",
    "from sklearn.metrics import confusion_matrix\n",
    "matrix=metrics.confusion_matrix(y_pred,y_test)\n",
    "matrix"
   ]
  },
  {
   "cell_type": "code",
   "execution_count": 139,
   "id": "b518ed4f",
   "metadata": {},
   "outputs": [
    {
     "data": {
      "image/png": "[encoded data removed]",
      "text/plain": [
       "<Figure size 640x480 with 2 Axes>"
      ]
     },
     "metadata": {},
     "output_type": "display_data"
    }
   ],
   "source": [
    "matrix=metrics.confusion_matrix(y_pred,y_test)\n",
    "sns.heatmap(matrix,annot=True,cmap='Oranges',fmt='0.1f')\n",
    "plt.xlabel(\"Predicted Values\")\n",
    "plt.ylabel(\"Test Values\")\n",
    "plt.title(\"Confusion Matrix for XGB Classifier model\")\n",
    "plt.show()"
   ]
  },
  {
   "cell_type": "code",
   "execution_count": 153,
   "id": "ad82ac9c",
   "metadata": {},
   "outputs": [],
   "source": [
    "import lightgbm as lgbm"
   ]
  },
  {
   "cell_type": "code",
   "execution_count": 154,
   "id": "24dc3e2b",
   "metadata": {},
   "outputs": [],
   "source": [
    "start_time=time.time()\n",
    "lgb=lgbm.LGBMClassifier()"
   ]
  },
  {
   "cell_type": "code",
   "execution_count": 155,
   "id": "991b26a6",
   "metadata": {},
   "outputs": [
    {
     "name": "stdout",
     "output_type": "stream",
     "text": [
      "[LightGBM] [Info] Number of positive: 6823, number of negative: 73177\n",
      "[LightGBM] [Info] Auto-choosing row-wise multi-threading, the overhead of testing was 0.002151 seconds.\n",
      "You can set `force_row_wise=true` to remove the overhead.\n",
      "And if memory is not enough, you can set `force_col_wise=true`.\n",
      "[LightGBM] [Info] Total Bins 403\n",
      "[LightGBM] [Info] Number of data points in the train set: 80000, number of used features: 7\n",
      "[LightGBM] [Info] [binary:BoostFromScore]: pavg=0.085288 -> initscore=-2.372582\n",
      "[LightGBM] [Info] Start training from score -2.372582\n"
     ]
    },
    {
     "data": {
      "text/html": [
       "<style>#sk-container-id-15 {color: black;background-color: white;}#sk-container-id-15 pre{padding: 0;}#sk-container-id-15 div.sk-toggleable {background-color: white;}#sk-container-id-15 label.sk-toggleable__label {cursor: pointer;display: block;width: 100%;margin-bottom: 0;padding: 0.3em;box-sizing: border-box;text-align: center;}#sk-container-id-15 label.sk-toggleable__label-arrow:before {content: \"▸\";float: left;margin-right: 0.25em;color: #696969;}#sk-container-id-15 label.sk-toggleable__label-arrow:hover:before {color: black;}#sk-container-id-15 div.sk-estimator:hover label.sk-toggleable__label-arrow:before {color: black;}#sk-container-id-15 div.sk-toggleable__content {max-height: 0;max-width: 0;overflow: hidden;text-align: left;background-color: #f0f8ff;}#sk-container-id-15 div.sk-toggleable__content pre {margin: 0.2em;color: black;border-radius: 0.25em;background-color: #f0f8ff;}#sk-container-id-15 input.sk-toggleable__control:checked~div.sk-toggleable__content {max-height: 200px;max-width: 100%;overflow: auto;}#sk-container-id-15 input.sk-toggleable__control:checked~label.sk-toggleable__label-arrow:before {content: \"▾\";}#sk-container-id-15 div.sk-estimator input.sk-toggleable__control:checked~label.sk-toggleable__label {background-color: #d4ebff;}#sk-container-id-15 div.sk-label input.sk-toggleable__control:checked~label.sk-toggleable__label {background-color: #d4ebff;}#sk-container-id-15 input.sk-hidden--visually {border: 0;clip: rect(1px 1px 1px 1px);clip: rect(1px, 1px, 1px, 1px);height: 1px;margin: -1px;overflow: hidden;padding: 0;position: absolute;width: 1px;}#sk-container-id-15 div.sk-estimator {font-family: monospace;background-color: #f0f8ff;border: 1px dotted black;border-radius: 0.25em;box-sizing: border-box;margin-bottom: 0.5em;}#sk-container-id-15 div.sk-estimator:hover {background-color: #d4ebff;}#sk-container-id-15 div.sk-parallel-item::after {content: \"\";width: 100%;border-bottom: 1px solid gray;flex-grow: 1;}#sk-container-id-15 div.sk-label:hover label.sk-toggleable__label {background-color: #d4ebff;}#sk-container-id-15 div.sk-serial::before {content: \"\";position: absolute;border-left: 1px solid gray;box-sizing: border-box;top: 0;bottom: 0;left: 50%;z-index: 0;}#sk-container-id-15 div.sk-serial {display: flex;flex-direction: column;align-items: center;background-color: white;padding-right: 0.2em;padding-left: 0.2em;position: relative;}#sk-container-id-15 div.sk-item {position: relative;z-index: 1;}#sk-container-id-15 div.sk-parallel {display: flex;align-items: stretch;justify-content: center;background-color: white;position: relative;}#sk-container-id-15 div.sk-item::before, #sk-container-id-15 div.sk-parallel-item::before {content: \"\";position: absolute;border-left: 1px solid gray;box-sizing: border-box;top: 0;bottom: 0;left: 50%;z-index: -1;}#sk-container-id-15 div.sk-parallel-item {display: flex;flex-direction: column;z-index: 1;position: relative;background-color: white;}#sk-container-id-15 div.sk-parallel-item:first-child::after {align-self: flex-end;width: 50%;}#sk-container-id-15 div.sk-parallel-item:last-child::after {align-self: flex-start;width: 50%;}#sk-container-id-15 div.sk-parallel-item:only-child::after {width: 0;}#sk-container-id-15 div.sk-dashed-wrapped {border: 1px dashed gray;margin: 0 0.4em 0.5em 0.4em;box-sizing: border-box;padding-bottom: 0.4em;background-color: white;}#sk-container-id-15 div.sk-label label {font-family: monospace;font-weight: bold;display: inline-block;line-height: 1.2em;}#sk-container-id-15 div.sk-label-container {text-align: center;}#sk-container-id-15 div.sk-container {/* jupyter's `normalize.less` sets `[hidden] { display: none; }` but bootstrap.min.css set `[hidden] { display: none !important; }` so we also need the `!important` here to be able to override the default hidden behavior on the sphinx rendered scikit-learn.org. See: https://github.com/scikit-learn/scikit-learn/issues/21755 */display: inline-block !important;position: relative;}#sk-container-id-15 div.sk-text-repr-fallback {display: none;}</style><div id=\"sk-container-id-15\" class=\"sk-top-container\"><div class=\"sk-text-repr-fallback\"><pre>LGBMClassifier()</pre><b>In a Jupyter environment, please rerun this cell to show the HTML representation or trust the notebook. <br />On GitHub, the HTML representation is unable to render, please try loading this page with nbviewer.org.</b></div><div class=\"sk-container\" hidden><div class=\"sk-item\"><div class=\"sk-estimator sk-toggleable\"><input class=\"sk-toggleable__control sk-hidden--visually\" id=\"sk-estimator-id-15\" type=\"checkbox\" checked><label for=\"sk-estimator-id-15\" class=\"sk-toggleable__label sk-toggleable__label-arrow\">LGBMClassifier</label><div class=\"sk-toggleable__content\"><pre>LGBMClassifier()</pre></div></div></div></div></div>"
      ],
      "text/plain": [
       "LGBMClassifier()"
      ]
     },
     "execution_count": 155,
     "metadata": {},
     "output_type": "execute_result"
    }
   ],
   "source": [
    "lgb.fit(X_train,y_train)"
   ]
  },
  {
   "cell_type": "code",
   "execution_count": 156,
   "id": "587e654e",
   "metadata": {},
   "outputs": [],
   "source": [
    "y_pred=lgb.predict(X_test)"
   ]
  },
  {
   "cell_type": "code",
   "execution_count": 136,
   "id": "cb497ebf",
   "metadata": {},
   "outputs": [],
   "source": [
    "end_time=time.time()"
   ]
  },
  {
   "cell_type": "code",
   "execution_count": 137,
   "id": "74465af7",
   "metadata": {},
   "outputs": [],
   "source": [
    "training_time=end_time-start_time"
   ]
  },
  {
   "cell_type": "code",
   "execution_count": 138,
   "id": "e2015d9a",
   "metadata": {},
   "outputs": [
    {
     "data": {
      "text/plain": [
       "0.9719"
      ]
     },
     "execution_count": 138,
     "metadata": {},
     "output_type": "execute_result"
    }
   ],
   "source": [
    "##checking the accuracy\n",
    "\n",
    "from sklearn.metrics import accuracy_score\n",
    "ac=accuracy_score(y_test,y_pred)\n",
    "ac"
   ]
  },
  {
   "cell_type": "code",
   "execution_count": 157,
   "id": "2546943a",
   "metadata": {},
   "outputs": [
    {
     "data": {
      "text/plain": [
       "array([[18301,   540],\n",
       "       [   22,  1137]], dtype=int64)"
      ]
     },
     "execution_count": 157,
     "metadata": {},
     "output_type": "execute_result"
    }
   ],
   "source": [
    "##confusion matrix\n",
    "\n",
    "from sklearn.metrics import confusion_matrix\n",
    "matrix=metrics.confusion_matrix(y_pred,y_test)\n",
    "matrix"
   ]
  },
  {
   "cell_type": "code",
   "execution_count": 141,
   "id": "a3cf0899",
   "metadata": {},
   "outputs": [
    {
     "data": {
      "image/png": "[encoded data removed]",
      "text/plain": [
       "<Figure size 640x480 with 2 Axes>"
      ]
     },
     "metadata": {},
     "output_type": "display_data"
    }
   ],
   "source": [
    "matrix=metrics.confusion_matrix(y_pred,y_test)\n",
    "sns.heatmap(matrix,annot=True,cmap='Greens',fmt='0.1f')\n",
    "plt.xlabel(\"Predicted Values\")\n",
    "plt.ylabel(\"Test Values\")\n",
    "plt.title(\"Confusion Matrix for lightgbm  model\")\n",
    "plt.show()"
   ]
  },
  {
   "cell_type": "code",
   "execution_count": 144,
   "id": "1c4bb9c4",
   "metadata": {},
   "outputs": [],
   "source": [
    "from catboost import CatBoostClassifier"
   ]
  },
  {
   "cell_type": "code",
   "execution_count": 145,
   "id": "a8a91063",
   "metadata": {},
   "outputs": [],
   "source": [
    "cb=CatBoostClassifier()"
   ]
  },
  {
   "cell_type": "code",
   "execution_count": 146,
   "id": "b2a0a766",
   "metadata": {},
   "outputs": [
    {
     "name": "stdout",
     "output_type": "stream",
     "text": [
      "Learning rate set to 0.06692\n",
      "0:\tlearn: 0.5782914\ttotal: 167ms\tremaining: 2m 46s\n",
      "1:\tlearn: 0.4674042\ttotal: 191ms\tremaining: 1m 35s\n",
      "2:\tlearn: 0.3731301\ttotal: 216ms\tremaining: 1m 11s\n",
      "3:\tlearn: 0.3150366\ttotal: 238ms\tremaining: 59.2s\n",
      "4:\tlearn: 0.2727613\ttotal: 257ms\tremaining: 51.1s\n",
      "5:\tlearn: 0.2429642\ttotal: 278ms\tremaining: 46s\n",
      "6:\tlearn: 0.2182477\ttotal: 296ms\tremaining: 42s\n",
      "7:\tlearn: 0.1845987\ttotal: 315ms\tremaining: 39s\n",
      "8:\tlearn: 0.1617540\ttotal: 330ms\tremaining: 36.3s\n",
      "9:\tlearn: 0.1527647\ttotal: 342ms\tremaining: 33.8s\n",
      "10:\tlearn: 0.1428191\ttotal: 355ms\tremaining: 31.9s\n",
      "11:\tlearn: 0.1298107\ttotal: 367ms\tremaining: 30.2s\n",
      "12:\tlearn: 0.1207902\ttotal: 381ms\tremaining: 28.9s\n",
      "13:\tlearn: 0.1123101\ttotal: 395ms\tremaining: 27.8s\n",
      "14:\tlearn: 0.1086735\ttotal: 408ms\tremaining: 26.8s\n",
      "15:\tlearn: 0.1054861\ttotal: 421ms\tremaining: 25.9s\n",
      "16:\tlearn: 0.1024935\ttotal: 442ms\tremaining: 25.6s\n",
      "17:\tlearn: 0.0983702\ttotal: 456ms\tremaining: 24.9s\n",
      "18:\tlearn: 0.0963876\ttotal: 470ms\tremaining: 24.3s\n",
      "19:\tlearn: 0.0938835\ttotal: 483ms\tremaining: 23.7s\n",
      "20:\tlearn: 0.0918917\ttotal: 496ms\tremaining: 23.1s\n",
      "21:\tlearn: 0.0904042\ttotal: 510ms\tremaining: 22.7s\n",
      "22:\tlearn: 0.0891693\ttotal: 523ms\tremaining: 22.2s\n",
      "23:\tlearn: 0.0882322\ttotal: 537ms\tremaining: 21.8s\n",
      "24:\tlearn: 0.0874126\ttotal: 551ms\tremaining: 21.5s\n",
      "25:\tlearn: 0.0869500\ttotal: 565ms\tremaining: 21.2s\n",
      "26:\tlearn: 0.0865180\ttotal: 579ms\tremaining: 20.9s\n",
      "27:\tlearn: 0.0854574\ttotal: 592ms\tremaining: 20.5s\n",
      "28:\tlearn: 0.0850631\ttotal: 605ms\tremaining: 20.3s\n",
      "29:\tlearn: 0.0847093\ttotal: 618ms\tremaining: 20s\n",
      "30:\tlearn: 0.0843507\ttotal: 638ms\tremaining: 19.9s\n",
      "31:\tlearn: 0.0840913\ttotal: 655ms\tremaining: 19.8s\n",
      "32:\tlearn: 0.0833003\ttotal: 668ms\tremaining: 19.6s\n",
      "33:\tlearn: 0.0826935\ttotal: 682ms\tremaining: 19.4s\n",
      "34:\tlearn: 0.0824942\ttotal: 696ms\tremaining: 19.2s\n",
      "35:\tlearn: 0.0821910\ttotal: 710ms\tremaining: 19s\n",
      "36:\tlearn: 0.0819750\ttotal: 723ms\tremaining: 18.8s\n",
      "37:\tlearn: 0.0817700\ttotal: 742ms\tremaining: 18.8s\n",
      "38:\tlearn: 0.0813429\ttotal: 760ms\tremaining: 18.7s\n",
      "39:\tlearn: 0.0812298\ttotal: 777ms\tremaining: 18.6s\n",
      "40:\tlearn: 0.0810903\ttotal: 791ms\tremaining: 18.5s\n",
      "41:\tlearn: 0.0809793\ttotal: 803ms\tremaining: 18.3s\n",
      "42:\tlearn: 0.0808689\ttotal: 817ms\tremaining: 18.2s\n",
      "43:\tlearn: 0.0807288\ttotal: 829ms\tremaining: 18s\n",
      "44:\tlearn: 0.0806277\ttotal: 843ms\tremaining: 17.9s\n",
      "45:\tlearn: 0.0805168\ttotal: 863ms\tremaining: 17.9s\n",
      "46:\tlearn: 0.0804250\ttotal: 877ms\tremaining: 17.8s\n",
      "47:\tlearn: 0.0803464\ttotal: 892ms\tremaining: 17.7s\n",
      "48:\tlearn: 0.0802641\ttotal: 910ms\tremaining: 17.7s\n",
      "49:\tlearn: 0.0801562\ttotal: 926ms\tremaining: 17.6s\n",
      "50:\tlearn: 0.0800512\ttotal: 943ms\tremaining: 17.6s\n",
      "51:\tlearn: 0.0799878\ttotal: 968ms\tremaining: 17.6s\n",
      "52:\tlearn: 0.0798835\ttotal: 990ms\tremaining: 17.7s\n",
      "53:\tlearn: 0.0798514\ttotal: 1.01s\tremaining: 17.8s\n",
      "54:\tlearn: 0.0797751\ttotal: 1.04s\tremaining: 17.9s\n",
      "55:\tlearn: 0.0796702\ttotal: 1.07s\tremaining: 18s\n",
      "56:\tlearn: 0.0796080\ttotal: 1.09s\tremaining: 18s\n",
      "57:\tlearn: 0.0795489\ttotal: 1.1s\tremaining: 17.9s\n",
      "58:\tlearn: 0.0794950\ttotal: 1.12s\tremaining: 17.9s\n",
      "59:\tlearn: 0.0792520\ttotal: 1.14s\tremaining: 17.8s\n",
      "60:\tlearn: 0.0791973\ttotal: 1.15s\tremaining: 17.8s\n",
      "61:\tlearn: 0.0791421\ttotal: 1.17s\tremaining: 17.8s\n",
      "62:\tlearn: 0.0790910\ttotal: 1.19s\tremaining: 17.7s\n",
      "63:\tlearn: 0.0790544\ttotal: 1.21s\tremaining: 17.7s\n",
      "64:\tlearn: 0.0790147\ttotal: 1.23s\tremaining: 17.6s\n",
      "65:\tlearn: 0.0789746\ttotal: 1.24s\tremaining: 17.6s\n",
      "66:\tlearn: 0.0789196\ttotal: 1.26s\tremaining: 17.5s\n",
      "67:\tlearn: 0.0788731\ttotal: 1.27s\tremaining: 17.4s\n",
      "68:\tlearn: 0.0788421\ttotal: 1.29s\tremaining: 17.4s\n",
      "69:\tlearn: 0.0788026\ttotal: 1.31s\tremaining: 17.4s\n",
      "70:\tlearn: 0.0787670\ttotal: 1.32s\tremaining: 17.3s\n",
      "71:\tlearn: 0.0787300\ttotal: 1.33s\tremaining: 17.2s\n",
      "72:\tlearn: 0.0787004\ttotal: 1.35s\tremaining: 17.1s\n",
      "73:\tlearn: 0.0786563\ttotal: 1.36s\tremaining: 17s\n",
      "74:\tlearn: 0.0785983\ttotal: 1.38s\tremaining: 17s\n",
      "75:\tlearn: 0.0784323\ttotal: 1.39s\tremaining: 16.9s\n",
      "76:\tlearn: 0.0783996\ttotal: 1.4s\tremaining: 16.8s\n",
      "77:\tlearn: 0.0783650\ttotal: 1.42s\tremaining: 16.7s\n",
      "78:\tlearn: 0.0783324\ttotal: 1.43s\tremaining: 16.7s\n",
      "79:\tlearn: 0.0783043\ttotal: 1.44s\tremaining: 16.6s\n",
      "80:\tlearn: 0.0782682\ttotal: 1.46s\tremaining: 16.5s\n",
      "81:\tlearn: 0.0782320\ttotal: 1.47s\tremaining: 16.5s\n",
      "82:\tlearn: 0.0781980\ttotal: 1.48s\tremaining: 16.4s\n",
      "83:\tlearn: 0.0781661\ttotal: 1.5s\tremaining: 16.3s\n",
      "84:\tlearn: 0.0781355\ttotal: 1.52s\tremaining: 16.4s\n",
      "85:\tlearn: 0.0780918\ttotal: 1.53s\tremaining: 16.3s\n",
      "86:\tlearn: 0.0780489\ttotal: 1.55s\tremaining: 16.3s\n",
      "87:\tlearn: 0.0780195\ttotal: 1.56s\tremaining: 16.2s\n",
      "88:\tlearn: 0.0779745\ttotal: 1.58s\tremaining: 16.1s\n",
      "89:\tlearn: 0.0779453\ttotal: 1.59s\tremaining: 16.1s\n",
      "90:\tlearn: 0.0779154\ttotal: 1.6s\tremaining: 16s\n",
      "91:\tlearn: 0.0778758\ttotal: 1.62s\tremaining: 16s\n",
      "92:\tlearn: 0.0778538\ttotal: 1.63s\tremaining: 15.9s\n",
      "93:\tlearn: 0.0778286\ttotal: 1.65s\tremaining: 15.9s\n",
      "94:\tlearn: 0.0778003\ttotal: 1.66s\tremaining: 15.8s\n",
      "95:\tlearn: 0.0777603\ttotal: 1.67s\tremaining: 15.8s\n",
      "96:\tlearn: 0.0777321\ttotal: 1.69s\tremaining: 15.7s\n",
      "97:\tlearn: 0.0776900\ttotal: 1.7s\tremaining: 15.7s\n",
      "98:\tlearn: 0.0776688\ttotal: 1.72s\tremaining: 15.7s\n",
      "99:\tlearn: 0.0776467\ttotal: 1.74s\tremaining: 15.6s\n",
      "100:\tlearn: 0.0775362\ttotal: 1.75s\tremaining: 15.6s\n",
      "101:\tlearn: 0.0775048\ttotal: 1.76s\tremaining: 15.5s\n",
      "102:\tlearn: 0.0774769\ttotal: 1.78s\tremaining: 15.5s\n",
      "103:\tlearn: 0.0774439\ttotal: 1.79s\tremaining: 15.4s\n",
      "104:\tlearn: 0.0774276\ttotal: 1.8s\tremaining: 15.4s\n",
      "105:\tlearn: 0.0774126\ttotal: 1.82s\tremaining: 15.3s\n",
      "106:\tlearn: 0.0773743\ttotal: 1.83s\tremaining: 15.3s\n",
      "107:\tlearn: 0.0773555\ttotal: 1.85s\tremaining: 15.3s\n",
      "108:\tlearn: 0.0773077\ttotal: 1.86s\tremaining: 15.2s\n",
      "109:\tlearn: 0.0772894\ttotal: 1.88s\tremaining: 15.2s\n",
      "110:\tlearn: 0.0772646\ttotal: 1.9s\tremaining: 15.2s\n",
      "111:\tlearn: 0.0772347\ttotal: 1.91s\tremaining: 15.2s\n",
      "112:\tlearn: 0.0772086\ttotal: 1.94s\tremaining: 15.2s\n",
      "113:\tlearn: 0.0771720\ttotal: 1.96s\tremaining: 15.2s\n",
      "114:\tlearn: 0.0771494\ttotal: 1.97s\tremaining: 15.2s\n",
      "115:\tlearn: 0.0771348\ttotal: 1.99s\tremaining: 15.2s\n",
      "116:\tlearn: 0.0771196\ttotal: 2.01s\tremaining: 15.1s\n",
      "117:\tlearn: 0.0771057\ttotal: 2.02s\tremaining: 15.1s\n",
      "118:\tlearn: 0.0770824\ttotal: 2.04s\tremaining: 15.1s\n",
      "119:\tlearn: 0.0769436\ttotal: 2.06s\tremaining: 15.1s\n",
      "120:\tlearn: 0.0769186\ttotal: 2.07s\tremaining: 15.1s\n",
      "121:\tlearn: 0.0769049\ttotal: 2.09s\tremaining: 15s\n",
      "122:\tlearn: 0.0768777\ttotal: 2.1s\tremaining: 15s\n",
      "123:\tlearn: 0.0768617\ttotal: 2.12s\tremaining: 15s\n",
      "124:\tlearn: 0.0768439\ttotal: 2.14s\tremaining: 15s\n",
      "125:\tlearn: 0.0768225\ttotal: 2.16s\tremaining: 15s\n",
      "126:\tlearn: 0.0768074\ttotal: 2.17s\tremaining: 14.9s\n",
      "127:\tlearn: 0.0767752\ttotal: 2.19s\tremaining: 14.9s\n",
      "128:\tlearn: 0.0767630\ttotal: 2.21s\tremaining: 14.9s\n",
      "129:\tlearn: 0.0767310\ttotal: 2.22s\tremaining: 14.9s\n",
      "130:\tlearn: 0.0767001\ttotal: 2.24s\tremaining: 14.8s\n",
      "131:\tlearn: 0.0766856\ttotal: 2.26s\tremaining: 14.8s\n",
      "132:\tlearn: 0.0766505\ttotal: 2.27s\tremaining: 14.8s\n",
      "133:\tlearn: 0.0766203\ttotal: 2.29s\tremaining: 14.8s\n",
      "134:\tlearn: 0.0765938\ttotal: 2.3s\tremaining: 14.8s\n",
      "135:\tlearn: 0.0765667\ttotal: 2.32s\tremaining: 14.7s\n",
      "136:\tlearn: 0.0765469\ttotal: 2.33s\tremaining: 14.7s\n",
      "137:\tlearn: 0.0765192\ttotal: 2.35s\tremaining: 14.7s\n",
      "138:\tlearn: 0.0764998\ttotal: 2.38s\tremaining: 14.7s\n",
      "139:\tlearn: 0.0764701\ttotal: 2.4s\tremaining: 14.7s\n",
      "140:\tlearn: 0.0764429\ttotal: 2.41s\tremaining: 14.7s\n",
      "141:\tlearn: 0.0764275\ttotal: 2.42s\tremaining: 14.7s\n",
      "142:\tlearn: 0.0764116\ttotal: 2.44s\tremaining: 14.6s\n",
      "143:\tlearn: 0.0764028\ttotal: 2.45s\tremaining: 14.6s\n",
      "144:\tlearn: 0.0763395\ttotal: 2.47s\tremaining: 14.6s\n",
      "145:\tlearn: 0.0763199\ttotal: 2.48s\tremaining: 14.5s\n",
      "146:\tlearn: 0.0763138\ttotal: 2.5s\tremaining: 14.5s\n",
      "147:\tlearn: 0.0762979\ttotal: 2.51s\tremaining: 14.4s\n",
      "148:\tlearn: 0.0762733\ttotal: 2.52s\tremaining: 14.4s\n",
      "149:\tlearn: 0.0762336\ttotal: 2.54s\tremaining: 14.4s\n",
      "150:\tlearn: 0.0762147\ttotal: 2.56s\tremaining: 14.4s\n",
      "151:\tlearn: 0.0761863\ttotal: 2.57s\tremaining: 14.4s\n",
      "152:\tlearn: 0.0761503\ttotal: 2.59s\tremaining: 14.3s\n",
      "153:\tlearn: 0.0761123\ttotal: 2.6s\tremaining: 14.3s\n",
      "154:\tlearn: 0.0760889\ttotal: 2.62s\tremaining: 14.3s\n",
      "155:\tlearn: 0.0760771\ttotal: 2.63s\tremaining: 14.2s\n",
      "156:\tlearn: 0.0760619\ttotal: 2.65s\tremaining: 14.2s\n",
      "157:\tlearn: 0.0760467\ttotal: 2.66s\tremaining: 14.2s\n",
      "158:\tlearn: 0.0760280\ttotal: 2.67s\tremaining: 14.2s\n",
      "159:\tlearn: 0.0759652\ttotal: 2.69s\tremaining: 14.1s\n",
      "160:\tlearn: 0.0759299\ttotal: 2.7s\tremaining: 14.1s\n",
      "161:\tlearn: 0.0759144\ttotal: 2.71s\tremaining: 14s\n",
      "162:\tlearn: 0.0758914\ttotal: 2.73s\tremaining: 14s\n"
     ]
    },
    {
     "name": "stdout",
     "output_type": "stream",
     "text": [
      "163:\tlearn: 0.0758659\ttotal: 2.74s\tremaining: 14s\n",
      "164:\tlearn: 0.0758362\ttotal: 2.76s\tremaining: 14s\n",
      "165:\tlearn: 0.0758143\ttotal: 2.77s\tremaining: 13.9s\n",
      "166:\tlearn: 0.0757872\ttotal: 2.79s\tremaining: 13.9s\n",
      "167:\tlearn: 0.0757549\ttotal: 2.8s\tremaining: 13.9s\n",
      "168:\tlearn: 0.0757213\ttotal: 2.82s\tremaining: 13.8s\n",
      "169:\tlearn: 0.0757009\ttotal: 2.83s\tremaining: 13.8s\n",
      "170:\tlearn: 0.0756665\ttotal: 2.84s\tremaining: 13.8s\n",
      "171:\tlearn: 0.0756429\ttotal: 2.86s\tremaining: 13.8s\n",
      "172:\tlearn: 0.0755850\ttotal: 2.87s\tremaining: 13.7s\n",
      "173:\tlearn: 0.0755739\ttotal: 2.89s\tremaining: 13.7s\n",
      "174:\tlearn: 0.0755459\ttotal: 2.9s\tremaining: 13.7s\n",
      "175:\tlearn: 0.0755203\ttotal: 2.92s\tremaining: 13.7s\n",
      "176:\tlearn: 0.0754798\ttotal: 2.94s\tremaining: 13.7s\n",
      "177:\tlearn: 0.0754403\ttotal: 2.96s\tremaining: 13.7s\n",
      "178:\tlearn: 0.0754109\ttotal: 2.98s\tremaining: 13.6s\n",
      "179:\tlearn: 0.0753884\ttotal: 2.99s\tremaining: 13.6s\n",
      "180:\tlearn: 0.0753680\ttotal: 3s\tremaining: 13.6s\n",
      "181:\tlearn: 0.0753442\ttotal: 3.02s\tremaining: 13.6s\n",
      "182:\tlearn: 0.0753165\ttotal: 3.03s\tremaining: 13.5s\n",
      "183:\tlearn: 0.0752815\ttotal: 3.04s\tremaining: 13.5s\n",
      "184:\tlearn: 0.0752439\ttotal: 3.06s\tremaining: 13.5s\n",
      "185:\tlearn: 0.0752160\ttotal: 3.07s\tremaining: 13.4s\n",
      "186:\tlearn: 0.0751889\ttotal: 3.08s\tremaining: 13.4s\n",
      "187:\tlearn: 0.0751647\ttotal: 3.1s\tremaining: 13.4s\n",
      "188:\tlearn: 0.0751311\ttotal: 3.11s\tremaining: 13.3s\n",
      "189:\tlearn: 0.0751094\ttotal: 3.12s\tremaining: 13.3s\n",
      "190:\tlearn: 0.0750880\ttotal: 3.14s\tremaining: 13.3s\n",
      "191:\tlearn: 0.0750737\ttotal: 3.15s\tremaining: 13.3s\n",
      "192:\tlearn: 0.0750615\ttotal: 3.16s\tremaining: 13.2s\n",
      "193:\tlearn: 0.0750434\ttotal: 3.18s\tremaining: 13.2s\n",
      "194:\tlearn: 0.0750150\ttotal: 3.2s\tremaining: 13.2s\n",
      "195:\tlearn: 0.0749916\ttotal: 3.21s\tremaining: 13.2s\n",
      "196:\tlearn: 0.0749685\ttotal: 3.23s\tremaining: 13.2s\n",
      "197:\tlearn: 0.0749446\ttotal: 3.24s\tremaining: 13.1s\n",
      "198:\tlearn: 0.0749267\ttotal: 3.26s\tremaining: 13.1s\n",
      "199:\tlearn: 0.0748972\ttotal: 3.27s\tremaining: 13.1s\n",
      "200:\tlearn: 0.0748687\ttotal: 3.29s\tremaining: 13.1s\n",
      "201:\tlearn: 0.0748536\ttotal: 3.31s\tremaining: 13.1s\n",
      "202:\tlearn: 0.0748370\ttotal: 3.32s\tremaining: 13s\n",
      "203:\tlearn: 0.0748176\ttotal: 3.33s\tremaining: 13s\n",
      "204:\tlearn: 0.0747920\ttotal: 3.35s\tremaining: 13s\n",
      "205:\tlearn: 0.0747681\ttotal: 3.36s\tremaining: 13s\n",
      "206:\tlearn: 0.0747473\ttotal: 3.37s\tremaining: 12.9s\n",
      "207:\tlearn: 0.0747188\ttotal: 3.39s\tremaining: 12.9s\n",
      "208:\tlearn: 0.0747090\ttotal: 3.4s\tremaining: 12.9s\n",
      "209:\tlearn: 0.0746878\ttotal: 3.42s\tremaining: 12.9s\n",
      "210:\tlearn: 0.0746685\ttotal: 3.43s\tremaining: 12.8s\n",
      "211:\tlearn: 0.0746462\ttotal: 3.44s\tremaining: 12.8s\n",
      "212:\tlearn: 0.0746145\ttotal: 3.46s\tremaining: 12.8s\n",
      "213:\tlearn: 0.0745811\ttotal: 3.47s\tremaining: 12.8s\n",
      "214:\tlearn: 0.0745545\ttotal: 3.49s\tremaining: 12.7s\n",
      "215:\tlearn: 0.0745347\ttotal: 3.5s\tremaining: 12.7s\n",
      "216:\tlearn: 0.0745206\ttotal: 3.52s\tremaining: 12.7s\n",
      "217:\tlearn: 0.0745004\ttotal: 3.54s\tremaining: 12.7s\n",
      "218:\tlearn: 0.0744940\ttotal: 3.55s\tremaining: 12.7s\n",
      "219:\tlearn: 0.0744611\ttotal: 3.56s\tremaining: 12.6s\n",
      "220:\tlearn: 0.0744394\ttotal: 3.58s\tremaining: 12.6s\n",
      "221:\tlearn: 0.0744273\ttotal: 3.59s\tremaining: 12.6s\n",
      "222:\tlearn: 0.0744077\ttotal: 3.61s\tremaining: 12.6s\n",
      "223:\tlearn: 0.0743852\ttotal: 3.63s\tremaining: 12.6s\n",
      "224:\tlearn: 0.0743682\ttotal: 3.64s\tremaining: 12.5s\n",
      "225:\tlearn: 0.0743599\ttotal: 3.66s\tremaining: 12.5s\n",
      "226:\tlearn: 0.0743330\ttotal: 3.67s\tremaining: 12.5s\n",
      "227:\tlearn: 0.0743267\ttotal: 3.68s\tremaining: 12.5s\n",
      "228:\tlearn: 0.0743107\ttotal: 3.69s\tremaining: 12.4s\n",
      "229:\tlearn: 0.0742928\ttotal: 3.71s\tremaining: 12.4s\n",
      "230:\tlearn: 0.0742740\ttotal: 3.72s\tremaining: 12.4s\n",
      "231:\tlearn: 0.0742544\ttotal: 3.73s\tremaining: 12.4s\n",
      "232:\tlearn: 0.0742342\ttotal: 3.75s\tremaining: 12.3s\n",
      "233:\tlearn: 0.0742141\ttotal: 3.76s\tremaining: 12.3s\n",
      "234:\tlearn: 0.0741999\ttotal: 3.77s\tremaining: 12.3s\n",
      "235:\tlearn: 0.0741791\ttotal: 3.79s\tremaining: 12.3s\n",
      "236:\tlearn: 0.0741553\ttotal: 3.8s\tremaining: 12.2s\n",
      "237:\tlearn: 0.0741251\ttotal: 3.82s\tremaining: 12.2s\n",
      "238:\tlearn: 0.0741013\ttotal: 3.83s\tremaining: 12.2s\n",
      "239:\tlearn: 0.0740931\ttotal: 3.85s\tremaining: 12.2s\n",
      "240:\tlearn: 0.0740749\ttotal: 3.86s\tremaining: 12.2s\n",
      "241:\tlearn: 0.0740435\ttotal: 3.88s\tremaining: 12.1s\n",
      "242:\tlearn: 0.0740147\ttotal: 3.89s\tremaining: 12.1s\n",
      "243:\tlearn: 0.0739871\ttotal: 3.91s\tremaining: 12.1s\n",
      "244:\tlearn: 0.0739635\ttotal: 3.93s\tremaining: 12.1s\n",
      "245:\tlearn: 0.0739319\ttotal: 3.94s\tremaining: 12.1s\n",
      "246:\tlearn: 0.0739030\ttotal: 3.96s\tremaining: 12.1s\n",
      "247:\tlearn: 0.0738846\ttotal: 3.98s\tremaining: 12.1s\n",
      "248:\tlearn: 0.0738544\ttotal: 4.01s\tremaining: 12.1s\n",
      "249:\tlearn: 0.0738354\ttotal: 4.03s\tremaining: 12.1s\n",
      "250:\tlearn: 0.0738148\ttotal: 4.04s\tremaining: 12.1s\n",
      "251:\tlearn: 0.0737810\ttotal: 4.06s\tremaining: 12s\n",
      "252:\tlearn: 0.0737585\ttotal: 4.07s\tremaining: 12s\n",
      "253:\tlearn: 0.0737317\ttotal: 4.08s\tremaining: 12s\n",
      "254:\tlearn: 0.0736840\ttotal: 4.1s\tremaining: 12s\n",
      "255:\tlearn: 0.0736717\ttotal: 4.11s\tremaining: 12s\n",
      "256:\tlearn: 0.0736501\ttotal: 4.13s\tremaining: 11.9s\n",
      "257:\tlearn: 0.0736274\ttotal: 4.14s\tremaining: 11.9s\n",
      "258:\tlearn: 0.0736106\ttotal: 4.16s\tremaining: 11.9s\n",
      "259:\tlearn: 0.0735804\ttotal: 4.17s\tremaining: 11.9s\n",
      "260:\tlearn: 0.0735615\ttotal: 4.19s\tremaining: 11.9s\n",
      "261:\tlearn: 0.0735424\ttotal: 4.2s\tremaining: 11.8s\n",
      "262:\tlearn: 0.0735206\ttotal: 4.22s\tremaining: 11.8s\n",
      "263:\tlearn: 0.0734977\ttotal: 4.24s\tremaining: 11.8s\n",
      "264:\tlearn: 0.0734723\ttotal: 4.25s\tremaining: 11.8s\n",
      "265:\tlearn: 0.0734495\ttotal: 4.27s\tremaining: 11.8s\n",
      "266:\tlearn: 0.0734354\ttotal: 4.28s\tremaining: 11.7s\n",
      "267:\tlearn: 0.0734116\ttotal: 4.29s\tremaining: 11.7s\n",
      "268:\tlearn: 0.0733851\ttotal: 4.3s\tremaining: 11.7s\n",
      "269:\tlearn: 0.0733594\ttotal: 4.32s\tremaining: 11.7s\n",
      "270:\tlearn: 0.0733380\ttotal: 4.33s\tremaining: 11.7s\n",
      "271:\tlearn: 0.0733249\ttotal: 4.35s\tremaining: 11.6s\n",
      "272:\tlearn: 0.0733071\ttotal: 4.36s\tremaining: 11.6s\n",
      "273:\tlearn: 0.0732910\ttotal: 4.38s\tremaining: 11.6s\n",
      "274:\tlearn: 0.0732667\ttotal: 4.39s\tremaining: 11.6s\n",
      "275:\tlearn: 0.0732447\ttotal: 4.4s\tremaining: 11.5s\n",
      "276:\tlearn: 0.0732292\ttotal: 4.42s\tremaining: 11.5s\n",
      "277:\tlearn: 0.0732132\ttotal: 4.43s\tremaining: 11.5s\n",
      "278:\tlearn: 0.0732001\ttotal: 4.45s\tremaining: 11.5s\n",
      "279:\tlearn: 0.0731857\ttotal: 4.46s\tremaining: 11.5s\n",
      "280:\tlearn: 0.0731724\ttotal: 4.49s\tremaining: 11.5s\n",
      "281:\tlearn: 0.0731552\ttotal: 4.51s\tremaining: 11.5s\n",
      "282:\tlearn: 0.0731343\ttotal: 4.53s\tremaining: 11.5s\n",
      "283:\tlearn: 0.0731154\ttotal: 4.54s\tremaining: 11.4s\n",
      "284:\tlearn: 0.0730948\ttotal: 4.55s\tremaining: 11.4s\n",
      "285:\tlearn: 0.0730832\ttotal: 4.57s\tremaining: 11.4s\n",
      "286:\tlearn: 0.0730673\ttotal: 4.58s\tremaining: 11.4s\n",
      "287:\tlearn: 0.0730457\ttotal: 4.6s\tremaining: 11.4s\n",
      "288:\tlearn: 0.0730120\ttotal: 4.62s\tremaining: 11.4s\n",
      "289:\tlearn: 0.0729956\ttotal: 4.63s\tremaining: 11.3s\n",
      "290:\tlearn: 0.0729775\ttotal: 4.64s\tremaining: 11.3s\n",
      "291:\tlearn: 0.0729556\ttotal: 4.66s\tremaining: 11.3s\n",
      "292:\tlearn: 0.0729390\ttotal: 4.68s\tremaining: 11.3s\n",
      "293:\tlearn: 0.0729011\ttotal: 4.69s\tremaining: 11.3s\n",
      "294:\tlearn: 0.0728721\ttotal: 4.71s\tremaining: 11.3s\n",
      "295:\tlearn: 0.0728516\ttotal: 4.72s\tremaining: 11.2s\n",
      "296:\tlearn: 0.0728321\ttotal: 4.74s\tremaining: 11.2s\n",
      "297:\tlearn: 0.0728230\ttotal: 4.75s\tremaining: 11.2s\n",
      "298:\tlearn: 0.0727989\ttotal: 4.76s\tremaining: 11.2s\n",
      "299:\tlearn: 0.0727649\ttotal: 4.78s\tremaining: 11.1s\n",
      "300:\tlearn: 0.0727464\ttotal: 4.79s\tremaining: 11.1s\n",
      "301:\tlearn: 0.0727276\ttotal: 4.8s\tremaining: 11.1s\n",
      "302:\tlearn: 0.0727112\ttotal: 4.81s\tremaining: 11.1s\n",
      "303:\tlearn: 0.0726896\ttotal: 4.83s\tremaining: 11.1s\n",
      "304:\tlearn: 0.0726708\ttotal: 4.84s\tremaining: 11s\n",
      "305:\tlearn: 0.0726562\ttotal: 4.86s\tremaining: 11s\n",
      "306:\tlearn: 0.0726482\ttotal: 4.88s\tremaining: 11s\n",
      "307:\tlearn: 0.0726236\ttotal: 4.89s\tremaining: 11s\n",
      "308:\tlearn: 0.0726066\ttotal: 4.91s\tremaining: 11s\n",
      "309:\tlearn: 0.0725881\ttotal: 4.92s\tremaining: 11s\n",
      "310:\tlearn: 0.0725548\ttotal: 4.94s\tremaining: 10.9s\n",
      "311:\tlearn: 0.0725365\ttotal: 4.95s\tremaining: 10.9s\n",
      "312:\tlearn: 0.0725004\ttotal: 4.96s\tremaining: 10.9s\n",
      "313:\tlearn: 0.0724743\ttotal: 4.98s\tremaining: 10.9s\n",
      "314:\tlearn: 0.0724483\ttotal: 4.99s\tremaining: 10.9s\n",
      "315:\tlearn: 0.0724209\ttotal: 5.01s\tremaining: 10.8s\n",
      "316:\tlearn: 0.0724019\ttotal: 5.02s\tremaining: 10.8s\n",
      "317:\tlearn: 0.0723920\ttotal: 5.04s\tremaining: 10.8s\n",
      "318:\tlearn: 0.0723877\ttotal: 5.05s\tremaining: 10.8s\n",
      "319:\tlearn: 0.0723595\ttotal: 5.07s\tremaining: 10.8s\n",
      "320:\tlearn: 0.0723448\ttotal: 5.08s\tremaining: 10.8s\n",
      "321:\tlearn: 0.0723233\ttotal: 5.1s\tremaining: 10.7s\n",
      "322:\tlearn: 0.0722998\ttotal: 5.12s\tremaining: 10.7s\n",
      "323:\tlearn: 0.0722801\ttotal: 5.16s\tremaining: 10.8s\n",
      "324:\tlearn: 0.0722678\ttotal: 5.18s\tremaining: 10.8s\n",
      "325:\tlearn: 0.0722583\ttotal: 5.2s\tremaining: 10.7s\n",
      "326:\tlearn: 0.0722365\ttotal: 5.22s\tremaining: 10.7s\n",
      "327:\tlearn: 0.0722189\ttotal: 5.24s\tremaining: 10.7s\n",
      "328:\tlearn: 0.0722077\ttotal: 5.25s\tremaining: 10.7s\n",
      "329:\tlearn: 0.0721909\ttotal: 5.26s\tremaining: 10.7s\n"
     ]
    },
    {
     "name": "stdout",
     "output_type": "stream",
     "text": [
      "330:\tlearn: 0.0721736\ttotal: 5.28s\tremaining: 10.7s\n",
      "331:\tlearn: 0.0721591\ttotal: 5.31s\tremaining: 10.7s\n",
      "332:\tlearn: 0.0721449\ttotal: 5.33s\tremaining: 10.7s\n",
      "333:\tlearn: 0.0721320\ttotal: 5.34s\tremaining: 10.6s\n",
      "334:\tlearn: 0.0721150\ttotal: 5.35s\tremaining: 10.6s\n",
      "335:\tlearn: 0.0721002\ttotal: 5.37s\tremaining: 10.6s\n",
      "336:\tlearn: 0.0720786\ttotal: 5.38s\tremaining: 10.6s\n",
      "337:\tlearn: 0.0720620\ttotal: 5.39s\tremaining: 10.6s\n",
      "338:\tlearn: 0.0720383\ttotal: 5.41s\tremaining: 10.5s\n",
      "339:\tlearn: 0.0720128\ttotal: 5.42s\tremaining: 10.5s\n",
      "340:\tlearn: 0.0720027\ttotal: 5.44s\tremaining: 10.5s\n",
      "341:\tlearn: 0.0719694\ttotal: 5.45s\tremaining: 10.5s\n",
      "342:\tlearn: 0.0719390\ttotal: 5.46s\tremaining: 10.5s\n",
      "343:\tlearn: 0.0719164\ttotal: 5.48s\tremaining: 10.4s\n",
      "344:\tlearn: 0.0718842\ttotal: 5.5s\tremaining: 10.4s\n",
      "345:\tlearn: 0.0718633\ttotal: 5.51s\tremaining: 10.4s\n",
      "346:\tlearn: 0.0718592\ttotal: 5.53s\tremaining: 10.4s\n",
      "347:\tlearn: 0.0718415\ttotal: 5.54s\tremaining: 10.4s\n",
      "348:\tlearn: 0.0718179\ttotal: 5.55s\tremaining: 10.4s\n",
      "349:\tlearn: 0.0718086\ttotal: 5.57s\tremaining: 10.3s\n",
      "350:\tlearn: 0.0718011\ttotal: 5.58s\tremaining: 10.3s\n",
      "351:\tlearn: 0.0717868\ttotal: 5.59s\tremaining: 10.3s\n",
      "352:\tlearn: 0.0717578\ttotal: 5.61s\tremaining: 10.3s\n",
      "353:\tlearn: 0.0717397\ttotal: 5.62s\tremaining: 10.3s\n",
      "354:\tlearn: 0.0717325\ttotal: 5.63s\tremaining: 10.2s\n",
      "355:\tlearn: 0.0717023\ttotal: 5.64s\tremaining: 10.2s\n",
      "356:\tlearn: 0.0716776\ttotal: 5.66s\tremaining: 10.2s\n",
      "357:\tlearn: 0.0716505\ttotal: 5.67s\tremaining: 10.2s\n",
      "358:\tlearn: 0.0716372\ttotal: 5.69s\tremaining: 10.2s\n",
      "359:\tlearn: 0.0716125\ttotal: 5.7s\tremaining: 10.1s\n",
      "360:\tlearn: 0.0715978\ttotal: 5.72s\tremaining: 10.1s\n",
      "361:\tlearn: 0.0715943\ttotal: 5.73s\tremaining: 10.1s\n",
      "362:\tlearn: 0.0715820\ttotal: 5.75s\tremaining: 10.1s\n",
      "363:\tlearn: 0.0715679\ttotal: 5.76s\tremaining: 10.1s\n",
      "364:\tlearn: 0.0715514\ttotal: 5.78s\tremaining: 10s\n",
      "365:\tlearn: 0.0715289\ttotal: 5.79s\tremaining: 10s\n",
      "366:\tlearn: 0.0715127\ttotal: 5.8s\tremaining: 10s\n",
      "367:\tlearn: 0.0714966\ttotal: 5.81s\tremaining: 9.99s\n",
      "368:\tlearn: 0.0714765\ttotal: 5.83s\tremaining: 9.96s\n",
      "369:\tlearn: 0.0714601\ttotal: 5.84s\tremaining: 9.95s\n",
      "370:\tlearn: 0.0714422\ttotal: 5.85s\tremaining: 9.93s\n",
      "371:\tlearn: 0.0714180\ttotal: 5.87s\tremaining: 9.91s\n",
      "372:\tlearn: 0.0713992\ttotal: 5.88s\tremaining: 9.89s\n",
      "373:\tlearn: 0.0713895\ttotal: 5.9s\tremaining: 9.87s\n",
      "374:\tlearn: 0.0713607\ttotal: 5.91s\tremaining: 9.85s\n",
      "375:\tlearn: 0.0713462\ttotal: 5.93s\tremaining: 9.84s\n",
      "376:\tlearn: 0.0713248\ttotal: 5.95s\tremaining: 9.82s\n",
      "377:\tlearn: 0.0713079\ttotal: 5.96s\tremaining: 9.81s\n",
      "378:\tlearn: 0.0712946\ttotal: 5.97s\tremaining: 9.79s\n",
      "379:\tlearn: 0.0712774\ttotal: 5.99s\tremaining: 9.77s\n",
      "380:\tlearn: 0.0712621\ttotal: 6s\tremaining: 9.75s\n",
      "381:\tlearn: 0.0712440\ttotal: 6.01s\tremaining: 9.73s\n",
      "382:\tlearn: 0.0712210\ttotal: 6.03s\tremaining: 9.71s\n",
      "383:\tlearn: 0.0712013\ttotal: 6.04s\tremaining: 9.69s\n",
      "384:\tlearn: 0.0711821\ttotal: 6.05s\tremaining: 9.67s\n",
      "385:\tlearn: 0.0711686\ttotal: 6.07s\tremaining: 9.65s\n",
      "386:\tlearn: 0.0711509\ttotal: 6.08s\tremaining: 9.64s\n",
      "387:\tlearn: 0.0711319\ttotal: 6.1s\tremaining: 9.62s\n",
      "388:\tlearn: 0.0711218\ttotal: 6.11s\tremaining: 9.6s\n",
      "389:\tlearn: 0.0711126\ttotal: 6.13s\tremaining: 9.59s\n",
      "390:\tlearn: 0.0710966\ttotal: 6.15s\tremaining: 9.58s\n",
      "391:\tlearn: 0.0710827\ttotal: 6.16s\tremaining: 9.56s\n",
      "392:\tlearn: 0.0710642\ttotal: 6.18s\tremaining: 9.54s\n",
      "393:\tlearn: 0.0710516\ttotal: 6.19s\tremaining: 9.52s\n",
      "394:\tlearn: 0.0710375\ttotal: 6.21s\tremaining: 9.5s\n",
      "395:\tlearn: 0.0710233\ttotal: 6.22s\tremaining: 9.49s\n",
      "396:\tlearn: 0.0709889\ttotal: 6.23s\tremaining: 9.47s\n",
      "397:\tlearn: 0.0709590\ttotal: 6.25s\tremaining: 9.45s\n",
      "398:\tlearn: 0.0709422\ttotal: 6.26s\tremaining: 9.43s\n",
      "399:\tlearn: 0.0709296\ttotal: 6.28s\tremaining: 9.41s\n",
      "400:\tlearn: 0.0709162\ttotal: 6.29s\tremaining: 9.39s\n",
      "401:\tlearn: 0.0709050\ttotal: 6.3s\tremaining: 9.38s\n",
      "402:\tlearn: 0.0708904\ttotal: 6.32s\tremaining: 9.36s\n",
      "403:\tlearn: 0.0708800\ttotal: 6.33s\tremaining: 9.34s\n",
      "404:\tlearn: 0.0708500\ttotal: 6.35s\tremaining: 9.33s\n",
      "405:\tlearn: 0.0708384\ttotal: 6.37s\tremaining: 9.31s\n",
      "406:\tlearn: 0.0708259\ttotal: 6.38s\tremaining: 9.3s\n",
      "407:\tlearn: 0.0708086\ttotal: 6.39s\tremaining: 9.28s\n",
      "408:\tlearn: 0.0707912\ttotal: 6.41s\tremaining: 9.26s\n",
      "409:\tlearn: 0.0707675\ttotal: 6.42s\tremaining: 9.24s\n",
      "410:\tlearn: 0.0707533\ttotal: 6.44s\tremaining: 9.22s\n",
      "411:\tlearn: 0.0707336\ttotal: 6.45s\tremaining: 9.21s\n",
      "412:\tlearn: 0.0707252\ttotal: 6.46s\tremaining: 9.19s\n",
      "413:\tlearn: 0.0707096\ttotal: 6.48s\tremaining: 9.17s\n",
      "414:\tlearn: 0.0706837\ttotal: 6.49s\tremaining: 9.15s\n",
      "415:\tlearn: 0.0706641\ttotal: 6.5s\tremaining: 9.13s\n",
      "416:\tlearn: 0.0706459\ttotal: 6.52s\tremaining: 9.11s\n",
      "417:\tlearn: 0.0706388\ttotal: 6.53s\tremaining: 9.09s\n",
      "418:\tlearn: 0.0706294\ttotal: 6.54s\tremaining: 9.07s\n",
      "419:\tlearn: 0.0706157\ttotal: 6.56s\tremaining: 9.06s\n",
      "420:\tlearn: 0.0705982\ttotal: 6.58s\tremaining: 9.05s\n",
      "421:\tlearn: 0.0705950\ttotal: 6.59s\tremaining: 9.03s\n",
      "422:\tlearn: 0.0705739\ttotal: 6.61s\tremaining: 9.01s\n",
      "423:\tlearn: 0.0705577\ttotal: 6.62s\tremaining: 9s\n",
      "424:\tlearn: 0.0705360\ttotal: 6.64s\tremaining: 8.98s\n",
      "425:\tlearn: 0.0705147\ttotal: 6.65s\tremaining: 8.96s\n",
      "426:\tlearn: 0.0704996\ttotal: 6.66s\tremaining: 8.94s\n",
      "427:\tlearn: 0.0704900\ttotal: 6.68s\tremaining: 8.93s\n",
      "428:\tlearn: 0.0704702\ttotal: 6.69s\tremaining: 8.91s\n",
      "429:\tlearn: 0.0704518\ttotal: 6.71s\tremaining: 8.89s\n",
      "430:\tlearn: 0.0704316\ttotal: 6.72s\tremaining: 8.87s\n",
      "431:\tlearn: 0.0704102\ttotal: 6.74s\tremaining: 8.86s\n",
      "432:\tlearn: 0.0703980\ttotal: 6.75s\tremaining: 8.84s\n",
      "433:\tlearn: 0.0703731\ttotal: 6.76s\tremaining: 8.82s\n",
      "434:\tlearn: 0.0703535\ttotal: 6.77s\tremaining: 8.8s\n",
      "435:\tlearn: 0.0703394\ttotal: 6.79s\tremaining: 8.79s\n",
      "436:\tlearn: 0.0703230\ttotal: 6.81s\tremaining: 8.77s\n",
      "437:\tlearn: 0.0703083\ttotal: 6.82s\tremaining: 8.76s\n",
      "438:\tlearn: 0.0702921\ttotal: 6.84s\tremaining: 8.74s\n",
      "439:\tlearn: 0.0702750\ttotal: 6.85s\tremaining: 8.72s\n",
      "440:\tlearn: 0.0702609\ttotal: 6.88s\tremaining: 8.72s\n",
      "441:\tlearn: 0.0702464\ttotal: 6.89s\tremaining: 8.7s\n",
      "442:\tlearn: 0.0702296\ttotal: 6.91s\tremaining: 8.68s\n",
      "443:\tlearn: 0.0702056\ttotal: 6.92s\tremaining: 8.67s\n",
      "444:\tlearn: 0.0701766\ttotal: 6.93s\tremaining: 8.65s\n",
      "445:\tlearn: 0.0701670\ttotal: 6.95s\tremaining: 8.63s\n",
      "446:\tlearn: 0.0701535\ttotal: 6.96s\tremaining: 8.61s\n",
      "447:\tlearn: 0.0701412\ttotal: 6.97s\tremaining: 8.59s\n",
      "448:\tlearn: 0.0701330\ttotal: 6.99s\tremaining: 8.57s\n",
      "449:\tlearn: 0.0701186\ttotal: 7s\tremaining: 8.56s\n",
      "450:\tlearn: 0.0701074\ttotal: 7.02s\tremaining: 8.54s\n",
      "451:\tlearn: 0.0700906\ttotal: 7.04s\tremaining: 8.53s\n",
      "452:\tlearn: 0.0700817\ttotal: 7.05s\tremaining: 8.51s\n",
      "453:\tlearn: 0.0700696\ttotal: 7.06s\tremaining: 8.49s\n",
      "454:\tlearn: 0.0700430\ttotal: 7.08s\tremaining: 8.47s\n",
      "455:\tlearn: 0.0700247\ttotal: 7.09s\tremaining: 8.46s\n",
      "456:\tlearn: 0.0700085\ttotal: 7.1s\tremaining: 8.44s\n",
      "457:\tlearn: 0.0700014\ttotal: 7.11s\tremaining: 8.42s\n",
      "458:\tlearn: 0.0699865\ttotal: 7.13s\tremaining: 8.4s\n",
      "459:\tlearn: 0.0699730\ttotal: 7.14s\tremaining: 8.38s\n",
      "460:\tlearn: 0.0699542\ttotal: 7.15s\tremaining: 8.36s\n",
      "461:\tlearn: 0.0699370\ttotal: 7.17s\tremaining: 8.34s\n",
      "462:\tlearn: 0.0699226\ttotal: 7.18s\tremaining: 8.32s\n",
      "463:\tlearn: 0.0699108\ttotal: 7.19s\tremaining: 8.31s\n",
      "464:\tlearn: 0.0698918\ttotal: 7.21s\tremaining: 8.29s\n",
      "465:\tlearn: 0.0698750\ttotal: 7.22s\tremaining: 8.28s\n",
      "466:\tlearn: 0.0698710\ttotal: 7.24s\tremaining: 8.26s\n",
      "467:\tlearn: 0.0698485\ttotal: 7.25s\tremaining: 8.25s\n",
      "468:\tlearn: 0.0698313\ttotal: 7.27s\tremaining: 8.23s\n",
      "469:\tlearn: 0.0698183\ttotal: 7.28s\tremaining: 8.21s\n",
      "470:\tlearn: 0.0698053\ttotal: 7.29s\tremaining: 8.19s\n",
      "471:\tlearn: 0.0697899\ttotal: 7.31s\tremaining: 8.17s\n",
      "472:\tlearn: 0.0697810\ttotal: 7.32s\tremaining: 8.15s\n",
      "473:\tlearn: 0.0697704\ttotal: 7.33s\tremaining: 8.13s\n",
      "474:\tlearn: 0.0697511\ttotal: 7.34s\tremaining: 8.12s\n",
      "475:\tlearn: 0.0697338\ttotal: 7.36s\tremaining: 8.1s\n",
      "476:\tlearn: 0.0697158\ttotal: 7.37s\tremaining: 8.08s\n",
      "477:\tlearn: 0.0696945\ttotal: 7.38s\tremaining: 8.06s\n",
      "478:\tlearn: 0.0696708\ttotal: 7.4s\tremaining: 8.04s\n",
      "479:\tlearn: 0.0696605\ttotal: 7.41s\tremaining: 8.03s\n",
      "480:\tlearn: 0.0696520\ttotal: 7.43s\tremaining: 8.01s\n",
      "481:\tlearn: 0.0696375\ttotal: 7.44s\tremaining: 8s\n",
      "482:\tlearn: 0.0696200\ttotal: 7.46s\tremaining: 7.98s\n",
      "483:\tlearn: 0.0696021\ttotal: 7.47s\tremaining: 7.97s\n",
      "484:\tlearn: 0.0695838\ttotal: 7.49s\tremaining: 7.95s\n",
      "485:\tlearn: 0.0695690\ttotal: 7.5s\tremaining: 7.93s\n",
      "486:\tlearn: 0.0695414\ttotal: 7.51s\tremaining: 7.91s\n",
      "487:\tlearn: 0.0695267\ttotal: 7.53s\tremaining: 7.9s\n",
      "488:\tlearn: 0.0695088\ttotal: 7.54s\tremaining: 7.88s\n",
      "489:\tlearn: 0.0694935\ttotal: 7.55s\tremaining: 7.86s\n",
      "490:\tlearn: 0.0694774\ttotal: 7.56s\tremaining: 7.84s\n",
      "491:\tlearn: 0.0694640\ttotal: 7.58s\tremaining: 7.82s\n",
      "492:\tlearn: 0.0694468\ttotal: 7.59s\tremaining: 7.81s\n",
      "493:\tlearn: 0.0694363\ttotal: 7.6s\tremaining: 7.79s\n",
      "494:\tlearn: 0.0694072\ttotal: 7.62s\tremaining: 7.77s\n"
     ]
    },
    {
     "name": "stdout",
     "output_type": "stream",
     "text": [
      "495:\tlearn: 0.0693866\ttotal: 7.63s\tremaining: 7.75s\n",
      "496:\tlearn: 0.0693733\ttotal: 7.65s\tremaining: 7.74s\n",
      "497:\tlearn: 0.0693615\ttotal: 7.67s\tremaining: 7.73s\n",
      "498:\tlearn: 0.0693501\ttotal: 7.68s\tremaining: 7.71s\n",
      "499:\tlearn: 0.0693374\ttotal: 7.69s\tremaining: 7.69s\n",
      "500:\tlearn: 0.0693290\ttotal: 7.71s\tremaining: 7.67s\n",
      "501:\tlearn: 0.0693181\ttotal: 7.72s\tremaining: 7.66s\n",
      "502:\tlearn: 0.0693042\ttotal: 7.73s\tremaining: 7.64s\n",
      "503:\tlearn: 0.0692907\ttotal: 7.75s\tremaining: 7.62s\n",
      "504:\tlearn: 0.0692764\ttotal: 7.76s\tremaining: 7.61s\n",
      "505:\tlearn: 0.0692693\ttotal: 7.77s\tremaining: 7.59s\n",
      "506:\tlearn: 0.0692538\ttotal: 7.79s\tremaining: 7.57s\n",
      "507:\tlearn: 0.0692306\ttotal: 7.8s\tremaining: 7.55s\n",
      "508:\tlearn: 0.0692123\ttotal: 7.81s\tremaining: 7.54s\n",
      "509:\tlearn: 0.0691962\ttotal: 7.82s\tremaining: 7.52s\n",
      "510:\tlearn: 0.0691827\ttotal: 7.84s\tremaining: 7.51s\n",
      "511:\tlearn: 0.0691613\ttotal: 7.86s\tremaining: 7.49s\n",
      "512:\tlearn: 0.0691474\ttotal: 7.87s\tremaining: 7.47s\n",
      "513:\tlearn: 0.0691304\ttotal: 7.88s\tremaining: 7.46s\n",
      "514:\tlearn: 0.0691127\ttotal: 7.9s\tremaining: 7.44s\n",
      "515:\tlearn: 0.0691066\ttotal: 7.91s\tremaining: 7.42s\n",
      "516:\tlearn: 0.0690949\ttotal: 7.92s\tremaining: 7.4s\n",
      "517:\tlearn: 0.0690896\ttotal: 7.94s\tremaining: 7.39s\n",
      "518:\tlearn: 0.0690738\ttotal: 7.95s\tremaining: 7.37s\n",
      "519:\tlearn: 0.0690553\ttotal: 7.96s\tremaining: 7.35s\n",
      "520:\tlearn: 0.0690452\ttotal: 7.98s\tremaining: 7.33s\n",
      "521:\tlearn: 0.0690312\ttotal: 7.99s\tremaining: 7.32s\n",
      "522:\tlearn: 0.0690152\ttotal: 8s\tremaining: 7.3s\n",
      "523:\tlearn: 0.0690045\ttotal: 8.02s\tremaining: 7.28s\n",
      "524:\tlearn: 0.0689863\ttotal: 8.03s\tremaining: 7.26s\n",
      "525:\tlearn: 0.0689703\ttotal: 8.05s\tremaining: 7.25s\n",
      "526:\tlearn: 0.0689541\ttotal: 8.06s\tremaining: 7.24s\n",
      "527:\tlearn: 0.0689404\ttotal: 8.07s\tremaining: 7.22s\n",
      "528:\tlearn: 0.0689196\ttotal: 8.09s\tremaining: 7.2s\n",
      "529:\tlearn: 0.0689015\ttotal: 8.1s\tremaining: 7.19s\n",
      "530:\tlearn: 0.0688802\ttotal: 8.12s\tremaining: 7.17s\n",
      "531:\tlearn: 0.0688746\ttotal: 8.13s\tremaining: 7.15s\n",
      "532:\tlearn: 0.0688648\ttotal: 8.14s\tremaining: 7.13s\n",
      "533:\tlearn: 0.0688570\ttotal: 8.16s\tremaining: 7.12s\n",
      "534:\tlearn: 0.0688247\ttotal: 8.17s\tremaining: 7.1s\n",
      "535:\tlearn: 0.0687996\ttotal: 8.18s\tremaining: 7.08s\n",
      "536:\tlearn: 0.0687842\ttotal: 8.2s\tremaining: 7.07s\n",
      "537:\tlearn: 0.0687628\ttotal: 8.21s\tremaining: 7.05s\n",
      "538:\tlearn: 0.0687513\ttotal: 8.22s\tremaining: 7.03s\n",
      "539:\tlearn: 0.0687260\ttotal: 8.24s\tremaining: 7.02s\n",
      "540:\tlearn: 0.0687088\ttotal: 8.25s\tremaining: 7s\n",
      "541:\tlearn: 0.0686942\ttotal: 8.27s\tremaining: 6.99s\n",
      "542:\tlearn: 0.0686752\ttotal: 8.28s\tremaining: 6.97s\n",
      "543:\tlearn: 0.0686591\ttotal: 8.3s\tremaining: 6.96s\n",
      "544:\tlearn: 0.0686448\ttotal: 8.31s\tremaining: 6.94s\n",
      "545:\tlearn: 0.0686335\ttotal: 8.32s\tremaining: 6.92s\n",
      "546:\tlearn: 0.0686229\ttotal: 8.34s\tremaining: 6.9s\n",
      "547:\tlearn: 0.0685962\ttotal: 8.35s\tremaining: 6.89s\n",
      "548:\tlearn: 0.0685715\ttotal: 8.36s\tremaining: 6.87s\n",
      "549:\tlearn: 0.0685564\ttotal: 8.38s\tremaining: 6.86s\n",
      "550:\tlearn: 0.0685404\ttotal: 8.39s\tremaining: 6.84s\n",
      "551:\tlearn: 0.0685290\ttotal: 8.4s\tremaining: 6.82s\n",
      "552:\tlearn: 0.0685090\ttotal: 8.42s\tremaining: 6.8s\n",
      "553:\tlearn: 0.0684912\ttotal: 8.43s\tremaining: 6.79s\n",
      "554:\tlearn: 0.0684870\ttotal: 8.45s\tremaining: 6.77s\n",
      "555:\tlearn: 0.0684715\ttotal: 8.46s\tremaining: 6.75s\n",
      "556:\tlearn: 0.0684518\ttotal: 8.48s\tremaining: 6.74s\n",
      "557:\tlearn: 0.0684334\ttotal: 8.49s\tremaining: 6.73s\n",
      "558:\tlearn: 0.0684193\ttotal: 8.51s\tremaining: 6.71s\n",
      "559:\tlearn: 0.0684067\ttotal: 8.52s\tremaining: 6.7s\n",
      "560:\tlearn: 0.0683925\ttotal: 8.53s\tremaining: 6.68s\n",
      "561:\tlearn: 0.0683783\ttotal: 8.55s\tremaining: 6.66s\n",
      "562:\tlearn: 0.0683661\ttotal: 8.56s\tremaining: 6.64s\n",
      "563:\tlearn: 0.0683581\ttotal: 8.57s\tremaining: 6.63s\n",
      "564:\tlearn: 0.0683513\ttotal: 8.59s\tremaining: 6.61s\n",
      "565:\tlearn: 0.0683388\ttotal: 8.6s\tremaining: 6.59s\n",
      "566:\tlearn: 0.0683234\ttotal: 8.61s\tremaining: 6.58s\n",
      "567:\tlearn: 0.0683146\ttotal: 8.62s\tremaining: 6.56s\n",
      "568:\tlearn: 0.0682988\ttotal: 8.64s\tremaining: 6.54s\n",
      "569:\tlearn: 0.0682865\ttotal: 8.65s\tremaining: 6.53s\n",
      "570:\tlearn: 0.0682793\ttotal: 8.66s\tremaining: 6.51s\n",
      "571:\tlearn: 0.0682683\ttotal: 8.68s\tremaining: 6.49s\n",
      "572:\tlearn: 0.0682574\ttotal: 8.7s\tremaining: 6.48s\n",
      "573:\tlearn: 0.0682343\ttotal: 8.71s\tremaining: 6.46s\n",
      "574:\tlearn: 0.0682259\ttotal: 8.72s\tremaining: 6.45s\n",
      "575:\tlearn: 0.0682041\ttotal: 8.74s\tremaining: 6.43s\n",
      "576:\tlearn: 0.0681824\ttotal: 8.75s\tremaining: 6.42s\n",
      "577:\tlearn: 0.0681678\ttotal: 8.76s\tremaining: 6.4s\n",
      "578:\tlearn: 0.0681481\ttotal: 8.78s\tremaining: 6.38s\n",
      "579:\tlearn: 0.0681461\ttotal: 8.79s\tremaining: 6.36s\n",
      "580:\tlearn: 0.0681343\ttotal: 8.8s\tremaining: 6.35s\n",
      "581:\tlearn: 0.0681224\ttotal: 8.81s\tremaining: 6.33s\n",
      "582:\tlearn: 0.0681024\ttotal: 8.83s\tremaining: 6.32s\n",
      "583:\tlearn: 0.0680874\ttotal: 8.84s\tremaining: 6.3s\n",
      "584:\tlearn: 0.0680639\ttotal: 8.86s\tremaining: 6.28s\n",
      "585:\tlearn: 0.0680545\ttotal: 8.87s\tremaining: 6.26s\n",
      "586:\tlearn: 0.0680424\ttotal: 8.88s\tremaining: 6.25s\n",
      "587:\tlearn: 0.0680345\ttotal: 8.9s\tremaining: 6.24s\n",
      "588:\tlearn: 0.0680285\ttotal: 8.91s\tremaining: 6.22s\n",
      "589:\tlearn: 0.0680244\ttotal: 8.93s\tremaining: 6.2s\n",
      "590:\tlearn: 0.0680157\ttotal: 8.94s\tremaining: 6.19s\n",
      "591:\tlearn: 0.0679986\ttotal: 8.95s\tremaining: 6.17s\n",
      "592:\tlearn: 0.0679821\ttotal: 8.97s\tremaining: 6.15s\n",
      "593:\tlearn: 0.0679594\ttotal: 8.98s\tremaining: 6.14s\n",
      "594:\tlearn: 0.0679515\ttotal: 8.99s\tremaining: 6.12s\n",
      "595:\tlearn: 0.0679371\ttotal: 9s\tremaining: 6.1s\n",
      "596:\tlearn: 0.0679154\ttotal: 9.02s\tremaining: 6.09s\n",
      "597:\tlearn: 0.0678974\ttotal: 9.03s\tremaining: 6.07s\n",
      "598:\tlearn: 0.0678821\ttotal: 9.04s\tremaining: 6.05s\n",
      "599:\tlearn: 0.0678658\ttotal: 9.05s\tremaining: 6.04s\n",
      "600:\tlearn: 0.0678497\ttotal: 9.07s\tremaining: 6.02s\n",
      "601:\tlearn: 0.0678227\ttotal: 9.08s\tremaining: 6s\n",
      "602:\tlearn: 0.0678003\ttotal: 9.09s\tremaining: 5.99s\n",
      "603:\tlearn: 0.0677902\ttotal: 9.11s\tremaining: 5.97s\n",
      "604:\tlearn: 0.0677746\ttotal: 9.14s\tremaining: 5.97s\n",
      "605:\tlearn: 0.0677631\ttotal: 9.15s\tremaining: 5.95s\n",
      "606:\tlearn: 0.0677465\ttotal: 9.17s\tremaining: 5.93s\n",
      "607:\tlearn: 0.0677281\ttotal: 9.18s\tremaining: 5.92s\n",
      "608:\tlearn: 0.0677156\ttotal: 9.19s\tremaining: 5.9s\n",
      "609:\tlearn: 0.0677000\ttotal: 9.2s\tremaining: 5.88s\n",
      "610:\tlearn: 0.0676840\ttotal: 9.22s\tremaining: 5.87s\n",
      "611:\tlearn: 0.0676727\ttotal: 9.23s\tremaining: 5.85s\n",
      "612:\tlearn: 0.0676593\ttotal: 9.24s\tremaining: 5.84s\n",
      "613:\tlearn: 0.0676467\ttotal: 9.26s\tremaining: 5.82s\n",
      "614:\tlearn: 0.0676359\ttotal: 9.27s\tremaining: 5.8s\n",
      "615:\tlearn: 0.0676237\ttotal: 9.28s\tremaining: 5.79s\n",
      "616:\tlearn: 0.0676065\ttotal: 9.29s\tremaining: 5.77s\n",
      "617:\tlearn: 0.0675829\ttotal: 9.31s\tremaining: 5.75s\n",
      "618:\tlearn: 0.0675612\ttotal: 9.33s\tremaining: 5.74s\n",
      "619:\tlearn: 0.0675405\ttotal: 9.34s\tremaining: 5.73s\n",
      "620:\tlearn: 0.0675231\ttotal: 9.36s\tremaining: 5.71s\n",
      "621:\tlearn: 0.0675049\ttotal: 9.37s\tremaining: 5.69s\n",
      "622:\tlearn: 0.0674976\ttotal: 9.38s\tremaining: 5.68s\n",
      "623:\tlearn: 0.0674809\ttotal: 9.39s\tremaining: 5.66s\n",
      "624:\tlearn: 0.0674758\ttotal: 9.41s\tremaining: 5.64s\n",
      "625:\tlearn: 0.0674539\ttotal: 9.42s\tremaining: 5.63s\n",
      "626:\tlearn: 0.0674384\ttotal: 9.43s\tremaining: 5.61s\n",
      "627:\tlearn: 0.0674263\ttotal: 9.45s\tremaining: 5.59s\n",
      "628:\tlearn: 0.0674245\ttotal: 9.46s\tremaining: 5.58s\n",
      "629:\tlearn: 0.0674197\ttotal: 9.47s\tremaining: 5.56s\n",
      "630:\tlearn: 0.0673978\ttotal: 9.48s\tremaining: 5.55s\n",
      "631:\tlearn: 0.0673852\ttotal: 9.5s\tremaining: 5.53s\n",
      "632:\tlearn: 0.0673749\ttotal: 9.51s\tremaining: 5.51s\n",
      "633:\tlearn: 0.0673618\ttotal: 9.52s\tremaining: 5.5s\n",
      "634:\tlearn: 0.0673509\ttotal: 9.54s\tremaining: 5.48s\n",
      "635:\tlearn: 0.0673361\ttotal: 9.55s\tremaining: 5.47s\n",
      "636:\tlearn: 0.0673206\ttotal: 9.57s\tremaining: 5.45s\n",
      "637:\tlearn: 0.0673100\ttotal: 9.58s\tremaining: 5.44s\n",
      "638:\tlearn: 0.0672906\ttotal: 9.6s\tremaining: 5.42s\n",
      "639:\tlearn: 0.0672737\ttotal: 9.61s\tremaining: 5.4s\n",
      "640:\tlearn: 0.0672557\ttotal: 9.62s\tremaining: 5.39s\n",
      "641:\tlearn: 0.0672431\ttotal: 9.63s\tremaining: 5.37s\n",
      "642:\tlearn: 0.0672182\ttotal: 9.65s\tremaining: 5.36s\n",
      "643:\tlearn: 0.0672038\ttotal: 9.66s\tremaining: 5.34s\n",
      "644:\tlearn: 0.0671916\ttotal: 9.67s\tremaining: 5.32s\n",
      "645:\tlearn: 0.0671780\ttotal: 9.69s\tremaining: 5.31s\n",
      "646:\tlearn: 0.0671594\ttotal: 9.7s\tremaining: 5.29s\n",
      "647:\tlearn: 0.0671504\ttotal: 9.71s\tremaining: 5.28s\n",
      "648:\tlearn: 0.0671400\ttotal: 9.73s\tremaining: 5.26s\n",
      "649:\tlearn: 0.0671385\ttotal: 9.74s\tremaining: 5.25s\n",
      "650:\tlearn: 0.0671264\ttotal: 9.76s\tremaining: 5.23s\n",
      "651:\tlearn: 0.0671230\ttotal: 9.78s\tremaining: 5.22s\n",
      "652:\tlearn: 0.0671045\ttotal: 9.79s\tremaining: 5.2s\n",
      "653:\tlearn: 0.0671012\ttotal: 9.8s\tremaining: 5.19s\n",
      "654:\tlearn: 0.0670826\ttotal: 9.82s\tremaining: 5.17s\n",
      "655:\tlearn: 0.0670774\ttotal: 9.83s\tremaining: 5.15s\n",
      "656:\tlearn: 0.0670554\ttotal: 9.84s\tremaining: 5.14s\n",
      "657:\tlearn: 0.0670426\ttotal: 9.85s\tremaining: 5.12s\n",
      "658:\tlearn: 0.0670279\ttotal: 9.87s\tremaining: 5.11s\n",
      "659:\tlearn: 0.0670144\ttotal: 9.88s\tremaining: 5.09s\n",
      "660:\tlearn: 0.0670024\ttotal: 9.89s\tremaining: 5.07s\n",
      "661:\tlearn: 0.0669919\ttotal: 9.9s\tremaining: 5.06s\n",
      "662:\tlearn: 0.0669675\ttotal: 9.92s\tremaining: 5.04s\n",
      "663:\tlearn: 0.0669531\ttotal: 9.93s\tremaining: 5.03s\n",
      "664:\tlearn: 0.0669328\ttotal: 9.94s\tremaining: 5.01s\n"
     ]
    },
    {
     "name": "stdout",
     "output_type": "stream",
     "text": [
      "665:\tlearn: 0.0669090\ttotal: 9.96s\tremaining: 4.99s\n",
      "666:\tlearn: 0.0668955\ttotal: 9.98s\tremaining: 4.98s\n",
      "667:\tlearn: 0.0668862\ttotal: 9.99s\tremaining: 4.96s\n",
      "668:\tlearn: 0.0668757\ttotal: 10s\tremaining: 4.95s\n",
      "669:\tlearn: 0.0668561\ttotal: 10s\tremaining: 4.93s\n",
      "670:\tlearn: 0.0668413\ttotal: 10s\tremaining: 4.92s\n",
      "671:\tlearn: 0.0668311\ttotal: 10s\tremaining: 4.9s\n",
      "672:\tlearn: 0.0668012\ttotal: 10.1s\tremaining: 4.89s\n",
      "673:\tlearn: 0.0667909\ttotal: 10.1s\tremaining: 4.87s\n",
      "674:\tlearn: 0.0667804\ttotal: 10.1s\tremaining: 4.86s\n",
      "675:\tlearn: 0.0667692\ttotal: 10.1s\tremaining: 4.84s\n",
      "676:\tlearn: 0.0667582\ttotal: 10.1s\tremaining: 4.82s\n",
      "677:\tlearn: 0.0667454\ttotal: 10.1s\tremaining: 4.81s\n",
      "678:\tlearn: 0.0667224\ttotal: 10.1s\tremaining: 4.79s\n",
      "679:\tlearn: 0.0667062\ttotal: 10.1s\tremaining: 4.78s\n",
      "680:\tlearn: 0.0666914\ttotal: 10.2s\tremaining: 4.76s\n",
      "681:\tlearn: 0.0666711\ttotal: 10.2s\tremaining: 4.75s\n",
      "682:\tlearn: 0.0666546\ttotal: 10.2s\tremaining: 4.73s\n",
      "683:\tlearn: 0.0666442\ttotal: 10.2s\tremaining: 4.71s\n",
      "684:\tlearn: 0.0666301\ttotal: 10.2s\tremaining: 4.7s\n",
      "685:\tlearn: 0.0666216\ttotal: 10.2s\tremaining: 4.68s\n",
      "686:\tlearn: 0.0666136\ttotal: 10.2s\tremaining: 4.67s\n",
      "687:\tlearn: 0.0666096\ttotal: 10.3s\tremaining: 4.65s\n",
      "688:\tlearn: 0.0665860\ttotal: 10.3s\tremaining: 4.63s\n",
      "689:\tlearn: 0.0665762\ttotal: 10.3s\tremaining: 4.62s\n",
      "690:\tlearn: 0.0665701\ttotal: 10.3s\tremaining: 4.6s\n",
      "691:\tlearn: 0.0665459\ttotal: 10.3s\tremaining: 4.59s\n",
      "692:\tlearn: 0.0665294\ttotal: 10.3s\tremaining: 4.57s\n",
      "693:\tlearn: 0.0665128\ttotal: 10.3s\tremaining: 4.55s\n",
      "694:\tlearn: 0.0665015\ttotal: 10.3s\tremaining: 4.54s\n",
      "695:\tlearn: 0.0664863\ttotal: 10.4s\tremaining: 4.52s\n",
      "696:\tlearn: 0.0664759\ttotal: 10.4s\tremaining: 4.51s\n",
      "697:\tlearn: 0.0664642\ttotal: 10.4s\tremaining: 4.49s\n",
      "698:\tlearn: 0.0664460\ttotal: 10.4s\tremaining: 4.48s\n",
      "699:\tlearn: 0.0664262\ttotal: 10.4s\tremaining: 4.46s\n",
      "700:\tlearn: 0.0664051\ttotal: 10.4s\tremaining: 4.45s\n",
      "701:\tlearn: 0.0663826\ttotal: 10.4s\tremaining: 4.43s\n",
      "702:\tlearn: 0.0663667\ttotal: 10.5s\tremaining: 4.42s\n",
      "703:\tlearn: 0.0663400\ttotal: 10.5s\tremaining: 4.4s\n",
      "704:\tlearn: 0.0663215\ttotal: 10.5s\tremaining: 4.39s\n",
      "705:\tlearn: 0.0663111\ttotal: 10.5s\tremaining: 4.37s\n",
      "706:\tlearn: 0.0662982\ttotal: 10.5s\tremaining: 4.36s\n",
      "707:\tlearn: 0.0662854\ttotal: 10.5s\tremaining: 4.34s\n",
      "708:\tlearn: 0.0662696\ttotal: 10.5s\tremaining: 4.32s\n",
      "709:\tlearn: 0.0662546\ttotal: 10.5s\tremaining: 4.31s\n",
      "710:\tlearn: 0.0662464\ttotal: 10.6s\tremaining: 4.29s\n",
      "711:\tlearn: 0.0662229\ttotal: 10.6s\tremaining: 4.28s\n",
      "712:\tlearn: 0.0662141\ttotal: 10.6s\tremaining: 4.26s\n",
      "713:\tlearn: 0.0662063\ttotal: 10.6s\tremaining: 4.25s\n",
      "714:\tlearn: 0.0661962\ttotal: 10.6s\tremaining: 4.23s\n",
      "715:\tlearn: 0.0661912\ttotal: 10.6s\tremaining: 4.22s\n",
      "716:\tlearn: 0.0661817\ttotal: 10.6s\tremaining: 4.2s\n",
      "717:\tlearn: 0.0661690\ttotal: 10.7s\tremaining: 4.19s\n",
      "718:\tlearn: 0.0661389\ttotal: 10.7s\tremaining: 4.17s\n",
      "719:\tlearn: 0.0661265\ttotal: 10.7s\tremaining: 4.16s\n",
      "720:\tlearn: 0.0661121\ttotal: 10.7s\tremaining: 4.14s\n",
      "721:\tlearn: 0.0661017\ttotal: 10.7s\tremaining: 4.13s\n",
      "722:\tlearn: 0.0660861\ttotal: 10.7s\tremaining: 4.11s\n",
      "723:\tlearn: 0.0660646\ttotal: 10.7s\tremaining: 4.09s\n",
      "724:\tlearn: 0.0660497\ttotal: 10.8s\tremaining: 4.08s\n",
      "725:\tlearn: 0.0660370\ttotal: 10.8s\tremaining: 4.06s\n",
      "726:\tlearn: 0.0660318\ttotal: 10.8s\tremaining: 4.05s\n",
      "727:\tlearn: 0.0660096\ttotal: 10.8s\tremaining: 4.03s\n",
      "728:\tlearn: 0.0660005\ttotal: 10.8s\tremaining: 4.02s\n",
      "729:\tlearn: 0.0659855\ttotal: 10.8s\tremaining: 4s\n",
      "730:\tlearn: 0.0659707\ttotal: 10.8s\tremaining: 3.99s\n",
      "731:\tlearn: 0.0659580\ttotal: 10.9s\tremaining: 3.97s\n",
      "732:\tlearn: 0.0659484\ttotal: 10.9s\tremaining: 3.96s\n",
      "733:\tlearn: 0.0659359\ttotal: 10.9s\tremaining: 3.94s\n",
      "734:\tlearn: 0.0659247\ttotal: 10.9s\tremaining: 3.93s\n",
      "735:\tlearn: 0.0659012\ttotal: 10.9s\tremaining: 3.91s\n",
      "736:\tlearn: 0.0658906\ttotal: 10.9s\tremaining: 3.9s\n",
      "737:\tlearn: 0.0658832\ttotal: 10.9s\tremaining: 3.88s\n",
      "738:\tlearn: 0.0658704\ttotal: 10.9s\tremaining: 3.87s\n",
      "739:\tlearn: 0.0658565\ttotal: 11s\tremaining: 3.85s\n",
      "740:\tlearn: 0.0658403\ttotal: 11s\tremaining: 3.83s\n",
      "741:\tlearn: 0.0658278\ttotal: 11s\tremaining: 3.82s\n",
      "742:\tlearn: 0.0658106\ttotal: 11s\tremaining: 3.8s\n",
      "743:\tlearn: 0.0657908\ttotal: 11s\tremaining: 3.79s\n",
      "744:\tlearn: 0.0657757\ttotal: 11s\tremaining: 3.77s\n",
      "745:\tlearn: 0.0657600\ttotal: 11s\tremaining: 3.76s\n",
      "746:\tlearn: 0.0657434\ttotal: 11.1s\tremaining: 3.74s\n",
      "747:\tlearn: 0.0657363\ttotal: 11.1s\tremaining: 3.73s\n",
      "748:\tlearn: 0.0657275\ttotal: 11.1s\tremaining: 3.71s\n",
      "749:\tlearn: 0.0657138\ttotal: 11.1s\tremaining: 3.7s\n",
      "750:\tlearn: 0.0656956\ttotal: 11.1s\tremaining: 3.68s\n",
      "751:\tlearn: 0.0656913\ttotal: 11.1s\tremaining: 3.67s\n",
      "752:\tlearn: 0.0656807\ttotal: 11.1s\tremaining: 3.65s\n",
      "753:\tlearn: 0.0656689\ttotal: 11.1s\tremaining: 3.64s\n",
      "754:\tlearn: 0.0656553\ttotal: 11.2s\tremaining: 3.62s\n",
      "755:\tlearn: 0.0656505\ttotal: 11.2s\tremaining: 3.6s\n",
      "756:\tlearn: 0.0656395\ttotal: 11.2s\tremaining: 3.59s\n",
      "757:\tlearn: 0.0656298\ttotal: 11.2s\tremaining: 3.57s\n",
      "758:\tlearn: 0.0656210\ttotal: 11.2s\tremaining: 3.56s\n",
      "759:\tlearn: 0.0656095\ttotal: 11.2s\tremaining: 3.55s\n",
      "760:\tlearn: 0.0656050\ttotal: 11.2s\tremaining: 3.53s\n",
      "761:\tlearn: 0.0655937\ttotal: 11.3s\tremaining: 3.52s\n",
      "762:\tlearn: 0.0655837\ttotal: 11.3s\tremaining: 3.5s\n",
      "763:\tlearn: 0.0655617\ttotal: 11.3s\tremaining: 3.49s\n",
      "764:\tlearn: 0.0655510\ttotal: 11.3s\tremaining: 3.47s\n",
      "765:\tlearn: 0.0655300\ttotal: 11.3s\tremaining: 3.46s\n",
      "766:\tlearn: 0.0655211\ttotal: 11.3s\tremaining: 3.44s\n",
      "767:\tlearn: 0.0655089\ttotal: 11.3s\tremaining: 3.42s\n",
      "768:\tlearn: 0.0654996\ttotal: 11.4s\tremaining: 3.41s\n",
      "769:\tlearn: 0.0654841\ttotal: 11.4s\tremaining: 3.4s\n",
      "770:\tlearn: 0.0654728\ttotal: 11.4s\tremaining: 3.38s\n",
      "771:\tlearn: 0.0654595\ttotal: 11.4s\tremaining: 3.37s\n",
      "772:\tlearn: 0.0654451\ttotal: 11.4s\tremaining: 3.35s\n",
      "773:\tlearn: 0.0654318\ttotal: 11.4s\tremaining: 3.33s\n",
      "774:\tlearn: 0.0654250\ttotal: 11.4s\tremaining: 3.32s\n",
      "775:\tlearn: 0.0654143\ttotal: 11.5s\tremaining: 3.31s\n",
      "776:\tlearn: 0.0653978\ttotal: 11.5s\tremaining: 3.29s\n",
      "777:\tlearn: 0.0653779\ttotal: 11.5s\tremaining: 3.28s\n",
      "778:\tlearn: 0.0653618\ttotal: 11.5s\tremaining: 3.26s\n",
      "779:\tlearn: 0.0653424\ttotal: 11.5s\tremaining: 3.25s\n",
      "780:\tlearn: 0.0653260\ttotal: 11.5s\tremaining: 3.23s\n",
      "781:\tlearn: 0.0653111\ttotal: 11.5s\tremaining: 3.21s\n",
      "782:\tlearn: 0.0652912\ttotal: 11.5s\tremaining: 3.2s\n",
      "783:\tlearn: 0.0652789\ttotal: 11.6s\tremaining: 3.19s\n",
      "784:\tlearn: 0.0652542\ttotal: 11.6s\tremaining: 3.17s\n",
      "785:\tlearn: 0.0652360\ttotal: 11.6s\tremaining: 3.15s\n",
      "786:\tlearn: 0.0652179\ttotal: 11.6s\tremaining: 3.14s\n",
      "787:\tlearn: 0.0652028\ttotal: 11.6s\tremaining: 3.12s\n",
      "788:\tlearn: 0.0651928\ttotal: 11.6s\tremaining: 3.11s\n",
      "789:\tlearn: 0.0651824\ttotal: 11.6s\tremaining: 3.09s\n",
      "790:\tlearn: 0.0651733\ttotal: 11.7s\tremaining: 3.08s\n",
      "791:\tlearn: 0.0651603\ttotal: 11.7s\tremaining: 3.06s\n",
      "792:\tlearn: 0.0651505\ttotal: 11.7s\tremaining: 3.05s\n",
      "793:\tlearn: 0.0651452\ttotal: 11.7s\tremaining: 3.04s\n",
      "794:\tlearn: 0.0651262\ttotal: 11.7s\tremaining: 3.02s\n",
      "795:\tlearn: 0.0651148\ttotal: 11.7s\tremaining: 3s\n",
      "796:\tlearn: 0.0650992\ttotal: 11.7s\tremaining: 2.99s\n",
      "797:\tlearn: 0.0650812\ttotal: 11.8s\tremaining: 2.98s\n",
      "798:\tlearn: 0.0650632\ttotal: 11.8s\tremaining: 2.96s\n",
      "799:\tlearn: 0.0650545\ttotal: 11.8s\tremaining: 2.94s\n",
      "800:\tlearn: 0.0650481\ttotal: 11.8s\tremaining: 2.93s\n",
      "801:\tlearn: 0.0650239\ttotal: 11.8s\tremaining: 2.92s\n",
      "802:\tlearn: 0.0649956\ttotal: 11.8s\tremaining: 2.9s\n",
      "803:\tlearn: 0.0649830\ttotal: 11.8s\tremaining: 2.88s\n",
      "804:\tlearn: 0.0649686\ttotal: 11.9s\tremaining: 2.87s\n",
      "805:\tlearn: 0.0649617\ttotal: 11.9s\tremaining: 2.86s\n",
      "806:\tlearn: 0.0649535\ttotal: 11.9s\tremaining: 2.84s\n",
      "807:\tlearn: 0.0649453\ttotal: 11.9s\tremaining: 2.83s\n",
      "808:\tlearn: 0.0649322\ttotal: 11.9s\tremaining: 2.81s\n",
      "809:\tlearn: 0.0649197\ttotal: 11.9s\tremaining: 2.8s\n",
      "810:\tlearn: 0.0649093\ttotal: 11.9s\tremaining: 2.78s\n",
      "811:\tlearn: 0.0648931\ttotal: 12s\tremaining: 2.77s\n",
      "812:\tlearn: 0.0648804\ttotal: 12s\tremaining: 2.75s\n",
      "813:\tlearn: 0.0648685\ttotal: 12s\tremaining: 2.74s\n",
      "814:\tlearn: 0.0648618\ttotal: 12s\tremaining: 2.72s\n",
      "815:\tlearn: 0.0648471\ttotal: 12s\tremaining: 2.71s\n",
      "816:\tlearn: 0.0648347\ttotal: 12s\tremaining: 2.69s\n",
      "817:\tlearn: 0.0648213\ttotal: 12s\tremaining: 2.68s\n",
      "818:\tlearn: 0.0648108\ttotal: 12s\tremaining: 2.66s\n",
      "819:\tlearn: 0.0647962\ttotal: 12.1s\tremaining: 2.65s\n",
      "820:\tlearn: 0.0647845\ttotal: 12.1s\tremaining: 2.63s\n",
      "821:\tlearn: 0.0647797\ttotal: 12.1s\tremaining: 2.62s\n",
      "822:\tlearn: 0.0647688\ttotal: 12.1s\tremaining: 2.6s\n",
      "823:\tlearn: 0.0647665\ttotal: 12.1s\tremaining: 2.59s\n",
      "824:\tlearn: 0.0647567\ttotal: 12.1s\tremaining: 2.57s\n",
      "825:\tlearn: 0.0647333\ttotal: 12.1s\tremaining: 2.56s\n",
      "826:\tlearn: 0.0647282\ttotal: 12.2s\tremaining: 2.54s\n",
      "827:\tlearn: 0.0647215\ttotal: 12.2s\tremaining: 2.53s\n",
      "828:\tlearn: 0.0647147\ttotal: 12.2s\tremaining: 2.51s\n",
      "829:\tlearn: 0.0647007\ttotal: 12.2s\tremaining: 2.5s\n",
      "830:\tlearn: 0.0646921\ttotal: 12.2s\tremaining: 2.48s\n",
      "831:\tlearn: 0.0646740\ttotal: 12.2s\tremaining: 2.47s\n",
      "832:\tlearn: 0.0646516\ttotal: 12.2s\tremaining: 2.45s\n",
      "833:\tlearn: 0.0646367\ttotal: 12.2s\tremaining: 2.44s\n"
     ]
    },
    {
     "name": "stdout",
     "output_type": "stream",
     "text": [
      "834:\tlearn: 0.0646245\ttotal: 12.3s\tremaining: 2.42s\n",
      "835:\tlearn: 0.0646121\ttotal: 12.3s\tremaining: 2.41s\n",
      "836:\tlearn: 0.0645947\ttotal: 12.3s\tremaining: 2.4s\n",
      "837:\tlearn: 0.0645828\ttotal: 12.3s\tremaining: 2.38s\n",
      "838:\tlearn: 0.0645722\ttotal: 12.3s\tremaining: 2.37s\n",
      "839:\tlearn: 0.0645631\ttotal: 12.3s\tremaining: 2.35s\n",
      "840:\tlearn: 0.0645534\ttotal: 12.4s\tremaining: 2.34s\n",
      "841:\tlearn: 0.0645404\ttotal: 12.4s\tremaining: 2.32s\n",
      "842:\tlearn: 0.0645295\ttotal: 12.4s\tremaining: 2.31s\n",
      "843:\tlearn: 0.0645190\ttotal: 12.4s\tremaining: 2.29s\n",
      "844:\tlearn: 0.0645159\ttotal: 12.4s\tremaining: 2.28s\n",
      "845:\tlearn: 0.0645075\ttotal: 12.4s\tremaining: 2.26s\n",
      "846:\tlearn: 0.0645011\ttotal: 12.4s\tremaining: 2.25s\n",
      "847:\tlearn: 0.0644885\ttotal: 12.4s\tremaining: 2.23s\n",
      "848:\tlearn: 0.0644807\ttotal: 12.5s\tremaining: 2.22s\n",
      "849:\tlearn: 0.0644689\ttotal: 12.5s\tremaining: 2.2s\n",
      "850:\tlearn: 0.0644594\ttotal: 12.5s\tremaining: 2.19s\n",
      "851:\tlearn: 0.0644368\ttotal: 12.5s\tremaining: 2.17s\n",
      "852:\tlearn: 0.0644134\ttotal: 12.5s\tremaining: 2.16s\n",
      "853:\tlearn: 0.0644007\ttotal: 12.5s\tremaining: 2.14s\n",
      "854:\tlearn: 0.0643954\ttotal: 12.5s\tremaining: 2.13s\n",
      "855:\tlearn: 0.0643846\ttotal: 12.6s\tremaining: 2.11s\n",
      "856:\tlearn: 0.0643802\ttotal: 12.6s\tremaining: 2.1s\n",
      "857:\tlearn: 0.0643610\ttotal: 12.6s\tremaining: 2.08s\n",
      "858:\tlearn: 0.0643490\ttotal: 12.6s\tremaining: 2.07s\n",
      "859:\tlearn: 0.0643443\ttotal: 12.6s\tremaining: 2.05s\n",
      "860:\tlearn: 0.0643394\ttotal: 12.6s\tremaining: 2.04s\n",
      "861:\tlearn: 0.0643307\ttotal: 12.6s\tremaining: 2.02s\n",
      "862:\tlearn: 0.0643170\ttotal: 12.6s\tremaining: 2.01s\n",
      "863:\tlearn: 0.0643093\ttotal: 12.7s\tremaining: 1.99s\n",
      "864:\tlearn: 0.0643062\ttotal: 12.7s\tremaining: 1.98s\n",
      "865:\tlearn: 0.0642923\ttotal: 12.7s\tremaining: 1.96s\n",
      "866:\tlearn: 0.0642769\ttotal: 12.7s\tremaining: 1.95s\n",
      "867:\tlearn: 0.0642625\ttotal: 12.7s\tremaining: 1.93s\n",
      "868:\tlearn: 0.0642582\ttotal: 12.7s\tremaining: 1.92s\n",
      "869:\tlearn: 0.0642441\ttotal: 12.7s\tremaining: 1.9s\n",
      "870:\tlearn: 0.0642286\ttotal: 12.8s\tremaining: 1.89s\n",
      "871:\tlearn: 0.0642238\ttotal: 12.8s\tremaining: 1.87s\n",
      "872:\tlearn: 0.0642033\ttotal: 12.8s\tremaining: 1.86s\n",
      "873:\tlearn: 0.0641861\ttotal: 12.8s\tremaining: 1.84s\n",
      "874:\tlearn: 0.0641712\ttotal: 12.8s\tremaining: 1.83s\n",
      "875:\tlearn: 0.0641550\ttotal: 12.8s\tremaining: 1.81s\n",
      "876:\tlearn: 0.0641458\ttotal: 12.8s\tremaining: 1.8s\n",
      "877:\tlearn: 0.0641267\ttotal: 12.8s\tremaining: 1.78s\n",
      "878:\tlearn: 0.0641127\ttotal: 12.9s\tremaining: 1.77s\n",
      "879:\tlearn: 0.0641016\ttotal: 12.9s\tremaining: 1.75s\n",
      "880:\tlearn: 0.0640820\ttotal: 12.9s\tremaining: 1.74s\n",
      "881:\tlearn: 0.0640734\ttotal: 12.9s\tremaining: 1.73s\n",
      "882:\tlearn: 0.0640599\ttotal: 12.9s\tremaining: 1.71s\n",
      "883:\tlearn: 0.0640465\ttotal: 12.9s\tremaining: 1.7s\n",
      "884:\tlearn: 0.0640303\ttotal: 12.9s\tremaining: 1.68s\n",
      "885:\tlearn: 0.0640149\ttotal: 13s\tremaining: 1.67s\n",
      "886:\tlearn: 0.0639979\ttotal: 13s\tremaining: 1.65s\n",
      "887:\tlearn: 0.0639854\ttotal: 13s\tremaining: 1.64s\n",
      "888:\tlearn: 0.0639629\ttotal: 13s\tremaining: 1.62s\n",
      "889:\tlearn: 0.0639457\ttotal: 13s\tremaining: 1.61s\n",
      "890:\tlearn: 0.0639255\ttotal: 13s\tremaining: 1.59s\n",
      "891:\tlearn: 0.0639125\ttotal: 13s\tremaining: 1.58s\n",
      "892:\tlearn: 0.0638960\ttotal: 13s\tremaining: 1.56s\n",
      "893:\tlearn: 0.0638876\ttotal: 13.1s\tremaining: 1.55s\n",
      "894:\tlearn: 0.0638726\ttotal: 13.1s\tremaining: 1.53s\n",
      "895:\tlearn: 0.0638559\ttotal: 13.1s\tremaining: 1.52s\n",
      "896:\tlearn: 0.0638467\ttotal: 13.1s\tremaining: 1.5s\n",
      "897:\tlearn: 0.0638280\ttotal: 13.1s\tremaining: 1.49s\n",
      "898:\tlearn: 0.0638062\ttotal: 13.1s\tremaining: 1.48s\n",
      "899:\tlearn: 0.0637869\ttotal: 13.1s\tremaining: 1.46s\n",
      "900:\tlearn: 0.0637786\ttotal: 13.2s\tremaining: 1.45s\n",
      "901:\tlearn: 0.0637722\ttotal: 13.2s\tremaining: 1.43s\n",
      "902:\tlearn: 0.0637613\ttotal: 13.2s\tremaining: 1.42s\n",
      "903:\tlearn: 0.0637480\ttotal: 13.2s\tremaining: 1.4s\n",
      "904:\tlearn: 0.0637362\ttotal: 13.2s\tremaining: 1.39s\n",
      "905:\tlearn: 0.0637279\ttotal: 13.2s\tremaining: 1.37s\n",
      "906:\tlearn: 0.0637147\ttotal: 13.2s\tremaining: 1.36s\n",
      "907:\tlearn: 0.0637059\ttotal: 13.3s\tremaining: 1.34s\n",
      "908:\tlearn: 0.0636936\ttotal: 13.3s\tremaining: 1.33s\n",
      "909:\tlearn: 0.0636779\ttotal: 13.3s\tremaining: 1.31s\n",
      "910:\tlearn: 0.0636617\ttotal: 13.3s\tremaining: 1.3s\n",
      "911:\tlearn: 0.0636512\ttotal: 13.3s\tremaining: 1.28s\n",
      "912:\tlearn: 0.0636431\ttotal: 13.3s\tremaining: 1.27s\n",
      "913:\tlearn: 0.0636303\ttotal: 13.3s\tremaining: 1.25s\n",
      "914:\tlearn: 0.0636208\ttotal: 13.3s\tremaining: 1.24s\n",
      "915:\tlearn: 0.0636161\ttotal: 13.4s\tremaining: 1.23s\n",
      "916:\tlearn: 0.0636039\ttotal: 13.4s\tremaining: 1.21s\n",
      "917:\tlearn: 0.0635937\ttotal: 13.4s\tremaining: 1.2s\n",
      "918:\tlearn: 0.0635768\ttotal: 13.4s\tremaining: 1.18s\n",
      "919:\tlearn: 0.0635661\ttotal: 13.4s\tremaining: 1.17s\n",
      "920:\tlearn: 0.0635610\ttotal: 13.4s\tremaining: 1.15s\n",
      "921:\tlearn: 0.0635520\ttotal: 13.4s\tremaining: 1.14s\n",
      "922:\tlearn: 0.0635467\ttotal: 13.4s\tremaining: 1.12s\n",
      "923:\tlearn: 0.0635317\ttotal: 13.5s\tremaining: 1.11s\n",
      "924:\tlearn: 0.0635190\ttotal: 13.5s\tremaining: 1.09s\n",
      "925:\tlearn: 0.0635076\ttotal: 13.5s\tremaining: 1.08s\n",
      "926:\tlearn: 0.0635001\ttotal: 13.5s\tremaining: 1.06s\n",
      "927:\tlearn: 0.0634851\ttotal: 13.5s\tremaining: 1.05s\n",
      "928:\tlearn: 0.0634709\ttotal: 13.5s\tremaining: 1.03s\n",
      "929:\tlearn: 0.0634576\ttotal: 13.5s\tremaining: 1.02s\n",
      "930:\tlearn: 0.0634531\ttotal: 13.6s\tremaining: 1s\n",
      "931:\tlearn: 0.0634472\ttotal: 13.6s\tremaining: 991ms\n",
      "932:\tlearn: 0.0634331\ttotal: 13.6s\tremaining: 976ms\n",
      "933:\tlearn: 0.0634220\ttotal: 13.6s\tremaining: 961ms\n",
      "934:\tlearn: 0.0634098\ttotal: 13.6s\tremaining: 947ms\n",
      "935:\tlearn: 0.0633965\ttotal: 13.6s\tremaining: 932ms\n",
      "936:\tlearn: 0.0633865\ttotal: 13.6s\tremaining: 917ms\n",
      "937:\tlearn: 0.0633726\ttotal: 13.7s\tremaining: 903ms\n",
      "938:\tlearn: 0.0633579\ttotal: 13.7s\tremaining: 888ms\n",
      "939:\tlearn: 0.0633449\ttotal: 13.7s\tremaining: 873ms\n",
      "940:\tlearn: 0.0633283\ttotal: 13.7s\tremaining: 859ms\n",
      "941:\tlearn: 0.0633163\ttotal: 13.7s\tremaining: 844ms\n",
      "942:\tlearn: 0.0633030\ttotal: 13.7s\tremaining: 829ms\n",
      "943:\tlearn: 0.0632996\ttotal: 13.7s\tremaining: 815ms\n",
      "944:\tlearn: 0.0632958\ttotal: 13.8s\tremaining: 800ms\n",
      "945:\tlearn: 0.0632866\ttotal: 13.8s\tremaining: 786ms\n",
      "946:\tlearn: 0.0632712\ttotal: 13.8s\tremaining: 771ms\n",
      "947:\tlearn: 0.0632609\ttotal: 13.8s\tremaining: 757ms\n",
      "948:\tlearn: 0.0632538\ttotal: 13.8s\tremaining: 742ms\n",
      "949:\tlearn: 0.0632493\ttotal: 13.8s\tremaining: 727ms\n",
      "950:\tlearn: 0.0632332\ttotal: 13.8s\tremaining: 713ms\n",
      "951:\tlearn: 0.0632228\ttotal: 13.8s\tremaining: 698ms\n",
      "952:\tlearn: 0.0632080\ttotal: 13.9s\tremaining: 683ms\n",
      "953:\tlearn: 0.0631960\ttotal: 13.9s\tremaining: 669ms\n",
      "954:\tlearn: 0.0631878\ttotal: 13.9s\tremaining: 654ms\n",
      "955:\tlearn: 0.0631752\ttotal: 13.9s\tremaining: 640ms\n",
      "956:\tlearn: 0.0631483\ttotal: 13.9s\tremaining: 625ms\n",
      "957:\tlearn: 0.0631380\ttotal: 13.9s\tremaining: 610ms\n",
      "958:\tlearn: 0.0631243\ttotal: 13.9s\tremaining: 596ms\n",
      "959:\tlearn: 0.0631084\ttotal: 13.9s\tremaining: 581ms\n",
      "960:\tlearn: 0.0630977\ttotal: 14s\tremaining: 567ms\n",
      "961:\tlearn: 0.0630913\ttotal: 14s\tremaining: 552ms\n",
      "962:\tlearn: 0.0630836\ttotal: 14s\tremaining: 538ms\n",
      "963:\tlearn: 0.0630751\ttotal: 14s\tremaining: 523ms\n",
      "964:\tlearn: 0.0630609\ttotal: 14s\tremaining: 509ms\n",
      "965:\tlearn: 0.0630492\ttotal: 14s\tremaining: 494ms\n",
      "966:\tlearn: 0.0630338\ttotal: 14s\tremaining: 479ms\n",
      "967:\tlearn: 0.0630221\ttotal: 14.1s\tremaining: 465ms\n",
      "968:\tlearn: 0.0630013\ttotal: 14.1s\tremaining: 450ms\n",
      "969:\tlearn: 0.0629864\ttotal: 14.1s\tremaining: 436ms\n",
      "970:\tlearn: 0.0629693\ttotal: 14.1s\tremaining: 421ms\n",
      "971:\tlearn: 0.0629653\ttotal: 14.1s\tremaining: 406ms\n",
      "972:\tlearn: 0.0629564\ttotal: 14.1s\tremaining: 392ms\n",
      "973:\tlearn: 0.0629461\ttotal: 14.1s\tremaining: 377ms\n",
      "974:\tlearn: 0.0629428\ttotal: 14.1s\tremaining: 363ms\n",
      "975:\tlearn: 0.0629351\ttotal: 14.2s\tremaining: 348ms\n",
      "976:\tlearn: 0.0629243\ttotal: 14.2s\tremaining: 334ms\n",
      "977:\tlearn: 0.0629168\ttotal: 14.2s\tremaining: 319ms\n",
      "978:\tlearn: 0.0629074\ttotal: 14.2s\tremaining: 305ms\n",
      "979:\tlearn: 0.0628875\ttotal: 14.2s\tremaining: 290ms\n",
      "980:\tlearn: 0.0628791\ttotal: 14.2s\tremaining: 276ms\n",
      "981:\tlearn: 0.0628655\ttotal: 14.2s\tremaining: 261ms\n",
      "982:\tlearn: 0.0628501\ttotal: 14.3s\tremaining: 247ms\n",
      "983:\tlearn: 0.0628379\ttotal: 14.3s\tremaining: 232ms\n",
      "984:\tlearn: 0.0628255\ttotal: 14.3s\tremaining: 218ms\n",
      "985:\tlearn: 0.0628183\ttotal: 14.3s\tremaining: 203ms\n",
      "986:\tlearn: 0.0628009\ttotal: 14.3s\tremaining: 189ms\n",
      "987:\tlearn: 0.0627870\ttotal: 14.3s\tremaining: 174ms\n",
      "988:\tlearn: 0.0627750\ttotal: 14.3s\tremaining: 159ms\n",
      "989:\tlearn: 0.0627643\ttotal: 14.4s\tremaining: 145ms\n",
      "990:\tlearn: 0.0627537\ttotal: 14.4s\tremaining: 130ms\n",
      "991:\tlearn: 0.0627421\ttotal: 14.4s\tremaining: 116ms\n",
      "992:\tlearn: 0.0627297\ttotal: 14.4s\tremaining: 101ms\n",
      "993:\tlearn: 0.0627193\ttotal: 14.4s\tremaining: 87ms\n",
      "994:\tlearn: 0.0627135\ttotal: 14.4s\tremaining: 72.5ms\n",
      "995:\tlearn: 0.0627063\ttotal: 14.4s\tremaining: 58ms\n",
      "996:\tlearn: 0.0626906\ttotal: 14.4s\tremaining: 43.5ms\n",
      "997:\tlearn: 0.0626758\ttotal: 14.5s\tremaining: 29ms\n",
      "998:\tlearn: 0.0626531\ttotal: 14.5s\tremaining: 14.5ms\n",
      "999:\tlearn: 0.0626332\ttotal: 14.5s\tremaining: 0us\n"
     ]
    },
    {
     "data": {
      "text/plain": [
       "<catboost.core.CatBoostClassifier at 0x1f1284485e0>"
      ]
     },
     "execution_count": 146,
     "metadata": {},
     "output_type": "execute_result"
    }
   ],
   "source": [
    "cb.fit(X_train,y_train)"
   ]
  },
  {
   "cell_type": "code",
   "execution_count": 147,
   "id": "bc141e6a",
   "metadata": {},
   "outputs": [],
   "source": [
    "y_pred=cb.predict(X_test)"
   ]
  },
  {
   "cell_type": "code",
   "execution_count": 148,
   "id": "f3c64182",
   "metadata": {},
   "outputs": [
    {
     "data": {
      "text/plain": [
       "0.9701"
      ]
     },
     "execution_count": 148,
     "metadata": {},
     "output_type": "execute_result"
    }
   ],
   "source": [
    "##checking the accuracy\n",
    "\n",
    "from sklearn.metrics import accuracy_score\n",
    "ac=accuracy_score(y_test,y_pred)\n",
    "ac"
   ]
  },
  {
   "cell_type": "code",
   "execution_count": 152,
   "id": "0d7ae81a",
   "metadata": {},
   "outputs": [
    {
     "data": {
      "text/plain": [
       "array([[18257,   532],\n",
       "       [   66,  1145]], dtype=int64)"
      ]
     },
     "execution_count": 152,
     "metadata": {},
     "output_type": "execute_result"
    }
   ],
   "source": [
    "##confusion matrix\n",
    "\n",
    "from sklearn.metrics import confusion_matrix\n",
    "matrix=metrics.confusion_matrix(y_pred,y_test)\n",
    "matrix"
   ]
  },
  {
   "cell_type": "code",
   "execution_count": 149,
   "id": "0e7fe210",
   "metadata": {},
   "outputs": [
    {
     "data": {
      "image/png": "[encoded data removed]",
      "text/plain": [
       "<Figure size 640x480 with 2 Axes>"
      ]
     },
     "metadata": {},
     "output_type": "display_data"
    }
   ],
   "source": [
    "matrix=metrics.confusion_matrix(y_pred,y_test)\n",
    "sns.heatmap(matrix,annot=True,cmap='Greens',fmt='0.1f')\n",
    "plt.xlabel(\"Predicted Values\")\n",
    "plt.ylabel(\"Test Values\")\n",
    "plt.title(\"Confusion Matrix for Cat Boost  model\")\n",
    "plt.show()"
   ]
  },
  {
   "cell_type": "markdown",
   "id": "8594a150",
   "metadata": {},
   "source": [
    "Accuracy:\n",
    "     GaussianNB:90.54\n",
    "     LogisticRegression:95.93\n",
    "     SVC:94.84\n",
    "     KNeighborsClassifier:95.45\n",
    "     DecisionTreeClassifier:95.36\n",
    "     XGBClassifier:97.05\n",
    "     LGBMClassifier:97.19\n",
    "     CatBoostClassifier:97.01"
   ]
  },
  {
   "cell_type": "markdown",
   "id": "40d54add",
   "metadata": {},
   "source": [
    "Thus,from the above results,we can conclude that Logistic Regression model has the best accuracy."
   ]
  }
 ],
 "metadata": {
  "kernelspec": {
   "display_name": "Python 3 (ipykernel)",
   "language": "python",
   "name": "python3"
  },
  "language_info": {
   "codemirror_mode": {
    "name": "ipython",
    "version": 3
   },
   "file_extension": ".py",
   "mimetype": "text/x-python",
   "name": "python",
   "nbconvert_exporter": "python",
   "pygments_lexer": "ipython3",
   "version": "3.10.9"
  }
 },
 "nbformat": 4,
 "nbformat_minor": 5
}
